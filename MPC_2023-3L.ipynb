{
 "cells": [
  {
   "cell_type": "markdown",
   "id": "09366ea8",
   "metadata": {
    "slideshow": {
     "slide_type": "slide"
    }
   },
   "source": [
    "# LP és MIP feladatok megoldása Pythonnal"
   ]
  },
  {
   "cell_type": "markdown",
   "id": "4178be95",
   "metadata": {
    "slideshow": {
     "slide_type": "slide"
    }
   },
   "source": [
    "## Lineáris és egészértékű programozás\n",
    "\n",
    "__Lineáris programozás:__ Lineáris függvény optimalizása lineáris feltételek mellett. Legyen $A\\in\\mathbb{R}^{n\\times n}$ feltételi mátrix, $b\\in\\mathbb{R}^m$ korlátozóvektor és $c\\in\\mathbb{R}^n$ célfüggvény. Olyan $x\\in\\mathbb{R}^n$ vektort keresünk, ami a feltételrendszert kielégítő vektorok közül a célfüggvény szerint maximális. Az $x_i$ változókat __döntési változónak__ hívjuk. A primál lineáris program (**LP**) az alábbi:\n",
    "\n",
    "\\begin{equation}\n",
    "    \\begin{array}{rrcl}\n",
    "        \\max & cx\\\\\n",
    "        \\mathrm{s.t.} &Ax &\\leq &b\\\\\n",
    "        &x&\\geq&0.\n",
    "    \\end{array}\n",
    "\\end{equation}"
   ]
  },
  {
   "cell_type": "markdown",
   "id": "d26c2a82",
   "metadata": {
    "slideshow": {
     "slide_type": "fragment"
    }
   },
   "source": [
    "Erre gondolhatunk a következő formában is:\n",
    "\n",
    "\\begin{equation}\n",
    "    \\begin{array}{rrcll}\n",
    "        \\max & \\sum_{j=1}^nc_jx_j\\\\\n",
    "        \\mathrm{s.t.} &\\sum_{j=1}^na_{ij}x_j &\\leq &b_i&\\forall i=1,\\dots,m\\\\\n",
    "        &x_j&\\geq&0&\\forall j=1,\\dots,n.\n",
    "    \\end{array}\n",
    "\\end{equation}"
   ]
  },
  {
   "cell_type": "markdown",
   "id": "b006eb07",
   "metadata": {
    "slideshow": {
     "slide_type": "fragment"
    }
   },
   "source": [
    "Ekkor az egyenlőtlenségek (hiper-)féltereket jelentenek, ezek metszete az a halmaz, amely felett keressük a célfüggvény optimumát. Ezt primál poliédernek nevezzük."
   ]
  },
  {
   "cell_type": "markdown",
   "id": "fa9ff3c0",
   "metadata": {
    "slideshow": {
     "slide_type": "subslide"
    }
   },
   "source": [
    "A fenti program duálisa:\n",
    "\n",
    "\\begin{equation}\n",
    "    \\begin{array}{rrcl}\n",
    "        \\min & yb\\\\\n",
    "        \\mathrm{s.t.} &yA &\\geq &c\\\\\n",
    "        &y&\\geq&0,\n",
    "    \\end{array}\n",
    "\\end{equation}\n",
    "\n",
    "ahol $y\\in\\mathbb{R}^m$. Ez is átírható szummás alakba:"
   ]
  },
  {
   "cell_type": "markdown",
   "id": "1cf429c2",
   "metadata": {
    "slideshow": {
     "slide_type": "fragment"
    }
   },
   "source": [
    "\\begin{equation}\n",
    "    \\begin{array}{rrcll}\n",
    "        \\min & \\sum_{i=1}^m y_ib_i\\\\\n",
    "        \\mathrm{s.t.} &\\sum_{i=1}^m y_ia_{ij} &\\geq &c_j& \\forall j=1,\\dots,n\\\\\n",
    "        &y_i&\\geq&0&\\forall i=1,\\dots,m.\n",
    "    \\end{array}\n",
    "\\end{equation}"
   ]
  },
  {
   "cell_type": "markdown",
   "id": "e34bf1d1",
   "metadata": {
    "slideshow": {
     "slide_type": "fragment"
    }
   },
   "source": [
    "Az lineáris programozásra vonatkozó __dualitás tétel__ alapján ha a primál és duál közül az egyiknek van véges optimuma, akkor a másiknak is van ($x^*,y^*$), és ekkor\n",
    "\n",
    "$$\n",
    "    y^*b=cx^*.\n",
    "$$\n",
    "\n",
    "Az lineáris programozás geometriai értelmezésében tetszőleges lineáris célfüggvény esetén létezik olyan optimális megoldás, amely a poliéder csúcsa. Ez az alapja a **Simplex módszer**nek."
   ]
  },
  {
   "cell_type": "markdown",
   "id": "f33e97e7",
   "metadata": {
    "slideshow": {
     "slide_type": "subslide"
    }
   },
   "source": [
    "__Egészértékű programozás:__ Az egészértékű programozás alatt a lineáris programozásnak azt a változatát értjük, amelyben néhány döntési változóra egészértékűséget követelünk meg. Például legyen $I\\subseteq 1,\\dots,n$, ekkor a következő optimalizálási feladat egy (vegyes) egészértékű program (**IP** vagy **MIP**):\n",
    "\n",
    "\\begin{equation}\n",
    "    \\begin{array}{rrcll}\n",
    "        \\max & \\sum_{j=1}^nc_jx_j\\\\\n",
    "        \\mathrm{s.t.} &\\sum_{j=1}^na_{ij}x_j &\\leq &b_i&\\forall i=1,\\dots,m\\\\\n",
    "        &x_j&\\geq&0&\\forall j=1,\\dots,n\\\\\n",
    "        &x_j&\\in&\\mathbb{Z}&\\forall j\\in I.\n",
    "    \\end{array}\n",
    "\\end{equation}"
   ]
  },
  {
   "cell_type": "markdown",
   "id": "aa61ff6b",
   "metadata": {
    "slideshow": {
     "slide_type": "subslide"
    }
   },
   "source": [
    "__Algoritmusok:__\n",
    "\n",
    "Lineáris programozás:\n",
    "* Simplex módszer (primál, duál, különböző pivotálási szabályok)\n",
    "* Belsőpontos módszerek:\n",
    "  - Ellipsoid módszer\n",
    "  - Affin skálázás\n",
    "  - Barrier módszerek"
   ]
  },
  {
   "cell_type": "markdown",
   "id": "705201b1",
   "metadata": {
    "slideshow": {
     "slide_type": "fragment"
    }
   },
   "source": [
    "  \n",
    "Egészértékű programozás:\n",
    "* Branch-and-Bound\n",
    "* Vágósíkos eljárások\n",
    "* Branch-and-Cut\n",
    "* Branch-and-Price"
   ]
  },
  {
   "cell_type": "markdown",
   "id": "2d2b36be",
   "metadata": {
    "slideshow": {
     "slide_type": "slide"
    }
   },
   "source": [
    "\n",
    "## Solverek\n",
    "| Open source | Kereskedelmi | \n",
    "| :---:       | :---:        |\n",
    "| GLPK        | CPLEX        |\n",
    "| CLP         | Gurobi       |\n",
    "| CBC         | FICO Xpress  |\n",
    "| stb.        | stb.         |\n",
    "\n",
    "A legtöbb kereskedelmi solverhez elérhető __ingyenes__ academic license."
   ]
  },
  {
   "cell_type": "markdown",
   "id": "85ba89bd",
   "metadata": {
    "slideshow": {
     "slide_type": "slide"
    }
   },
   "source": [
    "## Solverek használata Pythonban\n",
    "Pythonban solverek használatára négy példát fogunk nézni:\n",
    "* SciPy LP solverét\n",
    "* A FICO Xpress solver API-ján keresztül\n",
    "* PyOmo-val\n",
    "* PuLP segítségével"
   ]
  },
  {
   "cell_type": "markdown",
   "id": "d605b203",
   "metadata": {
    "slideshow": {
     "slide_type": "slide"
    }
   },
   "source": [
    "# SciPy LP solver\n",
    "\n",
    "A `scipy` package `optimize` moduljából a `linprog` függvényt használjuk. Mikor jó ez? Ha valaki olyan alakú feladatot akar megoldani, hogy\n",
    "\n",
    "\\begin{equation}\n",
    "    \\begin{array}{rrcl}\n",
    "        \\max & cx\\\\\n",
    "        \\mathrm{s.t.} &A_{\\leq}x &\\leq &b_{\\leq}\\\\\n",
    "        &A_=x&=&b_=\\\\\n",
    "        &x&\\geq&l \\\\\n",
    "        &x&\\leq&u,\n",
    "    \\end{array}\n",
    "\\end{equation}"
   ]
  },
  {
   "cell_type": "markdown",
   "id": "340aaacc",
   "metadata": {
    "slideshow": {
     "slide_type": "fragment"
    }
   },
   "source": [
    "ahol az $A_\\leq,A_=$ feltételi mátrixok, $b_\\leq,b_=$ korlátozó vektorok, $l,u$ alsó és felső korlátok és $c$ költségfüggvény **explicit** adottak. "
   ]
  },
  {
   "cell_type": "markdown",
   "id": "4121ed7b",
   "metadata": {
    "slideshow": {
     "slide_type": "fragment"
    }
   },
   "source": [
    "A függvény bemenetként `numpy` arrayeket vár, és kimenetként egy dictionaryt ad vissza, amely a megoldásról tartalmaz adatokat ($x^*$ optimális megoldást, optimum értéket, iterációk számát stb.). A függvény hívásakor lehet a megoldási módszert is kiválasztani, itt lehet válogatni különböző simplex variácók közül illetve belső pontos módszer használata a default megoldási eljárás. (Az implementáció a HiGHS solveré.)"
   ]
  },
  {
   "cell_type": "markdown",
   "id": "7c9fec1a",
   "metadata": {
    "slideshow": {
     "slide_type": "subslide"
    }
   },
   "source": [
    "Ezzel abban az esetben tudunk egészértékűségi korlátokat megadni, ha a HiGHS megoldót használjuk. Sajnos ez teljesítményben elmarad a keresekdelmi solverektől, pl. ld. http://plato.asu.edu/ftp/milp.html.\n",
    "\n",
    "A függvény szignatúrája:"
   ]
  },
  {
   "cell_type": "markdown",
   "id": "ae2b8852",
   "metadata": {
    "slideshow": {
     "slide_type": "fragment"
    }
   },
   "source": [
    "```python\n",
    "scipy.optimize.linprog(c,\n",
    "                       A_ub=None,\n",
    "                       b_ub=None,\n",
    "                       A_eq=None,\n",
    "                       b_eq=None,\n",
    "                       bounds=None,\n",
    "                       method='interior-point',\n",
    "                       callback=None,\n",
    "                       options=None,\n",
    "                       x0=None)\n",
    "```\n",
    "Ehhez útmutató: https://docs.scipy.org/doc/scipy/reference/generated/scipy.optimize.linprog.html"
   ]
  },
  {
   "cell_type": "markdown",
   "id": "c3ccb998",
   "metadata": {
    "slideshow": {
     "slide_type": "slide"
    }
   },
   "source": [
    "## Keverési feladat\n",
    "**A feladat:**\n",
    "Példaként egy keverési feladaton fogjuk megnézni, hogy hogyan kellene a SciPy LP solverével modellezni és megoldani.\n",
    "Tegyük fel, hogy egy macskatápot szeretnénk kikeverni.\n",
    "\n",
    "| Alapanyag    | Fehérje (g) | Zsír (g) | Rost (g) | Só (g) |\n",
    "| :-----       | :---------- | :------- | :------- | :----- |\n",
    "| Csirke (g)   | 0.1         | 0.08     | 0.001    | 0.002  |\n",
    "| Marha (g)    | 0.2         | 0.1      | 0.005    | 0.005  |\n",
    "| Birka (g)    | 0.15        | 0.11     | 0.003    | 0.007  |\n",
    "| Rizs (g)     | 0.000       | 0.01     | 0.1      | 0.002  |\n",
    "| Korpa (g)    | 0.04        | 0.01     | 0.15     | 0.008  |\n",
    "| Zselatin (g) | 0           | 0        | 0        | 0           |"
   ]
  },
  {
   "cell_type": "markdown",
   "id": "0454c862",
   "metadata": {
    "slideshow": {
     "slide_type": "subslide"
    }
   },
   "source": [
    "Az alapanyagok költsége:\n",
    "\n",
    "| &nbsp;  | Csirke (g) | Marha (g) | Birka (g) | Rizs (g) | Korpa (g) | Zselatin (g) |\n",
    "| ---  | :--------: | :-------: | :-------: | :------: | :-------: | :----------: |\n",
    "|Költség ($) | 0.013 | 0.008 | 0.010 | 0.002 | 0.005 | 0.001 |"
   ]
  },
  {
   "cell_type": "markdown",
   "id": "dee40ced",
   "metadata": {
    "slideshow": {
     "slide_type": "fragment"
    }
   },
   "source": [
    "Tudjuk továbbá, hogy egy konzerv macskatáp pontosan 100 gram, és a tápanyagokból megfelelő mennyiséget tartalmaz, amit az alábbi táblázatban láthatunk:\n",
    "\n",
    "| Tápanyag | Mennyiség (g) |\n",
    "| -------  | :-----        |\n",
    "| Fehérje  | min. 8        |\n",
    "| Zsír     | min. 6        |\n",
    "| Rost     | max. 2        |\n",
    "| Só       | max. 0.4      |\n",
    "\n",
    "A cél elkészíteni egy keveréket az alapanyagokból, amely megfelel a fenti tápanyagkövetelményeknek, és a lehető legolcsóbb."
   ]
  },
  {
   "cell_type": "markdown",
   "id": "e8e7c0fe",
   "metadata": {
    "slideshow": {
     "slide_type": "subslide"
    }
   },
   "source": [
    "**A modell:** Legyenek a döntési változóink $x_1,x_2,x_3,x_4,x_5,x_6$, ahol a változók jelentése az alábbi:\n",
    "\n",
    "| Változó | Alapanyag (g) |\n",
    "| ------- | :----------   |\n",
    "| $x_1$   | Csirke        |\n",
    "| $x_2$   | Marha         |\n",
    "| $x_3$   | Birka         |\n",
    "| $x_4$   | Rizs          |\n",
    "| $x_5$   | Korpa         |\n",
    "| $x_6$   | Zselatin      |\n",
    "\n",
    "Célunk a lehető legolcsóbban előállítani a macskatápot, ezért a célfüggvény\n",
    "\n",
    "$$\n",
    "    \\min 0.013 x_1+0.008 x_2 + 0.01 x_3+0.002 x_4+0.005 x_5+0.001 x_6.\n",
    "$$"
   ]
  },
  {
   "cell_type": "markdown",
   "id": "b2dd9f39",
   "metadata": {
    "slideshow": {
     "slide_type": "subslide"
    }
   },
   "source": [
    "Tudjuk továbbá, hogy pontosan 100 g a nettó tömege egy konzerv tápnak, ezért azt az egyenletet felvehetjük a feltételeink listájába, hogy\n",
    "\n",
    "$$\n",
    "    x_1+x_2+x_3+x_4+x_5+x_6 = 100.\n",
    "$$"
   ]
  },
  {
   "cell_type": "markdown",
   "id": "bebbc7d8",
   "metadata": {
    "slideshow": {
     "slide_type": "subslide"
    }
   },
   "source": [
    "Az alapanyagok tápanyagtartalma és a keverékre vonatkozó tápanyagkövetelmények alapján azt kapjuk, hogy a fehérjetartalmora vonatkozó korlát\n",
    "\n",
    "$$\n",
    "    0.1x_1+0.2x_2+0.15x_3+0.04x_5 \\geq 8,\n",
    "$$\n",
    "\n",
    "ahol a rizst és a zselatint kihagytam a korlátból, mivel a fehérjetartalmuk 0. A zsírtartalomra vonatkozó korlát\n",
    "\n",
    "$$\n",
    "    0.08x_1+0.1x_2+0.11x_3+0.01x_4+0.01x_5\\geq 6,\n",
    "$$"
   ]
  },
  {
   "cell_type": "markdown",
   "id": "193527ff",
   "metadata": {
    "slideshow": {
     "slide_type": "fragment"
    }
   },
   "source": [
    "a rosttartalomra vonatkozó korlát\n",
    "\n",
    "$$\n",
    "    0.001x_1+0.005x_2+0.003x_3+0.1x_4+0.15x_5\\leq 2,\n",
    "$$"
   ]
  },
  {
   "cell_type": "markdown",
   "id": "2fcce3ae",
   "metadata": {
    "slideshow": {
     "slide_type": "fragment"
    }
   },
   "source": [
    "a sótartalomra vonatkozó korlát pedig\n",
    "\n",
    "$$\n",
    "    0.002x_1+0.005x_2+0.007x_3+0.002x_4+0.008x_5 \\leq 0.4.\n",
    "$$"
   ]
  },
  {
   "cell_type": "markdown",
   "id": "b5dd2c52",
   "metadata": {
    "slideshow": {
     "slide_type": "slide"
    }
   },
   "source": [
    "## Átírás mátrix alakra: \n",
    "A `scipy.optimize.linprog` által támogatott mátrixos alakra átírjuk a fenti korlátokat."
   ]
  },
  {
   "cell_type": "code",
   "execution_count": 32,
   "id": "21f3829b",
   "metadata": {
    "ExecuteTime": {
     "end_time": "2023-03-22T09:45:52.565641Z",
     "start_time": "2023-03-22T09:45:52.553641Z"
    },
    "slideshow": {
     "slide_type": "fragment"
    }
   },
   "outputs": [],
   "source": [
    "import numpy as np\n",
    "from scipy.optimize import linprog"
   ]
  },
  {
   "cell_type": "markdown",
   "id": "2603e84a",
   "metadata": {
    "slideshow": {
     "slide_type": "fragment"
    }
   },
   "source": [
    "A célfüggvény:"
   ]
  },
  {
   "cell_type": "code",
   "execution_count": 33,
   "id": "03886182",
   "metadata": {
    "ExecuteTime": {
     "end_time": "2023-03-22T09:45:52.645398Z",
     "start_time": "2023-03-22T09:45:52.637420Z"
    },
    "slideshow": {
     "slide_type": "fragment"
    }
   },
   "outputs": [],
   "source": [
    "c = np.array([0.013, 0.008, 0.010, 0.002, 0.005, 0.001])"
   ]
  },
  {
   "cell_type": "markdown",
   "id": "9729dc57",
   "metadata": {
    "slideshow": {
     "slide_type": "fragment"
    }
   },
   "source": [
    "Az $A_=$ feltételi mátrix és a $b_=$ korlátozóvektor:"
   ]
  },
  {
   "cell_type": "code",
   "execution_count": 34,
   "id": "10e310f6",
   "metadata": {
    "ExecuteTime": {
     "end_time": "2023-03-22T09:45:52.740311Z",
     "start_time": "2023-03-22T09:45:52.728346Z"
    },
    "slideshow": {
     "slide_type": "fragment"
    }
   },
   "outputs": [],
   "source": [
    "Aeq = np.array([[1,1,1,1,1,1]])\n",
    "beq = np.array([100])"
   ]
  },
  {
   "cell_type": "markdown",
   "id": "2b4e3b6e",
   "metadata": {
    "slideshow": {
     "slide_type": "subslide"
    }
   },
   "source": [
    "Az $A_\\leq$ feltételi mátrix létrehozásánál figyelnünk kell arra, hogy a függvény $A_\\leq x\\leq b_\\leq$ alakban várja a feltételeket, ezért azokat a sorokat, amelyekben $\\geq$ szerepel, meg kell szoroznunk $-1$-gyel:"
   ]
  },
  {
   "cell_type": "code",
   "execution_count": 35,
   "id": "a638a706",
   "metadata": {
    "ExecuteTime": {
     "end_time": "2023-03-22T09:45:52.836055Z",
     "start_time": "2023-03-22T09:45:52.821095Z"
    },
    "slideshow": {
     "slide_type": "fragment"
    }
   },
   "outputs": [],
   "source": [
    "Aieq = np.array([[-0.100, -0.200, -0.150,  0.000, -0.040,  0.000],\n",
    "                 [-0.080, -0.100, -0.110, -0.010, -0.010,  0.000],\n",
    "                 [ 0.001,  0.005,  0.003,  0.100,  0.150,  0.000],\n",
    "                 [ 0.002,  0.005,  0.007,  0.002,  0.008,  0.000]])\n",
    "\n",
    "bieq = np.array([-8.0,\n",
    "                 -6.0,\n",
    "                  2.0,\n",
    "                  0.4])"
   ]
  },
  {
   "cell_type": "markdown",
   "id": "a7300ecb",
   "metadata": {
    "slideshow": {
     "slide_type": "subslide"
    }
   },
   "source": [
    "Ezután nincs más dolgunk, mint odaadni a függvénynek mint input:"
   ]
  },
  {
   "cell_type": "code",
   "execution_count": 36,
   "id": "b208f73c",
   "metadata": {
    "ExecuteTime": {
     "end_time": "2023-03-22T09:45:52.945793Z",
     "start_time": "2023-03-22T09:45:52.917836Z"
    },
    "slideshow": {
     "slide_type": "fragment"
    }
   },
   "outputs": [
    {
     "data": {
      "text/plain": [
       "     con: array([6.29560759e-09])\n",
       "     fun: 0.5200000026527398\n",
       " message: 'Optimization terminated successfully.'\n",
       "     nit: 8\n",
       "   slack: array([3.99999998e+00, 8.83075391e-09, 1.69999997e+00, 9.99999972e-02])\n",
       "  status: 0\n",
       " success: True\n",
       "       x: array([8.63787793e-08, 5.99999994e+01, 5.64719718e-07, 2.01189816e-08,\n",
       "       2.26632479e-07, 3.99999997e+01])"
      ]
     },
     "execution_count": 36,
     "metadata": {},
     "output_type": "execute_result"
    }
   ],
   "source": [
    "blend = linprog(c, Aieq, bieq, Aeq, beq)\n",
    "blend"
   ]
  },
  {
   "cell_type": "markdown",
   "id": "39d1a5d4",
   "metadata": {
    "slideshow": {
     "slide_type": "fragment"
    }
   },
   "source": [
    "Ez azt jelenti, hogy nagyjából __60 gram__ marhahús és __40 gram__ zselatin felhasználásával lehet a legolcsóbban, __0.52 dollárért__ előállítani egy konzerv macskatápot."
   ]
  },
  {
   "cell_type": "markdown",
   "id": "199d2bd2",
   "metadata": {
    "slideshow": {
     "slide_type": "slide"
    }
   },
   "source": [
    "# Solver API (FICO Xpress)\n",
    "\n",
    "A legtöbb kereskedelmi és open source solvernek a funkcionalitását el tudjuk érni a népszerűbb programozási nyelveken (mint például C, C++, Java, Python stb.) keresztül is, úgynevezett API (Application Programming Interface). Ehhez szükséges általában, hogy telepítve legyen a solver és a solver és python kommunikációjához szükséges python csomag az adott számítógépre."
   ]
  },
  {
   "cell_type": "markdown",
   "id": "b926e248",
   "metadata": {
    "slideshow": {
     "slide_type": "fragment"
    }
   },
   "source": [
    "Az előnye ennek, hogy maximálisan ki lehet használni a solver nyújtotta funkcionalitást, a hátránya pedig hogy ismerni kell hozzá a solver API-ját (ami solverenként eltérő lehet, kisebb-nagyobb hasonlóságokkal)."
   ]
  },
  {
   "cell_type": "markdown",
   "id": "ab074b40",
   "metadata": {
    "slideshow": {
     "slide_type": "fragment"
    }
   },
   "source": [
    "Példaként a FICO Xpress solvert fogjuk megnézni (de nézhetnénk akár Gurobit, Cplexet vagy GLPK-t is).\n",
    "Ehhez útmutató: https://www.msi-jp.com/xpress/learning/square/01-python-interface.pdf"
   ]
  },
  {
   "cell_type": "markdown",
   "id": "947aa0c7",
   "metadata": {
    "slideshow": {
     "slide_type": "fragment"
    }
   },
   "source": [
    "Xpressben a modellt egy `problem` objektumban tároljuk, ami döntési változók és korlátok sokasága. Itt már nem kell törődnünk azzal, hogy megfelelő alakú mátrixként adjuk a solvernek a korlátjainkat, a korlátok mátrix-szá alakítását már a program végzi el helyettünk, ezzel sokkal kényelmesebb és rugalmasabb modellezést téve lehetővé. (Természetesen elfogad mátrix formában is feltételeket.) "
   ]
  },
  {
   "cell_type": "markdown",
   "id": "dea3fd35",
   "metadata": {
    "slideshow": {
     "slide_type": "fragment"
    }
   },
   "source": [
    "Lássuk az előző feladatot Xpress-szel megoldva!"
   ]
  },
  {
   "cell_type": "code",
   "execution_count": 37,
   "id": "fb2b2ac2",
   "metadata": {
    "ExecuteTime": {
     "end_time": "2023-03-22T09:45:53.483687Z",
     "start_time": "2023-03-22T09:45:53.468729Z"
    },
    "slideshow": {
     "slide_type": "subslide"
    }
   },
   "outputs": [],
   "source": [
    "# Adatok\n",
    "c = np.array([0.013, 0.008, 0.010, 0.002, 0.005, 0.001])\n",
    "\n",
    "Aeq = np.array([[1,1,1,1,1,1]])\n",
    "\n",
    "beq = np.array([100])\n",
    "\n",
    "Aieq = np.array([[-0.1, -0.2, -0.15, 0, -0.04, 0],\n",
    "                 [-0.08, -0.1 , -0.11, -0.01, -0.01, 0],\n",
    "                 [0.001, 0.005, 0.003, 0.1, 0.15, 0],\n",
    "                 [0.002, 0.005, 0.007, 0.002, 0.008, 0]])\n",
    "\n",
    "bieq = np.array([-8,\n",
    "                 -6,\n",
    "                  2,\n",
    "                  0.4])"
   ]
  },
  {
   "cell_type": "code",
   "execution_count": 38,
   "id": "3f1cb114",
   "metadata": {
    "ExecuteTime": {
     "end_time": "2023-03-22T09:45:53.515603Z",
     "start_time": "2023-03-22T09:45:53.485683Z"
    },
    "slideshow": {
     "slide_type": "subslide"
    }
   },
   "outputs": [],
   "source": [
    "import xpress as xp"
   ]
  },
  {
   "cell_type": "markdown",
   "id": "59b7bb3a",
   "metadata": {
    "ExecuteTime": {
     "end_time": "2023-03-22T09:04:26.222449Z",
     "start_time": "2023-03-22T09:04:25.884354Z"
    },
    "slideshow": {
     "slide_type": "fragment"
    }
   },
   "source": [
    "Létrehozom a probléma példányt"
   ]
  },
  {
   "cell_type": "code",
   "execution_count": 39,
   "id": "0947e294",
   "metadata": {
    "ExecuteTime": {
     "end_time": "2023-03-22T09:45:53.595390Z",
     "start_time": "2023-03-22T09:45:53.578435Z"
    },
    "slideshow": {
     "slide_type": "fragment"
    }
   },
   "outputs": [
    {
     "name": "stdout",
     "output_type": "stream",
     "text": [
      "\n"
     ]
    }
   ],
   "source": [
    "prob = xp.problem()"
   ]
  },
  {
   "cell_type": "markdown",
   "id": "1f682269",
   "metadata": {
    "ExecuteTime": {
     "end_time": "2023-03-22T09:04:26.222449Z",
     "start_time": "2023-03-22T09:04:25.884354Z"
    },
    "slideshow": {
     "slide_type": "fragment"
    }
   },
   "source": [
    "Létrehozok változókat"
   ]
  },
  {
   "cell_type": "code",
   "execution_count": 40,
   "id": "094ae09f",
   "metadata": {
    "ExecuteTime": {
     "end_time": "2023-03-22T09:45:53.691133Z",
     "start_time": "2023-03-22T09:45:53.683154Z"
    },
    "slideshow": {
     "slide_type": "fragment"
    }
   },
   "outputs": [],
   "source": [
    "x = np.array([xp.var() for _ in range(6)])"
   ]
  },
  {
   "cell_type": "markdown",
   "id": "cd4d0755",
   "metadata": {
    "ExecuteTime": {
     "end_time": "2023-03-22T09:04:26.222449Z",
     "start_time": "2023-03-22T09:04:25.884354Z"
    },
    "slideshow": {
     "slide_type": "fragment"
    }
   },
   "source": [
    "Hozzáadom a problémához a változókat "
   ]
  },
  {
   "cell_type": "code",
   "execution_count": 41,
   "id": "5a2fc176",
   "metadata": {
    "ExecuteTime": {
     "end_time": "2023-03-22T09:45:53.801855Z",
     "start_time": "2023-03-22T09:45:53.788875Z"
    },
    "slideshow": {
     "slide_type": "fragment"
    }
   },
   "outputs": [],
   "source": [
    "prob.addVariable(x)"
   ]
  },
  {
   "cell_type": "markdown",
   "id": "0859de6e",
   "metadata": {
    "ExecuteTime": {
     "end_time": "2023-03-22T09:04:26.222449Z",
     "start_time": "2023-03-22T09:04:25.884354Z"
    },
    "slideshow": {
     "slide_type": "subslide"
    }
   },
   "source": [
    "Beállítom a célfüggvényt a költség minimalizálására"
   ]
  },
  {
   "cell_type": "code",
   "execution_count": 42,
   "id": "2d41263c",
   "metadata": {
    "ExecuteTime": {
     "end_time": "2023-03-22T09:45:53.911543Z",
     "start_time": "2023-03-22T09:45:53.895586Z"
    },
    "slideshow": {
     "slide_type": "fragment"
    }
   },
   "outputs": [],
   "source": [
    "prob.setObjective(xp.Dot(c, x), sense=xp.minimize)"
   ]
  },
  {
   "cell_type": "markdown",
   "id": "2c2cfc56",
   "metadata": {
    "ExecuteTime": {
     "end_time": "2023-03-22T09:04:26.222449Z",
     "start_time": "2023-03-22T09:04:25.884354Z"
    },
    "slideshow": {
     "slide_type": "fragment"
    }
   },
   "source": [
    "Hozzáadom a nettó tömegre vonatkozó egyenletet mint korlát"
   ]
  },
  {
   "cell_type": "code",
   "execution_count": 43,
   "id": "5a2cf9ea",
   "metadata": {
    "ExecuteTime": {
     "end_time": "2023-03-22T09:45:54.007288Z",
     "start_time": "2023-03-22T09:45:54.003299Z"
    },
    "slideshow": {
     "slide_type": "fragment"
    }
   },
   "outputs": [],
   "source": [
    "prob.addConstraint(xp.Dot(Aeq, x) == beq)"
   ]
  },
  {
   "cell_type": "markdown",
   "id": "362556b4",
   "metadata": {
    "ExecuteTime": {
     "end_time": "2023-03-22T09:04:26.222449Z",
     "start_time": "2023-03-22T09:04:25.884354Z"
    },
    "slideshow": {
     "slide_type": "fragment"
    }
   },
   "source": [
    "Hozzáadom a tápanyagtartalomra vonatkozó korlátokat"
   ]
  },
  {
   "cell_type": "code",
   "execution_count": 44,
   "id": "74d49ff5",
   "metadata": {
    "ExecuteTime": {
     "end_time": "2023-03-22T09:45:54.133949Z",
     "start_time": "2023-03-22T09:45:54.116995Z"
    },
    "slideshow": {
     "slide_type": "fragment"
    }
   },
   "outputs": [],
   "source": [
    "prob.addConstraint(xp.Dot(Aieq, x) <= bieq)"
   ]
  },
  {
   "cell_type": "code",
   "execution_count": 45,
   "id": "bb1e0a3f",
   "metadata": {
    "ExecuteTime": {
     "end_time": "2023-03-22T09:45:54.165863Z",
     "start_time": "2023-03-22T09:45:54.135944Z"
    },
    "scrolled": true,
    "slideshow": {
     "slide_type": "subslide"
    }
   },
   "outputs": [
    {
     "name": "stdout",
     "output_type": "stream",
     "text": [
      "FICO Xpress v8.11.3, Hyper, solve started 10:45:54, Mar 22, 2023\n",
      "Heap usage: 339KB (peak 339KB, 546KB system)\n",
      "Minimizing LP noname with these control settings:\n",
      "OUTPUTLOG = 1\n",
      "Original problem has:\n",
      "         5 rows            6 cols           25 elements\n",
      "Presolved problem has:\n",
      "         5 rows            6 cols           25 elements\n",
      "Presolve finished in 0 seconds\n",
      "Heap usage: 340KB (peak 352KB, 547KB system)\n",
      "\n",
      "Coefficient range                    original                 solved        \n",
      "  Coefficients   [min,max] : [ 1.00e-03,  1.00e+00] / [ 4.00e-03,  1.00e+00]\n",
      "  RHS and bounds [min,max] : [ 4.00e-01,  1.00e+02] / [ 8.00e+00,  1.00e+02]\n",
      "  Objective      [min,max] : [ 1.00e-03,  1.30e-02] / [ 1.00e-03,  1.30e-02]\n",
      "Autoscaling applied standard scaling\n",
      "\n",
      " \n",
      "   Its         Obj Value      S   Ninf  Nneg   Sum Dual Inf  Time\n",
      "     0           .000000      D      3     0        .000000     0\n",
      "     2           .520000      D      0     0        .000000     0\n",
      "Uncrunching matrix\n",
      "Optimal solution found\n",
      "Dual solved problem\n",
      "  2 simplex iterations in 0s\n",
      "\n",
      "Final objective                       : 5.200000000000000e-01\n",
      "  Max primal violation      (abs/rel) :       0.0 /       0.0\n",
      "  Max dual violation        (abs/rel) :       0.0 /       0.0\n",
      "  Max complementarity viol. (abs/rel) :       0.0 /       0.0\n"
     ]
    },
    {
     "data": {
      "text/plain": [
       "array([ 0., 60.,  0.,  0.,  0., 40.])"
      ]
     },
     "execution_count": 45,
     "metadata": {},
     "output_type": "execute_result"
    }
   ],
   "source": [
    "# Megoldom\n",
    "prob.solve()\n",
    "\n",
    "# Visszatérek a megoldással\n",
    "prob.getSolution(x)"
   ]
  },
  {
   "cell_type": "markdown",
   "id": "88156bba",
   "metadata": {
    "slideshow": {
     "slide_type": "subslide"
    }
   },
   "source": [
    "Mi történne, ha hozzá akarnék adni még egy olyan korlátot, hogy a marhahús és zselatin össztömege 100 gramban nem haladhatja meg a 90 gramot? Módosítanom kellene a kezdeti feltételi mátrixot, amihez már nem akarok nyúlni. Szerencsére hozzáadhatok még egy korlátot könnyedén:"
   ]
  },
  {
   "cell_type": "code",
   "execution_count": 46,
   "id": "56f737b4",
   "metadata": {
    "ExecuteTime": {
     "end_time": "2023-03-22T09:45:54.276567Z",
     "start_time": "2023-03-22T09:45:54.254663Z"
    },
    "slideshow": {
     "slide_type": "fragment"
    }
   },
   "outputs": [
    {
     "name": "stdout",
     "output_type": "stream",
     "text": [
      "FICO Xpress v8.11.3, Hyper, solve started 10:45:54, Mar 22, 2023\n",
      "Heap usage: 2610KB (peak 2610KB, 547KB system)\n",
      "Minimizing LP noname with these control settings:\n",
      "OUTPUTLOG = 1\n",
      "Original problem has:\n",
      "         6 rows            6 cols           27 elements\n",
      "Presolved problem has:\n",
      "         6 rows            6 cols           27 elements\n",
      "Presolve finished in 0 seconds\n",
      "Heap usage: 2610KB (peak 2610KB, 547KB system)\n",
      "\n",
      "Coefficient range                    original                 solved        \n",
      "  Coefficients   [min,max] : [ 1.00e-03,  1.00e+00] / [ 4.00e-03,  1.00e+00]\n",
      "  RHS and bounds [min,max] : [ 4.00e-01,  1.00e+02] / [ 8.00e+00,  1.00e+02]\n",
      "  Objective      [min,max] : [ 1.00e-03,  1.30e-02] / [ 1.00e-03,  1.30e-02]\n",
      "Autoscaling applied standard scaling\n",
      "\n",
      " \n",
      "   Its         Obj Value      S   Ninf  Nneg   Sum Dual Inf  Time\n",
      "     0           .520000      D      1     0        .000000     0\n",
      "     1           .523000      D      0     0        .000000     0\n",
      "Uncrunching matrix\n",
      "Optimal solution found\n",
      "Dual solved problem\n",
      "  1 simplex iterations in 0s\n",
      "\n",
      "Final objective                       : 5.230000000000000e-01\n",
      "  Max primal violation      (abs/rel) :       0.0 /       0.0\n",
      "  Max dual violation        (abs/rel) :       0.0 /       0.0\n",
      "  Max complementarity viol. (abs/rel) :       0.0 /       0.0\n"
     ]
    },
    {
     "data": {
      "text/plain": [
       "array([ 0., 59.,  0., 10.,  0., 31.])"
      ]
     },
     "execution_count": 46,
     "metadata": {},
     "output_type": "execute_result"
    }
   ],
   "source": [
    "# Hozzáadok egy új korlátot\n",
    "prob.addConstraint(x[1]+x[5] <= 90)\n",
    "\n",
    "# És egoldom újra\n",
    "prob.solve()\n",
    "prob.getSolution(x)"
   ]
  },
  {
   "cell_type": "markdown",
   "id": "7e5a7107",
   "metadata": {
    "slideshow": {
     "slide_type": "subslide"
    }
   },
   "source": [
    "Sőt, a változókat nem kötelező tömbben vagy listában tárolni, bármilyen iterálható objektumban (vagy akár önállóan is) elérhetők. _(Pl. ráírhatnám őket egy gráf csúcsaira vagy éleire is.)_ A fenti példát átírom egy sokkal átláthatóbb alakra:"
   ]
  },
  {
   "cell_type": "code",
   "execution_count": 47,
   "id": "0ad099b5",
   "metadata": {
    "ExecuteTime": {
     "end_time": "2023-03-22T09:45:54.404261Z",
     "start_time": "2023-03-22T09:45:54.378328Z"
    },
    "slideshow": {
     "slide_type": "fragment"
    }
   },
   "outputs": [
    {
     "name": "stdout",
     "output_type": "stream",
     "text": [
      "\n"
     ]
    }
   ],
   "source": [
    "# Létrehozom a változókat és egy dictionaryben eltárolom őket\n",
    "x = {\"CSIRKE\"    : xp.var(),\n",
    "     \"MARHA\"     : xp.var(),\n",
    "     \"BIRKA\"     : xp.var(),\n",
    "     \"RIZS\"      : xp.var(),\n",
    "     \"KORPA\"     : xp.var(),\n",
    "     \"ZSELATIN\"  : xp.var()}\n",
    "\n",
    "# Létrehozom a problémát\n",
    "prob = xp.problem(x)\n",
    "\n",
    "# Beállítom a célfüggvényt\n",
    "prob.setObjective(0.013*x[\"CSIRKE\"]+0.008*x[\"MARHA\"]+0.1*x[\"BIRKA\"]+0.002*x[\"RIZS\"]+0.002*x[\"KORPA\"]+0.001*x[\"ZSELATIN\"],\n",
    "                  sense=xp.minimize)\n",
    "\n",
    "# Hozzáadom a nettó tömegre vonatkozó korlátot\n",
    "prob.addConstraint(xp.Sum(x) == 100)\n",
    "\n",
    "# Hozzáadom a tápanyagtartalomra vonatkozó korlátokat\n",
    "prob.addConstraint(0.1*x[\"CSIRKE\"]+0.2*x[\"MARHA\"]+0.15*x[\"BIRKA\"]+0.04*x[\"KORPA\"] >= 8) # Fehérje\n",
    "\n",
    "prob.addConstraint(0.08*x[\"CSIRKE\"]+0.1*x[\"MARHA\"]+0.11*x[\"BIRKA\"]+0.01*x[\"RIZS\"]+0.01*x[\"KORPA\"] >= 6) # Zsír\n",
    "\n",
    "prob.addConstraint(0.001*x[\"CSIRKE\"]+0.005*x[\"MARHA\"]+0.003*x[\"BIRKA\"]+0.1*x[\"RIZS\"]+0.15*x[\"KORPA\"] <= 2) # Rost\n",
    "\n",
    "prob.addConstraint(0.002*x[\"CSIRKE\"]+0.005*x[\"MARHA\"]+0.007*x[\"BIRKA\"]+0.002*x[\"RIZS\"]+0.008*x[\"KORPA\"] <= 0.4) # Só"
   ]
  },
  {
   "cell_type": "code",
   "execution_count": 48,
   "id": "dd6791a9",
   "metadata": {
    "ExecuteTime": {
     "end_time": "2023-03-22T09:45:54.436141Z",
     "start_time": "2023-03-22T09:45:54.406220Z"
    },
    "slideshow": {
     "slide_type": "subslide"
    }
   },
   "outputs": [
    {
     "name": "stdout",
     "output_type": "stream",
     "text": [
      "FICO Xpress v8.11.3, Hyper, solve started 10:45:54, Mar 22, 2023\n",
      "Heap usage: 340KB (peak 340KB, 548KB system)\n",
      "Minimizing LP noname with these control settings:\n",
      "OUTPUTLOG = 1\n",
      "Original problem has:\n",
      "         5 rows            6 cols           25 elements\n",
      "Presolved problem has:\n",
      "         5 rows            6 cols           25 elements\n",
      "Presolve finished in 0 seconds\n",
      "Heap usage: 341KB (peak 353KB, 550KB system)\n",
      "\n",
      "Coefficient range                    original                 solved        \n",
      "  Coefficients   [min,max] : [ 1.00e-03,  1.00e+00] / [ 4.00e-03,  1.00e+00]\n",
      "  RHS and bounds [min,max] : [ 4.00e-01,  1.00e+02] / [ 8.00e+00,  1.00e+02]\n",
      "  Objective      [min,max] : [ 1.00e-03,  1.00e-01] / [ 1.00e-03,  1.00e-01]\n",
      "Autoscaling applied standard scaling\n",
      "\n",
      " \n",
      "   Its         Obj Value      S   Ninf  Nneg   Sum Dual Inf  Time\n",
      "     0           .000000      D      3     0        .000000     0\n",
      "     2           .520000      D      0     0        .000000     0\n",
      "Uncrunching matrix\n",
      "Optimal solution found\n",
      "Dual solved problem\n",
      "  2 simplex iterations in 0s\n",
      "\n",
      "Final objective                       : 5.200000000000000e-01\n",
      "  Max primal violation      (abs/rel) :       0.0 /       0.0\n",
      "  Max dual violation        (abs/rel) :       0.0 /       0.0\n",
      "  Max complementarity viol. (abs/rel) :       0.0 /       0.0\n"
     ]
    },
    {
     "data": {
      "text/plain": [
       "{'CSIRKE': 0.0,\n",
       " 'MARHA': 60.0,\n",
       " 'BIRKA': 0.0,\n",
       " 'RIZS': 0.0,\n",
       " 'KORPA': 0.0,\n",
       " 'ZSELATIN': 40.0}"
      ]
     },
     "execution_count": 48,
     "metadata": {},
     "output_type": "execute_result"
    }
   ],
   "source": [
    "# Megoldom\n",
    "prob.solve()\n",
    "\n",
    "# Visszaadom a megoldást\n",
    "prob.getSolution(x)"
   ]
  },
  {
   "cell_type": "markdown",
   "id": "98d2ee33",
   "metadata": {
    "slideshow": {
     "slide_type": "slide"
    }
   },
   "source": [
    "## Szendvicskészítési feladat\n",
    "**A feladat:** Tegyük fel, hogy szendvicseket akarunk készíteni, és tegyük fel továbbá, hogy kétféle szendvicset tudunk csinálni, továbbá a szükséges alapanyagokból véges sok áll csak a rendelkezésünkre (leszámítva mondjuk a kenyeret). Továbbá feltételezzük, hogy csak egész számú szendvics készítésére van módunk. \n",
    "\n",
    "A szendvicstípusok:"
   ]
  },
  {
   "cell_type": "markdown",
   "id": "87414614",
   "metadata": {
    "slideshow": {
     "slide_type": "fragment"
    }
   },
   "source": [
    "| Típus | Sajt (szelet) | Sonka (szelet) | Szalámi (szelet) | Uborka (karika) | Paradicsok (karika) |\n",
    "| ----  | ------------- | -------------- | ---------------- | --------------- | ------------------- |\n",
    "| **1** | 4             | 1              | 5                | 1               | 0                   |\n",
    "| **2** | 3             | 3              | 2                | 0               | 1                   |"
   ]
  },
  {
   "cell_type": "markdown",
   "id": "7b65c922",
   "metadata": {
    "slideshow": {
     "slide_type": "fragment"
    }
   },
   "source": [
    "Az alapanyagmennyiségek:\n",
    "\n",
    "| Alapanyag  | Mennyiség | Egység |\n",
    "| ---------  | --------- | ------ |\n",
    "| Sajt       | 141       | szelet |\n",
    "| Sonka      | 85        | szelet |\n",
    "| Szalámi    | 159       | szelet |\n",
    "| Uborka     | 35        | karika |\n",
    "| Paradicsom | 30        | karika |\n",
    "\n",
    "Ezen alapanyagokból szeretném a két szendvicstípusból a lehető legtöbbet elkészíteni."
   ]
  },
  {
   "cell_type": "markdown",
   "id": "7ad3ad68",
   "metadata": {
    "slideshow": {
     "slide_type": "subslide"
    }
   },
   "source": [
    "**A modell:** Legyen $x_1, x_2$ az egyes és kettes típusú szendvicshez tartozó egészértékű döntési változók.\n",
    "\n",
    "A célfüggvény:\n",
    " \n",
    "$$\n",
    "    \\max x_1+x_2\n",
    "$$"
   ]
  },
  {
   "cell_type": "markdown",
   "id": "1642956b",
   "metadata": {
    "slideshow": {
     "slide_type": "fragment"
    }
   },
   "source": [
    "A korlátok az alapanyagok összmennyiségére vonatkoznak, így minden alapanyaghoz felírható egy egyenlőtlenség. A sajtból összesen 141 szelet van, az egyes típusú szendvics elhasznál szendvicsenként 4-et, a kettes 3-at\n",
    "\n",
    "$$\n",
    "    4x_1+3x_2 \\leq 141,\n",
    "$$"
   ]
  },
  {
   "cell_type": "markdown",
   "id": "7da70ab3",
   "metadata": {
    "slideshow": {
     "slide_type": "fragment"
    }
   },
   "source": [
    "a sonkából 85 szelet van, az egyes 1-et a kettes 3-at használ\n",
    "\n",
    "$$\n",
    "    x_1+3x_2 \\leq 85,\n",
    "$$"
   ]
  },
  {
   "cell_type": "markdown",
   "id": "5acb7f8e",
   "metadata": {
    "slideshow": {
     "slide_type": "fragment"
    }
   },
   "source": [
    "a szalámiból 159 szelet van, az egyes 5-öt használ, a kettes 2-t\n",
    "\n",
    "$$\n",
    "    5x_1+2x_2 \\leq 159,\n",
    "$$"
   ]
  },
  {
   "cell_type": "markdown",
   "id": "166a2173",
   "metadata": {
    "slideshow": {
     "slide_type": "fragment"
    }
   },
   "source": [
    "az uborkából 35 karika van, és csak az egyes használja, szendvicsenként 1-et, míg a paradicsomból 30 karika van, és csak a kettes használja, szendvicsenként 1-et\n",
    "\n",
    "\\begin{equation}\n",
    "    \\begin{array}{rcl}\n",
    "        &x_1 &\\leq& 35 \\\\\n",
    "        &x_2 &\\leq& 30.\n",
    "    \\end{array}\n",
    "\\end{equation}\n",
    "\n",
    "A megoldása:"
   ]
  },
  {
   "cell_type": "code",
   "execution_count": 49,
   "id": "47257b4f",
   "metadata": {
    "ExecuteTime": {
     "end_time": "2023-03-22T09:45:55.385600Z",
     "start_time": "2023-03-22T09:45:55.366684Z"
    },
    "slideshow": {
     "slide_type": "subslide"
    }
   },
   "outputs": [
    {
     "name": "stdout",
     "output_type": "stream",
     "text": [
      "\n"
     ]
    }
   ],
   "source": [
    "# Létrehozom a két szendvicshez tartozó változókat\n",
    "x1 = xp.var(name=\"1.típus\",     # elnevezem a változót\n",
    "            vartype=xp.integer, # egészértékű legyen a változó\n",
    "            ub=35,              # a felső korlátja legyen 35\n",
    "            lb=0)               # az alsó korlátja legyen 0\n",
    "\n",
    "x2 = xp.var(name=\"2.típus\",\n",
    "            vartype=xp.integer,\n",
    "            ub=30,\n",
    "            lb=0)\n",
    "\n",
    "# Létrehozok egy problémapéldányt ezzel a két változóval\n",
    "prob = xp.problem(x1, x2)\n",
    "\n",
    "# Beállítom a célfüggvényt\n",
    "prob.setObjective(x1+x2, sense=xp.maximize)\n",
    "\n",
    "# Hozzáadom a korlátokat\n",
    "prob.addConstraint(4*x1+3*x2 <= 141) # Sajt\n",
    "prob.addConstraint(  x1+3*x2 <= 85)  # Sonka\n",
    "prob.addConstraint(5*x1+2*x2 <= 159) # Szalámi"
   ]
  },
  {
   "cell_type": "code",
   "execution_count": 50,
   "id": "314cfaa2",
   "metadata": {
    "ExecuteTime": {
     "end_time": "2023-03-22T09:45:55.463392Z",
     "start_time": "2023-03-22T09:45:55.387596Z"
    },
    "slideshow": {
     "slide_type": "subslide"
    }
   },
   "outputs": [
    {
     "name": "stdout",
     "output_type": "stream",
     "text": [
      "FICO Xpress v8.11.3, Hyper, solve started 10:45:55, Mar 22, 2023\n",
      "Heap usage: 338KB (peak 338KB, 567KB system)\n",
      "Maximizing MILP noname with these control settings:\n",
      "OUTPUTLOG = 1\n",
      "Original problem has:\n",
      "         3 rows            2 cols            6 elements         2 globals\n",
      "Presolved problem has:\n",
      "         3 rows            2 cols            6 elements         2 globals\n",
      "LP relaxation tightened\n",
      "Presolve finished in 0 seconds\n",
      "Heap usage: 364KB (peak 367KB, 569KB system)\n",
      "\n",
      "Coefficient range                    original                 solved        \n",
      "  Coefficients   [min,max] : [ 1.00e+00,  5.00e+00] / [ 5.00e-01,  1.50e+00]\n",
      "  RHS and bounds [min,max] : [ 3.00e+01,  1.59e+02] / [ 1.00e+00,  4.25e+01]\n",
      "  Objective      [min,max] : [ 1.00e+00,  1.00e+00] / [ 1.00e+00,  1.00e+00]\n",
      "Autoscaling applied standard scaling\n",
      "\n",
      "Will try to keep branch and bound tree memory usage below 8.7GB\n",
      " *** Heuristic solution found:     3.000000      Time: 0 ***\n",
      " *** Heuristic solution found:    29.000000      Time: 0 ***\n",
      "Starting concurrent solve with dual\n",
      "\n",
      " Concurrent-Solve,   0s\n",
      "            Dual        \n",
      "    objective   dual inf\n",
      " D  40.777778   .0000000\n",
      "------- optimal --------\n",
      "Concurrent statistics:\n",
      "      Dual: 2 simplex iterations, 0.00s\n",
      "Optimal solution found\n",
      " \n",
      "   Its         Obj Value      S   Ninf  Nneg   Sum Dual Inf  Time\n",
      "     2         40.777778      D      0     0        .000000     0\n",
      "Dual solved problem\n",
      "  2 simplex iterations in 0s\n",
      "\n",
      "Final objective                       : 4.077777777777777e+01\n",
      "  Max primal violation      (abs/rel) :       0.0 /       0.0\n",
      "  Max dual violation        (abs/rel) :       0.0 /       0.0\n",
      "  Max complementarity viol. (abs/rel) :       0.0 /       0.0\n",
      "\n",
      "Starting root cutting & heuristics\n",
      " \n",
      " Its Type    BestSoln    BestBound   Sols    Add    Del     Gap     GInf   Time\n",
      "a           31.000000    40.777778      3                 23.98%       0      0\n",
      "b           33.000000    40.777778      4                 19.07%       0      0\n",
      "g           35.000000    40.777778      5                 14.17%       0      0\n",
      "q           40.000000    40.777778      6                  1.91%       0      0\n",
      " *** Search completed ***\n",
      "Uncrunching matrix\n",
      "Final MIP objective                   : 4.000000000000000e+01\n",
      "Final MIP bound                       : 4.000000000000000e+01\n",
      "  Solution time / primaldual integral :         0s/ 78.459132%\n",
      "  Number of solutions found / nodes   :         6 /         1\n",
      "  Max primal violation      (abs/rel) :       0.0 /       0.0\n",
      "  Max integer violation     (abs    ) :       0.0\n"
     ]
    },
    {
     "data": {
      "text/plain": [
       "(19.0, 21.0)"
      ]
     },
     "execution_count": 50,
     "metadata": {},
     "output_type": "execute_result"
    }
   ],
   "source": [
    "# Megoldom\n",
    "prob.solve()\n",
    "\n",
    "# Visszaadom a megoldást\n",
    "prob.getSolution(x1, x2)"
   ]
  },
  {
   "cell_type": "markdown",
   "id": "f823c52d",
   "metadata": {
    "slideshow": {
     "slide_type": "slide"
    }
   },
   "source": [
    "# Pyomo\n",
    "\n",
    "A Pyomo (*Python Optimizing Modeling Objects*) egy Python alapú optimalizálási modellező nyelv, lineáris és egészértékű programokon kívül még nagyon sokféle matematikai optimalizálási probléma modellezésére alkalmas.\n",
    "\n",
    "Honlap: http://www.pyomo.org/\n",
    "\n",
    "Dokumentáció: https://pyomo.readthedocs.io/en/stable/index.html"
   ]
  },
  {
   "cell_type": "markdown",
   "id": "3243bd55",
   "metadata": {
    "slideshow": {
     "slide_type": "subslide"
    }
   },
   "source": [
    "Pyomo-ban kétféle modellt lehet készíteni\n",
    "* konkrét modell (`ConcreteModel`): az adatoknak, adatok számának, változók számának már a modell megalkotásakor rendelkezésre kell állnia\n",
    "* absztrakt modell (`AbstractModel`): az adatokat paraméterként kezeli.\n",
    "\n",
    "A Pyomo nagyon hasonlít az algebrai modellező nyelvekre, mint az AMPL, GAMS, Mosel stb. Ez a szintaxison kívül abban nyilvánul meg, hogy a solver nem a Pyomohoz tartozik, hanem a Pyomo egy tőle független, külső (kereskedelmi vagy open source) solvert hív meg a megoldás megtalálásához.\n",
    "\n",
    "Amik egy modellhez tartozhatnak:\n",
    "* `Var`-ok\n",
    "* `Set`-ek\n",
    "* `Param`-ok\n",
    "* `Constraint`-ek\n",
    "* `Objective`"
   ]
  },
  {
   "cell_type": "markdown",
   "id": "7cfcdd82",
   "metadata": {
    "slideshow": {
     "slide_type": "subslide"
    }
   },
   "source": [
    "Nézzük meg az előző keverési feladatot konkrét modellként!"
   ]
  },
  {
   "cell_type": "code",
   "execution_count": 51,
   "id": "f4e10d74",
   "metadata": {
    "ExecuteTime": {
     "end_time": "2023-03-22T09:45:55.781575Z",
     "start_time": "2023-03-22T09:45:55.765618Z"
    },
    "slideshow": {
     "slide_type": "fragment"
    }
   },
   "outputs": [],
   "source": [
    "import pyomo.environ as pyo\n",
    "\n",
    "# Inicializálok egy konkrét modellt\n",
    "model = pyo.ConcreteModel()"
   ]
  },
  {
   "cell_type": "markdown",
   "id": "8f922a46",
   "metadata": {
    "ExecuteTime": {
     "end_time": "2023-03-22T09:12:55.298665Z",
     "start_time": "2023-03-22T09:12:55.292679Z"
    },
    "slideshow": {
     "slide_type": "fragment"
    }
   },
   "source": [
    "Hozzáadok egy változót, amit a CSIRKE, MARHA ... stringekkel indexelek"
   ]
  },
  {
   "cell_type": "code",
   "execution_count": 52,
   "id": "59e9db44",
   "metadata": {
    "ExecuteTime": {
     "end_time": "2023-03-22T09:45:55.909200Z",
     "start_time": "2023-03-22T09:45:55.901255Z"
    },
    "slideshow": {
     "slide_type": "fragment"
    }
   },
   "outputs": [],
   "source": [
    "model.x = pyo.Var([\"CSIRKE\",\"MARHA\",\"BIRKA\",\"RIZS\",\"KORPA\",\"ZSELATIN\"], domain=pyo.NonNegativeReals)"
   ]
  },
  {
   "cell_type": "markdown",
   "id": "5e4bc10d",
   "metadata": {
    "ExecuteTime": {
     "end_time": "2023-03-22T09:12:55.737805Z",
     "start_time": "2023-03-22T09:12:55.729826Z"
    },
    "slideshow": {
     "slide_type": "subslide"
    }
   },
   "source": [
    "Hozzáadom a költségfüggvényt"
   ]
  },
  {
   "cell_type": "code",
   "execution_count": 53,
   "id": "ae0f8e44",
   "metadata": {
    "ExecuteTime": {
     "end_time": "2023-03-22T09:45:56.051821Z",
     "start_time": "2023-03-22T09:45:56.039850Z"
    },
    "slideshow": {
     "slide_type": "fragment"
    }
   },
   "outputs": [],
   "source": [
    "model.cost = pyo.Objective(\n",
    "    expr = 0.013 * model.x[\"CSIRKE\"] + \\\n",
    "           0.008 * model.x[\"MARHA\"]  + \\\n",
    "           0.1   * model.x[\"BIRKA\"]  + \\\n",
    "           0.002 * model.x[\"RIZS\"]   + \\\n",
    "           0.002 * model.x[\"KORPA\"]  + \\\n",
    "           0.001 * model.x[\"ZSELATIN\"])"
   ]
  },
  {
   "cell_type": "markdown",
   "id": "3aad0279",
   "metadata": {
    "ExecuteTime": {
     "end_time": "2023-03-22T09:14:25.812730Z",
     "start_time": "2023-03-22T09:14:25.772946Z"
    },
    "slideshow": {
     "slide_type": "fragment"
    }
   },
   "source": [
    "Hozzáadom a nettó tömegre vonatkozó korlátot"
   ]
  },
  {
   "cell_type": "code",
   "execution_count": 54,
   "id": "9e0a46c4",
   "metadata": {
    "ExecuteTime": {
     "end_time": "2023-03-22T09:45:56.195434Z",
     "start_time": "2023-03-22T09:45:56.184465Z"
    },
    "slideshow": {
     "slide_type": "fragment"
    }
   },
   "outputs": [],
   "source": [
    "model.weight = pyo.Constraint(\n",
    "    expr = model.x[\"CSIRKE\"] + \\\n",
    "           model.x[\"MARHA\"]  + \\\n",
    "           model.x[\"BIRKA\"]  + \\\n",
    "           model.x[\"RIZS\"]   + \\\n",
    "           model.x[\"KORPA\"]  + \\\n",
    "           model.x[\"ZSELATIN\"] == 100)"
   ]
  },
  {
   "cell_type": "markdown",
   "id": "d2c19069",
   "metadata": {
    "ExecuteTime": {
     "end_time": "2021-10-07T11:08:58.886668Z",
     "start_time": "2021-10-07T11:08:58.639263Z"
    },
    "slideshow": {
     "slide_type": "subslide"
    }
   },
   "source": [
    "Hozzáadom a tápanyagtartalomra vonatkozó korlátokat"
   ]
  },
  {
   "cell_type": "code",
   "execution_count": 55,
   "id": "e6f5e8ea",
   "metadata": {
    "ExecuteTime": {
     "end_time": "2023-03-22T09:45:56.354010Z",
     "start_time": "2023-03-22T09:45:56.336060Z"
    },
    "slideshow": {
     "slide_type": "fragment"
    }
   },
   "outputs": [],
   "source": [
    "model.protein = pyo.Constraint(\n",
    "    expr = 0.1*model.x[\"CSIRKE\"]+0.2*model.x[\"MARHA\"]+0.15*model.x[\"BIRKA\"]+0.04*model.x[\"KORPA\"] >= 8)\n",
    "\n",
    "model.fat = pyo.Constraint(\n",
    "    expr = 0.08*model.x[\"CSIRKE\"]+0.1*model.x[\"MARHA\"]+0.11*model.x[\"BIRKA\"]+0.01*model.x[\"RIZS\"]+0.01*model.x[\"KORPA\"] >= 6)\n",
    "\n",
    "model.fibre = pyo.Constraint(\n",
    "    expr = 0.001*model.x[\"CSIRKE\"]+0.005*model.x[\"MARHA\"]+0.003*model.x[\"BIRKA\"]+0.1*model.x[\"RIZS\"]+0.15*model.x[\"KORPA\"] <= 2)\n",
    "\n",
    "model.salt = pyo.Constraint(\n",
    "    expr = 0.002*model.x[\"CSIRKE\"]+0.005*model.x[\"MARHA\"]+0.007*model.x[\"BIRKA\"]+0.002*model.x[\"RIZS\"]+0.008*model.x[\"KORPA\"] <= 0.4)"
   ]
  },
  {
   "cell_type": "markdown",
   "id": "171548d6",
   "metadata": {
    "ExecuteTime": {
     "end_time": "2021-10-07T11:08:58.886668Z",
     "start_time": "2021-10-07T11:08:58.639263Z"
    },
    "slideshow": {
     "slide_type": "subslide"
    }
   },
   "source": [
    "Inicializálok egy solvert, ami az Xpresst fogja használni"
   ]
  },
  {
   "cell_type": "code",
   "execution_count": 56,
   "id": "ab9264c4",
   "metadata": {
    "ExecuteTime": {
     "end_time": "2023-03-22T09:45:56.495632Z",
     "start_time": "2023-03-22T09:45:56.485659Z"
    },
    "slideshow": {
     "slide_type": "fragment"
    }
   },
   "outputs": [],
   "source": [
    "solver = pyo.SolverFactory(\"xpress\")"
   ]
  },
  {
   "cell_type": "markdown",
   "id": "28d1a284",
   "metadata": {
    "ExecuteTime": {
     "end_time": "2021-10-07T11:08:58.886668Z",
     "start_time": "2021-10-07T11:08:58.639263Z"
    },
    "slideshow": {
     "slide_type": "fragment"
    }
   },
   "source": [
    "Megoldom a modellt"
   ]
  },
  {
   "cell_type": "code",
   "execution_count": 57,
   "id": "ff8c5b46",
   "metadata": {
    "ExecuteTime": {
     "end_time": "2023-03-22T09:45:56.999322Z",
     "start_time": "2023-03-22T09:45:56.639250Z"
    },
    "slideshow": {
     "slide_type": "fragment"
    }
   },
   "outputs": [
    {
     "name": "stdout",
     "output_type": "stream",
     "text": [
      "Költség  : 0.52 $\n",
      "--------------------\n",
      "Összetétel\n",
      "Csirke   : 0.0 g\n",
      "Marha    : 60.0 g\n",
      "Birka    : 0.0 g\n",
      "Rizs     : 0.0 g\n",
      "Korpa    : 0.0 g\n",
      "Zselatin : 40.0 g\n",
      "--------------------\n",
      "Tápanyagtartalom\n",
      "Fehérje  : 12.0 g\n",
      "Zsír     : 6.0 g\n",
      "Rost     : 0.3 g\n",
      "Só       : 0.3 g\n"
     ]
    }
   ],
   "source": [
    "solver.solve(model)\n",
    "\n",
    "# Kiírom az összetételt\n",
    "print(\"Költség  :\", model.cost(), \"$\")\n",
    "print(\"--------------------\")\n",
    "print(\"Összetétel\")\n",
    "print(\"Csirke   :\", model.x[\"CSIRKE\"](), \"g\")\n",
    "print(\"Marha    :\", model.x[\"MARHA\"](), \"g\")\n",
    "print(\"Birka    :\", model.x[\"BIRKA\"](), \"g\")\n",
    "print(\"Rizs     :\", model.x[\"RIZS\"](), \"g\")\n",
    "print(\"Korpa    :\", model.x[\"KORPA\"](), \"g\")\n",
    "print(\"Zselatin :\", model.x[\"ZSELATIN\"](), \"g\")\n",
    "print(\"--------------------\")\n",
    "print(\"Tápanyagtartalom\")\n",
    "print(\"Fehérje  :\", model.protein(), \"g\")\n",
    "print(\"Zsír     :\", model.fat(), \"g\")\n",
    "print(\"Rost     :\", model.fibre(), \"g\")\n",
    "print(\"Só       :\", model.salt(), \"g\")"
   ]
  },
  {
   "cell_type": "markdown",
   "id": "7b9ad4ff",
   "metadata": {
    "slideshow": {
     "slide_type": "subslide"
    }
   },
   "source": [
    "Most ugyanez absztrakt modellként:"
   ]
  },
  {
   "cell_type": "code",
   "execution_count": 58,
   "id": "00ca20d0",
   "metadata": {
    "ExecuteTime": {
     "end_time": "2023-03-22T09:45:57.015278Z",
     "start_time": "2023-03-22T09:45:57.001279Z"
    },
    "slideshow": {
     "slide_type": "fragment"
    }
   },
   "outputs": [],
   "source": [
    "model = pyo.AbstractModel()"
   ]
  },
  {
   "cell_type": "markdown",
   "id": "b8d82533",
   "metadata": {
    "ExecuteTime": {
     "end_time": "2021-10-07T11:23:10.934817Z",
     "start_time": "2021-10-07T11:23:10.914568Z"
    },
    "slideshow": {
     "slide_type": "fragment"
    }
   },
   "source": [
    "Deklarálom a változók indexelésére használt halmazokat"
   ]
  },
  {
   "cell_type": "code",
   "execution_count": 59,
   "id": "e1437c5a",
   "metadata": {
    "ExecuteTime": {
     "end_time": "2023-03-22T09:45:57.031198Z",
     "start_time": "2023-03-22T09:45:57.017236Z"
    },
    "slideshow": {
     "slide_type": "fragment"
    }
   },
   "outputs": [],
   "source": [
    "model.I  = pyo.Set() # Ingredients\n",
    "model.Nl = pyo.Set() # Nutrients with lower bound\n",
    "model.Nu = pyo.Set() # Nutrients with upper bound"
   ]
  },
  {
   "cell_type": "markdown",
   "id": "9a89fbf7",
   "metadata": {
    "ExecuteTime": {
     "end_time": "2021-10-07T11:23:10.934817Z",
     "start_time": "2021-10-07T11:23:10.914568Z"
    },
    "slideshow": {
     "slide_type": "subslide"
    }
   },
   "source": [
    "Deklarálom a célfüggvényt mint paraméter"
   ]
  },
  {
   "cell_type": "code",
   "execution_count": 60,
   "id": "be6e37b0",
   "metadata": {
    "ExecuteTime": {
     "end_time": "2023-03-22T09:45:57.188811Z",
     "start_time": "2023-03-22T09:45:57.169862Z"
    },
    "slideshow": {
     "slide_type": "fragment"
    }
   },
   "outputs": [],
   "source": [
    "model.c = pyo.Param(model.I)"
   ]
  },
  {
   "cell_type": "markdown",
   "id": "c0478efb",
   "metadata": {
    "ExecuteTime": {
     "end_time": "2021-10-07T11:23:10.934817Z",
     "start_time": "2021-10-07T11:23:10.914568Z"
    },
    "slideshow": {
     "slide_type": "fragment"
    }
   },
   "source": [
    "Deklarálom az együtthatómátrixot és korlátozóvektort a tápanyagokhoz"
   ]
  },
  {
   "cell_type": "code",
   "execution_count": 61,
   "id": "617e444e",
   "metadata": {
    "ExecuteTime": {
     "end_time": "2023-03-22T09:45:57.361315Z",
     "start_time": "2023-03-22T09:45:57.342368Z"
    },
    "slideshow": {
     "slide_type": "fragment"
    }
   },
   "outputs": [],
   "source": [
    "model.A = pyo.Param(model.I, model.Nl | model.Nu)\n",
    "model.b = pyo.Param(model.Nl | model.Nu)"
   ]
  },
  {
   "cell_type": "markdown",
   "id": "11784c0f",
   "metadata": {
    "ExecuteTime": {
     "end_time": "2023-03-22T09:17:15.906247Z",
     "start_time": "2023-03-22T09:17:15.897258Z"
    },
    "slideshow": {
     "slide_type": "subslide"
    }
   },
   "source": [
    "Deklarálom a döntési változókat, amelyeket az I halmaz elemei fognak indexelni"
   ]
  },
  {
   "cell_type": "code",
   "execution_count": 62,
   "id": "999318e7",
   "metadata": {
    "ExecuteTime": {
     "end_time": "2023-03-22T09:45:57.518927Z",
     "start_time": "2023-03-22T09:45:57.506927Z"
    },
    "slideshow": {
     "slide_type": "fragment"
    }
   },
   "outputs": [],
   "source": [
    "model.x = pyo.Var(model.I, domain=pyo.NonNegativeReals)"
   ]
  },
  {
   "cell_type": "markdown",
   "id": "62a84b3d",
   "metadata": {
    "ExecuteTime": {
     "end_time": "2023-03-22T09:17:44.462774Z",
     "start_time": "2023-03-22T09:17:44.455796Z"
    },
    "slideshow": {
     "slide_type": "subslide"
    }
   },
   "source": [
    "Definiálom, hogyan kell viselkednie a költségfüggvénynek"
   ]
  },
  {
   "cell_type": "code",
   "execution_count": 63,
   "id": "cd59dc07",
   "metadata": {
    "ExecuteTime": {
     "end_time": "2023-03-22T09:45:57.692429Z",
     "start_time": "2023-03-22T09:45:57.674482Z"
    },
    "slideshow": {
     "slide_type": "fragment"
    }
   },
   "outputs": [],
   "source": [
    "def cost(m):\n",
    "    return pyo.summation(m.c, m.x)"
   ]
  },
  {
   "cell_type": "markdown",
   "id": "c54a389e",
   "metadata": {
    "ExecuteTime": {
     "end_time": "2021-10-07T11:23:10.934817Z",
     "start_time": "2021-10-07T11:23:10.914568Z"
    },
    "slideshow": {
     "slide_type": "fragment"
    }
   },
   "source": [
    "Definiálom, hogyan kell viselkednie egy felső tápanyagkorlátnak"
   ]
  },
  {
   "cell_type": "code",
   "execution_count": 64,
   "id": "1950a54a",
   "metadata": {
    "ExecuteTime": {
     "end_time": "2023-03-22T09:45:57.851007Z",
     "start_time": "2023-03-22T09:45:57.844060Z"
    },
    "slideshow": {
     "slide_type": "fragment"
    }
   },
   "outputs": [],
   "source": [
    "def nutrient_upper_bounds(m, n):\n",
    "    return sum(m.A[i,n] * m.x[i] for i in m.I) <= m.b[n]"
   ]
  },
  {
   "cell_type": "markdown",
   "id": "0dfa3f2f",
   "metadata": {
    "ExecuteTime": {
     "end_time": "2021-10-07T11:23:10.934817Z",
     "start_time": "2021-10-07T11:23:10.914568Z"
    },
    "slideshow": {
     "slide_type": "fragment"
    }
   },
   "source": [
    "Definiálom, hogyan kell viselkednie egy alsó tápanyagkorlátnak"
   ]
  },
  {
   "cell_type": "code",
   "execution_count": 65,
   "id": "1e58f9aa",
   "metadata": {
    "ExecuteTime": {
     "end_time": "2023-03-22T09:45:58.024574Z",
     "start_time": "2023-03-22T09:45:58.015567Z"
    },
    "slideshow": {
     "slide_type": "fragment"
    }
   },
   "outputs": [],
   "source": [
    "def nutrient_lower_bounds(m, n):\n",
    "    return sum(m.A[i,n] * m.x[i] for i in m.I) >= m.b[n]"
   ]
  },
  {
   "cell_type": "markdown",
   "id": "0370adfd",
   "metadata": {
    "ExecuteTime": {
     "end_time": "2021-10-07T11:23:10.934817Z",
     "start_time": "2021-10-07T11:23:10.914568Z"
    },
    "slideshow": {
     "slide_type": "subslide"
    }
   },
   "source": [
    "Definiálom, hogyan kell viselkednie a nettó tömegre vonatkozó korlátnak"
   ]
  },
  {
   "cell_type": "code",
   "execution_count": 66,
   "id": "3a75b965",
   "metadata": {
    "ExecuteTime": {
     "end_time": "2023-03-22T09:45:58.214037Z",
     "start_time": "2023-03-22T09:45:58.208053Z"
    },
    "slideshow": {
     "slide_type": "fragment"
    }
   },
   "outputs": [],
   "source": [
    "def net_weight_rule(m):\n",
    "    return sum(m.x[i] for i in m.I) == 100"
   ]
  },
  {
   "cell_type": "markdown",
   "id": "a61354e2",
   "metadata": {
    "ExecuteTime": {
     "end_time": "2021-10-07T11:23:10.934817Z",
     "start_time": "2021-10-07T11:23:10.914568Z"
    },
    "slideshow": {
     "slide_type": "fragment"
    }
   },
   "source": [
    "Beállítom a költségfüggvényt, használva a korábban definiált szabályt"
   ]
  },
  {
   "cell_type": "code",
   "execution_count": 67,
   "id": "e720e706",
   "metadata": {
    "ExecuteTime": {
     "end_time": "2023-03-22T09:45:58.403565Z",
     "start_time": "2023-03-22T09:45:58.388571Z"
    },
    "slideshow": {
     "slide_type": "fragment"
    }
   },
   "outputs": [],
   "source": [
    "model.cost = pyo.Objective(rule=cost)"
   ]
  },
  {
   "cell_type": "markdown",
   "id": "8d953974",
   "metadata": {
    "ExecuteTime": {
     "end_time": "2021-10-07T11:23:10.934817Z",
     "start_time": "2021-10-07T11:23:10.914568Z"
    },
    "slideshow": {
     "slide_type": "fragment"
    }
   },
   "source": [
    "Beállítom az alsó és felső tápanyagkorlátokat az Nl és Nu halmazok minden elemére"
   ]
  },
  {
   "cell_type": "code",
   "execution_count": 68,
   "id": "fba23c8b",
   "metadata": {
    "ExecuteTime": {
     "end_time": "2023-03-22T09:45:58.577097Z",
     "start_time": "2023-03-22T09:45:58.569087Z"
    },
    "slideshow": {
     "slide_type": "fragment"
    }
   },
   "outputs": [],
   "source": [
    "model.nutrientLBConstraint = pyo.Constraint(model.Nl, rule=nutrient_lower_bounds)\n",
    "model.nutrientUBConstraint = pyo.Constraint(model.Nu, rule=nutrient_upper_bounds)"
   ]
  },
  {
   "cell_type": "markdown",
   "id": "9c7a0426",
   "metadata": {
    "ExecuteTime": {
     "end_time": "2021-10-07T11:23:10.934817Z",
     "start_time": "2021-10-07T11:23:10.914568Z"
    },
    "slideshow": {
     "slide_type": "fragment"
    }
   },
   "source": [
    "Beállítom a nettó tömegre vonatkozó korlátot"
   ]
  },
  {
   "cell_type": "code",
   "execution_count": 69,
   "id": "bbe1382f",
   "metadata": {
    "ExecuteTime": {
     "end_time": "2023-03-22T09:45:58.766558Z",
     "start_time": "2023-03-22T09:45:58.757614Z"
    },
    "slideshow": {
     "slide_type": "fragment"
    }
   },
   "outputs": [],
   "source": [
    "model.netWeightConstraint  = pyo.Constraint(rule=net_weight_rule)"
   ]
  },
  {
   "cell_type": "markdown",
   "id": "f6c92da1",
   "metadata": {
    "ExecuteTime": {
     "end_time": "2021-10-07T07:11:40.500243Z",
     "start_time": "2021-10-07T07:11:40.495254Z"
    },
    "slideshow": {
     "slide_type": "subslide"
    }
   },
   "source": [
    "Az absztrakt modellt példányosítani kell konkrét adatokkal, én a `nutrients.dat` fájlban tároltam el a tápérték információt. A `.dat` fileok szintaxisáról: https://pyomo.readthedocs.io/en/stable/working_abstractmodels/data/datfiles.html#"
   ]
  },
  {
   "cell_type": "code",
   "execution_count": 70,
   "id": "161d41a7",
   "metadata": {
    "ExecuteTime": {
     "end_time": "2023-03-22T09:45:59.003922Z",
     "start_time": "2023-03-22T09:45:58.948107Z"
    },
    "slideshow": {
     "slide_type": "fragment"
    }
   },
   "outputs": [
    {
     "name": "stdout",
     "output_type": "stream",
     "text": [
      "set I := CSIRKE MARHA BIRKA RIZS KORPA ZSELATIN;\n",
      "set Nl := feherje zsir;\n",
      "set Nu := rost so;\n",
      "\n",
      "param c :=\n",
      "    CSIRKE   0.013\n",
      "    MARHA    0.008\n",
      "    BIRKA    0.010\n",
      "    RIZS     0.002\n",
      "    KORPA    0.005\n",
      "    ZSELATIN 0.001;\n",
      "\n",
      "param A : feherje zsir rost so :=\n",
      "    CSIRKE   0.100 0.080 0.001 0.002\n",
      "    MARHA    0.200 0.100 0.005 0.005\n",
      "    BIRKA    0.150 0.110 0.003 0.007\n",
      "    RIZS     0.000 0.010 0.100 0.002\n",
      "    KORPA    0.040 0.010 0.150 0.008\n",
      "    ZSELATIN 0.000 0.000 0.000 0.000;\n",
      "\n",
      "param b :=\n",
      "    feherje  8\n",
      "    zsir     6\n",
      "    rost     2\n",
      "    so       0.4;\n"
     ]
    }
   ],
   "source": [
    "!type nutrients.dat"
   ]
  },
  {
   "cell_type": "markdown",
   "id": "e24649d9",
   "metadata": {
    "ExecuteTime": {
     "end_time": "2021-10-07T11:23:14.358243Z",
     "start_time": "2021-10-07T11:23:14.136264Z"
    },
    "slideshow": {
     "slide_type": "subslide"
    }
   },
   "source": [
    "Készítek egy példány a modellből a `nutrients.dat` file adataival"
   ]
  },
  {
   "cell_type": "code",
   "execution_count": 71,
   "id": "9dc70a9f",
   "metadata": {
    "ExecuteTime": {
     "end_time": "2023-03-22T09:45:59.209407Z",
     "start_time": "2023-03-22T09:45:59.151529Z"
    },
    "slideshow": {
     "slide_type": "fragment"
    }
   },
   "outputs": [
    {
     "name": "stdout",
     "output_type": "stream",
     "text": [
      "WARNING: Extracting subsets for Set b_index, which is a SetOperator other than\n",
      "    a SetProduct.  Returning this set and not descending into the set\n",
      "    operands.  To descend into this operator, specify\n",
      "    'subsets(expand_all_set_operators=True)' or to suppress this warning,\n",
      "    specify 'subsets(expand_all_set_operators=False)'\n",
      "WARNING: Extracting subsets for Set b_index, which is a SetOperator other than\n",
      "    a SetProduct.  Returning this set and not descending into the set\n",
      "    operands.  To descend into this operator, specify\n",
      "    'subsets(expand_all_set_operators=True)' or to suppress this warning,\n",
      "    specify 'subsets(expand_all_set_operators=False)'\n"
     ]
    }
   ],
   "source": [
    "instance = model.create_instance(filename=\"nutrients.dat\")"
   ]
  },
  {
   "cell_type": "markdown",
   "id": "7665023f",
   "metadata": {
    "ExecuteTime": {
     "end_time": "2021-10-07T11:23:14.358243Z",
     "start_time": "2021-10-07T11:23:14.136264Z"
    },
    "slideshow": {
     "slide_type": "subslide"
    }
   },
   "source": [
    "Inicializálok egy solvert, ami az Xpresst fogja használni"
   ]
  },
  {
   "cell_type": "code",
   "execution_count": 72,
   "id": "283cc13c",
   "metadata": {
    "ExecuteTime": {
     "end_time": "2023-03-22T09:45:59.367948Z",
     "start_time": "2023-03-22T09:45:59.350033Z"
    },
    "slideshow": {
     "slide_type": "fragment"
    }
   },
   "outputs": [],
   "source": [
    "solver = pyo.SolverFactory(\"xpress\")"
   ]
  },
  {
   "cell_type": "markdown",
   "id": "a2366e6e",
   "metadata": {
    "ExecuteTime": {
     "end_time": "2021-10-07T11:23:14.358243Z",
     "start_time": "2021-10-07T11:23:14.136264Z"
    },
    "slideshow": {
     "slide_type": "fragment"
    }
   },
   "source": [
    "Megoldom a modellt"
   ]
  },
  {
   "cell_type": "code",
   "execution_count": 73,
   "id": "0b3c352b",
   "metadata": {
    "ExecuteTime": {
     "end_time": "2023-03-22T09:45:59.733009Z",
     "start_time": "2023-03-22T09:45:59.555481Z"
    },
    "slideshow": {
     "slide_type": "fragment"
    }
   },
   "outputs": [
    {
     "data": {
      "text/plain": [
       "{'Problem': [{'Lower bound': -inf, 'Upper bound': inf, 'Number of objectives': 1, 'Number of constraints': 0, 'Number of variables': None, 'Number of nonzeros': None, 'Sense': 'unknown'}], 'Solver': [{'Status': 'ok', 'Termination condition': 'unknown', 'Error rc': 0, 'Time': 0.15358686447143555}], 'Solution': [OrderedDict([('number of solutions', 0), ('number of solutions displayed', 0)])]}"
      ]
     },
     "execution_count": 73,
     "metadata": {},
     "output_type": "execute_result"
    }
   ],
   "source": [
    "solver.solve(instance)"
   ]
  },
  {
   "cell_type": "markdown",
   "id": "36018a18",
   "metadata": {
    "ExecuteTime": {
     "end_time": "2021-10-07T11:23:14.358243Z",
     "start_time": "2021-10-07T11:23:14.136264Z"
    },
    "slideshow": {
     "slide_type": "subslide"
    }
   },
   "source": [
    "Kiírom a költséget, összetételt és tápanyagtartalmat"
   ]
  },
  {
   "cell_type": "code",
   "execution_count": 74,
   "id": "d9bf7f7f",
   "metadata": {
    "ExecuteTime": {
     "end_time": "2023-03-22T09:45:59.826754Z",
     "start_time": "2023-03-22T09:45:59.802787Z"
    },
    "slideshow": {
     "slide_type": "fragment"
    }
   },
   "outputs": [
    {
     "name": "stdout",
     "output_type": "stream",
     "text": [
      "Költség  : 0.52 $\n",
      "--------------------\n",
      "Összetétel\n",
      "CSIRKE : 0.0 g\n",
      "MARHA : 60.0 g\n",
      "BIRKA : 0.0 g\n",
      "RIZS : 0.0 g\n",
      "KORPA : 0.0 g\n",
      "ZSELATIN : 40.0 g\n",
      "--------------------\n",
      "Tápanyagtartalom\n",
      "feherje : 12.0 g\n",
      "zsir : 6.0 g\n",
      "rost : 0.3 g\n",
      "so : 0.3 g\n"
     ]
    }
   ],
   "source": [
    "print(\"Költség  :\", instance.cost(), \"$\")\n",
    "print(\"--------------------\")\n",
    "print(\"Összetétel\")\n",
    "for i in instance.I:\n",
    "    print(i, \":\", instance.x[i](), \"g\")\n",
    "print(\"--------------------\")\n",
    "print(\"Tápanyagtartalom\")\n",
    "for j in instance.Nl:\n",
    "    print(j, \":\", instance.nutrientLBConstraint[j](), \"g\")\n",
    "for j in instance.Nu:\n",
    "    print(j, \":\", instance.nutrientUBConstraint[j](), \"g\")"
   ]
  },
  {
   "cell_type": "markdown",
   "id": "6b3defdf",
   "metadata": {
    "slideshow": {
     "slide_type": "slide"
    }
   },
   "source": [
    "# PuLP\n",
    "\n",
    "A PyOMO-hoz hasonlóan a PuLP is egy modellezésre fejlesztett könyvtár, amely külső solvereket használ az optimalizálási feladat megoldására. Az egyik előnye, hogy a CBC (COIN-OR Branch and Cut) solver, ami egy open source solver, alapértelmezetten települ vele együtt, így nem kell azzal bajlódnunk, hogy telepítsünk további solvereket (de megtehetjük természetesen). Ehhez útmutató: https://coin-or.github.io/pulp/\n",
    "\n",
    "Fontos különbség a Pyomo és a PuLP között, hogy a PuLP-ban minden modell konkrét, illetve nem támogatja nem-lineáris modellek leírását, míg a Pyomo igen.\n",
    "\n",
    "A modell alapegysége itt az `LpProblem`, illetve az `LpVariable` (amire előírható, hogy egészértékű legyen). A modellhez a változókból képzett lineáris kifejezéseket lehet hozzáadni korlátként és célfüggvényként.\n",
    "\n",
    "Nézzük meg a keverési feladatot példaként!"
   ]
  },
  {
   "cell_type": "code",
   "execution_count": 75,
   "id": "6b829275",
   "metadata": {
    "ExecuteTime": {
     "end_time": "2023-03-22T09:46:00.033170Z",
     "start_time": "2023-03-22T09:46:00.019240Z"
    },
    "slideshow": {
     "slide_type": "subslide"
    }
   },
   "outputs": [],
   "source": [
    "# Definiálom az összetevőket\n",
    "ingredients = [\"CSIRKE\", \"MARHA\", \"BIRKA\", \"RIZS\", \"KORPA\", \"ZSELATIN\"]\n",
    "\n",
    "# Definiálom a tápanyagokat\n",
    "nutrientsLower = [\"fehérje\", \"zsír\"]\n",
    "nutrientsUpper = [\"rost\", \"só\"]\n",
    "\n",
    "# Definiálom a költségeket\n",
    "costs = {\n",
    "    \"CSIRKE\"  : 0.013,\n",
    "    \"MARHA\"   : 0.008,\n",
    "    \"BIRKA\"   : 0.010,\n",
    "    \"RIZS\"    : 0.002,\n",
    "    \"KORPA\"   : 0.005,\n",
    "    \"ZSELATIN\": 0.001,\n",
    "}\n",
    "\n",
    "nutrientPercentage = {}\n",
    "\n",
    "# Definiálom a tápanyagtartalmakat\n",
    "nutrientPercentage[\"fehérje\"] = {\n",
    "    \"CSIRKE\"  : 0.100,\n",
    "    \"MARHA\"   : 0.200,\n",
    "    \"BIRKA\"   : 0.150,\n",
    "    \"RIZS\"    : 0.000,\n",
    "    \"KORPA\"   : 0.040,\n",
    "    \"ZSELATIN\": 0.000,\n",
    "}\n",
    "\n",
    "nutrientPercentage[\"zsír\"] = {\n",
    "    \"CSIRKE\"  : 0.080,\n",
    "    \"MARHA\"   : 0.100,\n",
    "    \"BIRKA\"   : 0.110,\n",
    "    \"RIZS\"    : 0.010,\n",
    "    \"KORPA\"   : 0.010,\n",
    "    \"ZSELATIN\": 0.000,\n",
    "}\n",
    "\n",
    "nutrientPercentage[\"rost\"] = {\n",
    "    \"CSIRKE\"  : 0.001,\n",
    "    \"MARHA\"   : 0.005,\n",
    "    \"BIRKA\"   : 0.003,\n",
    "    \"RIZS\"    : 0.100,\n",
    "    \"KORPA\"   : 0.150,\n",
    "    \"ZSELATIN\": 0.000,\n",
    "}\n",
    "\n",
    "nutrientPercentage[\"só\"] = {\n",
    "    \"CSIRKE\"  : 0.002,\n",
    "    \"MARHA\"   : 0.005,\n",
    "    \"BIRKA\"   : 0.007,\n",
    "    \"RIZS\"    : 0.002,\n",
    "    \"KORPA\"   : 0.008,\n",
    "    \"ZSELATIN\": 0.000\n",
    "}\n",
    "\n",
    "# Definiálom a tápanyagkorlátokat\n",
    "nutrientBounds = {\n",
    "    \"fehérje\" : 8,\n",
    "    \"zsír\"    : 6,\n",
    "    \"rost\"    : 2,\n",
    "    \"só\"      : 0.4\n",
    "\n",
    "}"
   ]
  },
  {
   "cell_type": "markdown",
   "id": "203f0b1c",
   "metadata": {
    "ExecuteTime": {
     "end_time": "2023-03-22T09:23:57.315447Z",
     "start_time": "2023-03-22T09:23:57.146099Z"
    },
    "slideshow": {
     "slide_type": "subslide"
    }
   },
   "source": [
    "Inicializálom a modellt, \"KeverésiProbléma\"-nak nevezem el és előírom hogy minimalizálni fogom a célfüggvényt"
   ]
  },
  {
   "cell_type": "code",
   "execution_count": 76,
   "id": "b2e6cd6a",
   "metadata": {
    "ExecuteTime": {
     "end_time": "2023-03-22T09:46:00.237655Z",
     "start_time": "2023-03-22T09:46:00.226653Z"
    },
    "slideshow": {
     "slide_type": "fragment"
    }
   },
   "outputs": [
    {
     "name": "stdout",
     "output_type": "stream",
     "text": [
      "\n"
     ]
    }
   ],
   "source": [
    "import pulp as pl\n",
    "prob = pl.LpProblem(name=\"KeverésiProbléma\",\n",
    "                    sense=pl.LpMinimize)"
   ]
  },
  {
   "cell_type": "markdown",
   "id": "f69bf89e",
   "metadata": {
    "ExecuteTime": {
     "end_time": "2023-03-22T09:23:57.315447Z",
     "start_time": "2023-03-22T09:23:57.146099Z"
    },
    "slideshow": {
     "slide_type": "fragment"
    }
   },
   "source": [
    "Definiálom a változókat, az indexeiket az 'ingredients' listából kapják, 0 alsó korláttal és mindegyik folytonos"
   ]
  },
  {
   "cell_type": "code",
   "execution_count": 77,
   "id": "68ac271a",
   "metadata": {
    "ExecuteTime": {
     "end_time": "2023-03-22T09:46:00.523888Z",
     "start_time": "2023-03-22T09:46:00.504911Z"
    },
    "slideshow": {
     "slide_type": "fragment"
    }
   },
   "outputs": [],
   "source": [
    "x = pl.LpVariable.dicts(name=\"Összetevők\",\n",
    "                        indexs=ingredients,\n",
    "                        lowBound=0,\n",
    "                        cat=\"Continuous\") # egészértékű változó esetén \"Integer\" lenne"
   ]
  },
  {
   "cell_type": "markdown",
   "id": "fc042dde",
   "metadata": {
    "ExecuteTime": {
     "end_time": "2023-03-22T09:23:57.315447Z",
     "start_time": "2023-03-22T09:23:57.146099Z"
    },
    "slideshow": {
     "slide_type": "fragment"
    }
   },
   "source": [
    "Költségfüggvény:"
   ]
  },
  {
   "cell_type": "code",
   "execution_count": 78,
   "id": "490c6d54",
   "metadata": {
    "ExecuteTime": {
     "end_time": "2023-03-22T09:46:00.777179Z",
     "start_time": "2023-03-22T09:46:00.761222Z"
    },
    "slideshow": {
     "slide_type": "fragment"
    }
   },
   "outputs": [],
   "source": [
    "prob += (pl.lpSum(costs[i] * x[i] for i in ingredients), \"költség\")"
   ]
  },
  {
   "cell_type": "markdown",
   "id": "89e37113",
   "metadata": {
    "ExecuteTime": {
     "end_time": "2023-03-22T09:23:57.315447Z",
     "start_time": "2023-03-22T09:23:57.146099Z"
    },
    "slideshow": {
     "slide_type": "subslide"
    }
   },
   "source": [
    "Alsó korlátok a tápanyagokra:"
   ]
  },
  {
   "cell_type": "code",
   "execution_count": 79,
   "id": "4b41f41e",
   "metadata": {
    "ExecuteTime": {
     "end_time": "2023-03-22T09:46:01.141209Z",
     "start_time": "2023-03-22T09:46:01.130237Z"
    },
    "slideshow": {
     "slide_type": "fragment"
    }
   },
   "outputs": [],
   "source": [
    "for n in nutrientsLower:\n",
    "    prob += (pl.lpSum(nutrientPercentage[n][i] * x[i] for i in ingredients) >= nutrientBounds[n], n)"
   ]
  },
  {
   "cell_type": "markdown",
   "id": "b6f9099c",
   "metadata": {
    "ExecuteTime": {
     "end_time": "2023-03-22T09:23:57.315447Z",
     "start_time": "2023-03-22T09:23:57.146099Z"
    },
    "slideshow": {
     "slide_type": "fragment"
    }
   },
   "source": [
    "Felső korlátok a tápanyagokra:"
   ]
  },
  {
   "cell_type": "code",
   "execution_count": 80,
   "id": "189c2b2d",
   "metadata": {
    "ExecuteTime": {
     "end_time": "2023-03-22T09:46:01.380568Z",
     "start_time": "2023-03-22T09:46:01.375580Z"
    },
    "slideshow": {
     "slide_type": "fragment"
    }
   },
   "outputs": [],
   "source": [
    "for n in nutrientsUpper:\n",
    "    prob += (pl.lpSum(nutrientPercentage[n][i] * x[i] for i in ingredients) <= nutrientBounds[n], n)"
   ]
  },
  {
   "cell_type": "markdown",
   "id": "ca843f08",
   "metadata": {
    "ExecuteTime": {
     "end_time": "2023-03-22T09:23:57.315447Z",
     "start_time": "2023-03-22T09:23:57.146099Z"
    },
    "slideshow": {
     "slide_type": "fragment"
    }
   },
   "source": [
    "Korlát a nettó tömegre"
   ]
  },
  {
   "cell_type": "code",
   "execution_count": 81,
   "id": "aa7b08b0",
   "metadata": {
    "ExecuteTime": {
     "end_time": "2023-03-22T09:46:01.602974Z",
     "start_time": "2023-03-22T09:46:01.594992Z"
    },
    "slideshow": {
     "slide_type": "fragment"
    }
   },
   "outputs": [],
   "source": [
    "prob += (pl.lpSum(x[i] for i in ingredients) == 100, \"nettó tömeg\")"
   ]
  },
  {
   "cell_type": "markdown",
   "id": "57e261c0",
   "metadata": {
    "ExecuteTime": {
     "end_time": "2023-03-22T09:23:57.989100Z",
     "start_time": "2023-03-22T09:23:57.976101Z"
    },
    "slideshow": {
     "slide_type": "subslide"
    }
   },
   "source": [
    "Kiírom a jelenlegi LP-t"
   ]
  },
  {
   "cell_type": "code",
   "execution_count": 82,
   "id": "a6d74d7b",
   "metadata": {
    "ExecuteTime": {
     "end_time": "2023-03-22T09:46:01.839337Z",
     "start_time": "2023-03-22T09:46:01.822418Z"
    },
    "slideshow": {
     "slide_type": "fragment"
    }
   },
   "outputs": [
    {
     "name": "stdout",
     "output_type": "stream",
     "text": [
      "KeverésiProbléma:\n",
      "MINIMIZE\n",
      "0.01*Összetevők_BIRKA + 0.013*Összetevők_CSIRKE + 0.005*Összetevők_KORPA + 0.008*Összetevők_MARHA + 0.002*Összetevők_RIZS + 0.001*Összetevők_ZSELATIN + 0.0\n",
      "SUBJECT TO\n",
      "fehérje: 0.15 Összetevők_BIRKA + 0.1 Összetevők_CSIRKE + 0.04 Összetevők_KORPA\n",
      " + 0.2 Összetevők_MARHA >= 8\n",
      "\n",
      "zsír: 0.11 Összetevők_BIRKA + 0.08 Összetevők_CSIRKE + 0.01 Összetevők_KORPA\n",
      " + 0.1 Összetevők_MARHA + 0.01 Összetevők_RIZS >= 6\n",
      "\n",
      "rost: 0.003 Összetevők_BIRKA + 0.001 Összetevők_CSIRKE + 0.15 Összetevők_KORPA\n",
      " + 0.005 Összetevők_MARHA + 0.1 Összetevők_RIZS <= 2\n",
      "\n",
      "só: 0.007 Összetevők_BIRKA + 0.002 Összetevők_CSIRKE + 0.008 Összetevők_KORPA\n",
      " + 0.005 Összetevők_MARHA + 0.002 Összetevők_RIZS <= 0.4\n",
      "\n",
      "nettó_tömeg: Összetevők_BIRKA + Összetevők_CSIRKE + Összetevők_KORPA\n",
      " + Összetevők_MARHA + Összetevők_RIZS + Összetevők_ZSELATIN = 100\n",
      "\n",
      "VARIABLES\n",
      "Összetevők_BIRKA Continuous\n",
      "Összetevők_CSIRKE Continuous\n",
      "Összetevők_KORPA Continuous\n",
      "Összetevők_MARHA Continuous\n",
      "Összetevők_RIZS Continuous\n",
      "Összetevők_ZSELATIN Continuous\n",
      "\n"
     ]
    }
   ],
   "source": [
    "print(prob)"
   ]
  },
  {
   "cell_type": "markdown",
   "id": "f8845f1d",
   "metadata": {
    "ExecuteTime": {
     "end_time": "2023-03-22T09:24:01.057753Z",
     "start_time": "2023-03-22T09:24:00.841041Z"
    },
    "slideshow": {
     "slide_type": "subslide"
    }
   },
   "source": [
    "Megoldom"
   ]
  },
  {
   "cell_type": "code",
   "execution_count": 83,
   "id": "9342f080",
   "metadata": {
    "ExecuteTime": {
     "end_time": "2023-03-22T09:46:02.077699Z",
     "start_time": "2023-03-22T09:46:02.043792Z"
    },
    "slideshow": {
     "slide_type": "fragment"
    }
   },
   "outputs": [
    {
     "data": {
      "text/plain": [
       "1"
      ]
     },
     "execution_count": 83,
     "metadata": {},
     "output_type": "execute_result"
    }
   ],
   "source": [
    "prob.solve()"
   ]
  },
  {
   "cell_type": "markdown",
   "id": "66a68e5f",
   "metadata": {
    "ExecuteTime": {
     "end_time": "2023-03-22T09:24:01.057753Z",
     "start_time": "2023-03-22T09:24:00.841041Z"
    },
    "slideshow": {
     "slide_type": "fragment"
    }
   },
   "source": [
    "Kiírom az optimális költséget, összetételt és tápanyagokat"
   ]
  },
  {
   "cell_type": "code",
   "execution_count": 84,
   "id": "93c95d48",
   "metadata": {
    "ExecuteTime": {
     "end_time": "2023-03-22T09:46:02.312852Z",
     "start_time": "2023-03-22T09:46:02.288170Z"
    },
    "slideshow": {
     "slide_type": "fragment"
    }
   },
   "outputs": [
    {
     "name": "stdout",
     "output_type": "stream",
     "text": [
      "Költség: 0.52 $\n",
      "--------------------\n",
      "Összetevők\n",
      "BIRKA : 0.0 g\n",
      "CSIRKE : 0.0 g\n",
      "KORPA : 0.0 g\n",
      "MARHA : 60.0 g\n",
      "RIZS : 0.0 g\n",
      "ZSELATIN : 40.0 g\n",
      "--------------------\n",
      "Tápanyagok\n",
      "fehérje : 12.0 g\n",
      "zsír : 6.0 g\n",
      "rost : 0.30000000000000004 g\n",
      "só : 0.3 g\n"
     ]
    }
   ],
   "source": [
    "print(\"Költség:\", pl.value(prob.objective), \"$\")\n",
    "print(\"--------------------\")\n",
    "print(\"Összetevők\")\n",
    "for v in prob.variables():\n",
    "    print(v.name.split(\"_\")[1], \":\", v.varValue, \"g\")\n",
    "print(\"--------------------\")\n",
    "print(\"Tápanyagok\")    \n",
    "for n in nutrientsLower:\n",
    "    print(n, \":\", pl.value(prob.constraints[n]) + nutrientBounds[n], \"g\")\n",
    "for n in nutrientsUpper:    \n",
    "    print(n, \":\", pl.value(prob.constraints[n]) + nutrientBounds[n], \"g\")"
   ]
  }
 ],
 "metadata": {
  "celltoolbar": "Slideshow",
  "kernelspec": {
   "display_name": "Python 3",
   "language": "python",
   "name": "python3"
  },
  "language_info": {
   "codemirror_mode": {
    "name": "ipython",
    "version": 3
   },
   "file_extension": ".py",
   "mimetype": "text/x-python",
   "name": "python",
   "nbconvert_exporter": "python",
   "pygments_lexer": "ipython3",
   "version": "3.7.10"
  },
  "latex_envs": {
   "LaTeX_envs_menu_present": true,
   "autoclose": true,
   "autocomplete": true,
   "bibliofile": "biblio.bib",
   "cite_by": "apalike",
   "current_citInitial": 1,
   "eqLabelWithNumbers": true,
   "eqNumInitial": 1,
   "hotkeys": {
    "equation": "Ctrl-E",
    "itemize": "Ctrl-I"
   },
   "labels_anchors": false,
   "latex_user_defs": false,
   "report_style_numbering": true,
   "user_envs_cfg": false
  },
  "toc": {
   "base_numbering": 1,
   "nav_menu": {},
   "number_sections": true,
   "sideBar": true,
   "skip_h1_title": false,
   "title_cell": "Table of Contents",
   "title_sidebar": "Contents",
   "toc_cell": false,
   "toc_position": {},
   "toc_section_display": true,
   "toc_window_display": false
  },
  "varInspector": {
   "cols": {
    "lenName": 16,
    "lenType": 16,
    "lenVar": 40
   },
   "kernels_config": {
    "python": {
     "delete_cmd_postfix": "",
     "delete_cmd_prefix": "del ",
     "library": "var_list.py",
     "varRefreshCmd": "print(var_dic_list())"
    },
    "r": {
     "delete_cmd_postfix": ") ",
     "delete_cmd_prefix": "rm(",
     "library": "var_list.r",
     "varRefreshCmd": "cat(var_dic_list()) "
    }
   },
   "types_to_exclude": [
    "module",
    "function",
    "builtin_function_or_method",
    "instance",
    "_Feature"
   ],
   "window_display": false
  }
 },
 "nbformat": 4,
 "nbformat_minor": 5
}
