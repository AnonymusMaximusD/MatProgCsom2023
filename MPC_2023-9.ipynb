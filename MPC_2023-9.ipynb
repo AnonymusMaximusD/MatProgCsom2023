{
 "cells": [
  {
   "cell_type": "markdown",
   "id": "8c77b227",
   "metadata": {},
   "source": [
    "# MAF II. Hetedik gyakorlat"
   ]
  },
  {
   "cell_type": "markdown",
   "id": "0770d187",
   "metadata": {},
   "source": [
    "# Polyline"
   ]
  },
  {
   "cell_type": "markdown",
   "id": "7a166145",
   "metadata": {},
   "source": [
    "Adott $n$ pont a síkon. Kössük őket össze egyenes szakaszokkal úgy, hogy bármely két egymást követő szakasz hegyesszöget zárjon be!"
   ]
  },
  {
   "cell_type": "markdown",
   "id": "b3a3c235",
   "metadata": {},
   "source": [
    "# Forgalom egyirányúsítása"
   ]
  },
  {
   "cell_type": "markdown",
   "id": "500d8a5a",
   "metadata": {},
   "source": [
    "Tegyük fel, hogy valamiért szeretnénk, hogy egy településen minden utca egyirányú legyen. Ez alatt azt értjük, hogy bármely két, úttal összekötött kereszteződés közötti útszakaszon csak egyirányú forgalom lehet. Meg lehet csinálni? És ha igen, hogyan?\n",
    "\n",
    "A kereszteződések $1$-től $m$-ig vannak sorszámozva, az útszakaszok pedig $(i,j)$ párokként vannak megadva."
   ]
  },
  {
   "cell_type": "code",
   "execution_count": 303,
   "id": "f9008205",
   "metadata": {
    "ExecuteTime": {
     "end_time": "2021-10-19T13:02:56.473918Z",
     "start_time": "2021-10-19T13:02:56.467060Z"
    }
   },
   "outputs": [],
   "source": [
    "streets = [(1, 2),\n",
    "           (2, 3),\n",
    "           (1, 3),\n",
    "           (4, 5),\n",
    "           (4, 6),\n",
    "           (5, 6),\n",
    "           (2, 4),\n",
    "           (3, 5)]"
   ]
  }
 ],
 "metadata": {
  "kernelspec": {
   "display_name": "Python 3",
   "language": "python",
   "name": "python3"
  },
  "language_info": {
   "codemirror_mode": {
    "name": "ipython",
    "version": 3
   },
   "file_extension": ".py",
   "mimetype": "text/x-python",
   "name": "python",
   "nbconvert_exporter": "python",
   "pygments_lexer": "ipython3",
   "version": "3.7.10"
  },
  "latex_envs": {
   "LaTeX_envs_menu_present": true,
   "autoclose": true,
   "autocomplete": true,
   "bibliofile": "biblio.bib",
   "cite_by": "apalike",
   "current_citInitial": 1,
   "eqLabelWithNumbers": true,
   "eqNumInitial": 1,
   "hotkeys": {
    "equation": "Ctrl-E",
    "itemize": "Ctrl-I"
   },
   "labels_anchors": false,
   "latex_user_defs": false,
   "report_style_numbering": true,
   "user_envs_cfg": false
  },
  "toc": {
   "base_numbering": 1,
   "nav_menu": {},
   "number_sections": true,
   "sideBar": true,
   "skip_h1_title": false,
   "title_cell": "Table of Contents",
   "title_sidebar": "Contents",
   "toc_cell": false,
   "toc_position": {},
   "toc_section_display": true,
   "toc_window_display": false
  },
  "varInspector": {
   "cols": {
    "lenName": 16,
    "lenType": 16,
    "lenVar": 40
   },
   "kernels_config": {
    "python": {
     "delete_cmd_postfix": "",
     "delete_cmd_prefix": "del ",
     "library": "var_list.py",
     "varRefreshCmd": "print(var_dic_list())"
    },
    "r": {
     "delete_cmd_postfix": ") ",
     "delete_cmd_prefix": "rm(",
     "library": "var_list.r",
     "varRefreshCmd": "cat(var_dic_list()) "
    }
   },
   "types_to_exclude": [
    "module",
    "function",
    "builtin_function_or_method",
    "instance",
    "_Feature"
   ],
   "window_display": false
  }
 },
 "nbformat": 4,
 "nbformat_minor": 5
}
