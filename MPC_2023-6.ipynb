{
 "cells": [
  {
   "cell_type": "markdown",
   "metadata": {},
   "source": [
    "# Matematikai algoritmusok és felfedezések II. - Negyedik gyakorlat (SAT)"
   ]
  },
  {
   "cell_type": "markdown",
   "metadata": {},
   "source": [
    "## SAT - Logikai kielégíthetőség\n",
    "\n",
    "| Matematikai jelölés                     | Megnevezés             | PySAT szintaxis          |\n",
    "| :--------------- ---------------------- |    :----:              |                ---:      |\n",
    "| $x_1$                                   | Literál                |       `1`                |\n",
    "| $\\lnot x_1$                             | Literál negáltja       |       `-1`               |\n",
    "| $\\left(x_1\\lor x_2\\lor\\lnot x_3\\right)$ | Klóz (clause)          |       `[1,2,-3]`         |\n",
    "| $(x_1\\lor x_2)\\land(x_1\\lor\\lnot x_3)$  | Konjunktív normálforma | `CNF([[1, 2], [1, -3]])` |\n",
    "\n",
    "Engedélyezett műveletek egy konjunktív normálformában (**CNF**):\n",
    "* Literálok és tagadásuk \"össze-**VAGY**-olása\" klózokká,\n",
    "* Klózok \"össze-**ÉS**-elése\".\n",
    "\n",
    "Egy CNF ezen két művelet felhasználásával létrejövő logikai formula. A SAT feladat annak eldöntése, hogy tudunk-e olyan értéket adni a literáloknak (**IGAZ** vagy **HAMIS**), amelyek mellett a logikai formula **IGAZ**-ra értékelődik ki.\n",
    "\n",
    "---\n",
    "\n",
    "__Állítás:__ Tetszőleges logikai formula átalakítható konjunktív normálformára.\n",
    "\n",
    "---\n",
    "\n",
    "__Igazságtábla:__ Egy olyan táblázat, ahol felsoroljuk az összes lehetséges értékét a literáloknak ($n$ literál esetén ez $2^n$ lehetséges kiértékelés) illetve az adott értékek mellett a logikai formula értékét. Ennek segítségével tetszőleges logikai formula CNF-fé alakítható.\n",
    "\n",
    "Például vegyük azt a kifejezést, hogy\n",
    "\n",
    "$$\\phi\\colon = x_1 \\land \\lnot x_2\\implies x_3 \\land\\lnot x_1.$$\n",
    "\n",
    "Ezzel ekvivalens, az, hogy\n",
    "\n",
    "$$\n",
    "    (\\lnot x_1 \\lor x_2) \\lor (x_3\\land \\lnot x_1).\n",
    "$$\n",
    "\n",
    "Ez nyilvánvalóan nem CNF. Írjuk fel az igazságtábláját:\n",
    "\n",
    "| $x_1$  | $x_2$  | $x_3$  | $\\lnot x_1 \\lor x_2$ | $x_3\\land \\lnot x_1$ |$\\phi$ |\n",
    "| :----: | :----: | :----: | :----: | :----: | :----: |\n",
    "| $0$    | $0$    | $0$    | $1$    | $0$    |  $1$   |\n",
    "| $0$    | $0$    | $1$    | $1$    | $1$    |  $1$   |\n",
    "| $0$    | $1$    | $0$    | $1$    | $0$    |  $1$   |\n",
    "| $0$    | $1$    | $1$    | $1$    | $1$    |  $1$   |\n",
    "| $1$    | $0$    | $0$    | $0$    | $0$    |  $0$   |\n",
    "| $1$    | $0$    | $1$    | $0$    | $0$    |  $0$   |\n",
    "| $1$    | $1$    | $0$    | $1$    | $0$    |  $1$   |\n",
    "| $1$    | $1$    | $1$    | $1$    | $0$    |  $1$   |\n",
    "\n",
    "_(itt az egyszerűség kedvéért az **IGAZ** értéket $1$-gyel, a **HAMIS**-at $0$-val jelöltem.)_\n",
    "\n",
    "Ez CNF-ként az alábbi lenne:\n",
    "\n",
    "$$\n",
    "    (\\lnot x_1\\lor x_2\\lor x_3)\\land(\\lnot x_1\\lor x_2\\lor\\lnot x_3).\n",
    "$$\n",
    "\n",
    "Az eljárás lényege:\n",
    "* Kiválasztjuk azokat a sorokat, amelyekben **HAMIS** a formula értéke\n",
    "* Ennek a sornak minden literálját tagadjuk, és csinálunk belőle egy klózt\n",
    "* Az így kapott klózokat össze-**ÉS**-eljük."
   ]
  },
  {
   "cell_type": "markdown",
   "metadata": {},
   "source": [
    "## PySAT"
   ]
  },
  {
   "cell_type": "code",
   "execution_count": 2,
   "metadata": {
    "ExecuteTime": {
     "end_time": "2023-04-12T09:16:25.449283Z",
     "start_time": "2023-04-12T09:16:25.380905Z"
    }
   },
   "outputs": [],
   "source": [
    "from pysat.formula import CNF\n",
    "from pysat.solvers import Glucose3\n",
    "from pysat.formula import IDPool"
   ]
  },
  {
   "cell_type": "code",
   "execution_count": 3,
   "metadata": {
    "ExecuteTime": {
     "end_time": "2023-04-12T09:16:25.571467Z",
     "start_time": "2023-04-12T09:16:25.544506Z"
    }
   },
   "outputs": [
    {
     "data": {
      "text/plain": [
       "[[1, 2, 3], [-1, 2, -3]]"
      ]
     },
     "execution_count": 3,
     "metadata": {},
     "output_type": "execute_result"
    }
   ],
   "source": [
    "# Create an empty CNF and add clauses\n",
    "formula = CNF()\n",
    "formula.append([1,2,3])\n",
    "formula.append([-1,2,-3])\n",
    "\n",
    "formula.clauses"
   ]
  },
  {
   "cell_type": "code",
   "execution_count": 4,
   "metadata": {
    "ExecuteTime": {
     "end_time": "2023-04-12T09:16:25.743422Z",
     "start_time": "2023-04-12T09:16:25.732452Z"
    }
   },
   "outputs": [
    {
     "data": {
      "text/plain": [
       "[[1, 2, 3], [-1, 2, -3]]"
      ]
     },
     "execution_count": 4,
     "metadata": {},
     "output_type": "execute_result"
    }
   ],
   "source": [
    "formula = CNF()\n",
    "formula.extend([[1,2,3], [-1,2,-3]])\n",
    "\n",
    "formula.clauses"
   ]
  },
  {
   "cell_type": "code",
   "execution_count": 5,
   "metadata": {
    "ExecuteTime": {
     "end_time": "2023-04-12T09:16:25.948895Z",
     "start_time": "2023-04-12T09:16:25.929907Z"
    }
   },
   "outputs": [
    {
     "data": {
      "text/plain": [
       "(True, [1, -2, -3])"
      ]
     },
     "execution_count": 5,
     "metadata": {},
     "output_type": "execute_result"
    }
   ],
   "source": [
    "# Initialize solver instance, add clauses and solve it\n",
    "g = Glucose3()\n",
    "g.add_clause([1,2,3])\n",
    "g.add_clause([-1,2,-3])\n",
    "g.solve(), g.get_model()"
   ]
  },
  {
   "cell_type": "code",
   "execution_count": 6,
   "metadata": {
    "ExecuteTime": {
     "end_time": "2023-04-12T09:16:26.106623Z",
     "start_time": "2023-04-12T09:16:26.084684Z"
    }
   },
   "outputs": [
    {
     "data": {
      "text/plain": [
       "(True, [1, -2, -3])"
      ]
     },
     "execution_count": 6,
     "metadata": {},
     "output_type": "execute_result"
    }
   ],
   "source": [
    "# Initialize solver and add clauses from a formula\n",
    "g = Glucose3()\n",
    "for c in formula.clauses:\n",
    "    g.add_clause(c)\n",
    "\n",
    "g.solve(), g.get_model()"
   ]
  },
  {
   "cell_type": "code",
   "execution_count": 7,
   "metadata": {
    "ExecuteTime": {
     "end_time": "2023-04-12T09:16:26.263211Z",
     "start_time": "2023-04-12T09:16:26.248246Z"
    }
   },
   "outputs": [
    {
     "data": {
      "text/plain": [
       "(True, [1, -2, -3])"
      ]
     },
     "execution_count": 7,
     "metadata": {},
     "output_type": "execute_result"
    }
   ],
   "source": [
    "# Initialize solver with CNF and solve it\n",
    "g = Glucose3(formula)\n",
    "\n",
    "g.solve(), g.get_model()"
   ]
  },
  {
   "cell_type": "code",
   "execution_count": 8,
   "metadata": {
    "ExecuteTime": {
     "end_time": "2023-04-12T09:16:26.432602Z",
     "start_time": "2023-04-12T09:16:26.421596Z"
    }
   },
   "outputs": [
    {
     "data": {
      "text/plain": [
       "(True, [-1, -2, 3])"
      ]
     },
     "execution_count": 8,
     "metadata": {},
     "output_type": "execute_result"
    }
   ],
   "source": [
    "# Initialize solver with CNF and solve it with fixed variables\n",
    "g = Glucose3(formula)\n",
    "\n",
    "g.solve(assumptions=[3]), g.get_model()"
   ]
  },
  {
   "cell_type": "code",
   "execution_count": 9,
   "metadata": {
    "ExecuteTime": {
     "end_time": "2023-04-12T09:16:26.667809Z",
     "start_time": "2023-04-12T09:16:26.646866Z"
    }
   },
   "outputs": [
    {
     "name": "stdout",
     "output_type": "stream",
     "text": [
      "[['x_0', 'x_1'], ['x_0', 'x_2'], ['x_0', 'x_3'], ['x_0', 'x_4'], ['x_0', 'x_5'], ['x_1', 'x_2'], ['x_1', 'x_3'], ['x_1', 'x_4'], ['x_1', 'x_5'], ['x_2', 'x_3'], ['x_2', 'x_4'], ['x_2', 'x_5'], ['x_3', 'x_4'], ['x_3', 'x_5'], ['x_4', 'x_5']]\n"
     ]
    }
   ],
   "source": [
    "# Variable IDs\n",
    "vpool = IDPool()\n",
    "x = lambda i: vpool.id(f'x_{i}')\n",
    "\n",
    "formula = CNF()\n",
    "for i in range(5):\n",
    "    for j in range(i+1, 6):\n",
    "        formula.append([x(i), x(j)])\n",
    "        \n",
    "print([[vpool.obj(i) for i in clause] for clause in formula.clauses])"
   ]
  },
  {
   "cell_type": "markdown",
   "metadata": {},
   "source": [
    "## Telepítés\n",
    "\n",
    "https://pysathq.github.io/index.html\n",
    "\n",
    "__Telepítés után újra kell indítani a kernelt!__"
   ]
  },
  {
   "cell_type": "code",
   "execution_count": 10,
   "metadata": {
    "ExecuteTime": {
     "end_time": "2023-04-12T09:16:30.409643Z",
     "start_time": "2023-04-12T09:16:27.619135Z"
    },
    "scrolled": false
   },
   "outputs": [
    {
     "name": "stdout",
     "output_type": "stream",
     "text": [
      "Requirement already satisfied: python-sat in c:\\users\\peter dobrovoczki\\appdata\\roaming\\python\\python37\\site-packages (0.1.8.dev2)\n",
      "Requirement already satisfied: six in c:\\users\\peter dobrovoczki\\anaconda3\\envs\\notebook\\lib\\site-packages (from python-sat) (1.15.0)\n"
     ]
    }
   ],
   "source": [
    "!pip install --user python-sat"
   ]
  },
  {
   "cell_type": "markdown",
   "metadata": {},
   "source": [
    "## Feladatok"
   ]
  },
  {
   "cell_type": "markdown",
   "metadata": {},
   "source": [
    "### 1) Bemelegítés\n",
    "Legyen $x_1,x_2$ és $x_3$ logikai változók, írj fel egy olyan $\\phi(x_1,x_2,x_3)$ logikai formulát, amely pontosan akkor igaz, ha\n",
    "* legfeljebb kettő változó igaz,\n",
    "* legfeljebb egy változó igaz,\n",
    "* minden változó igaz,\n",
    "* pontosan az egyik változó igaz."
   ]
  },
  {
   "cell_type": "code",
   "execution_count": 11,
   "metadata": {
    "ExecuteTime": {
     "end_time": "2023-04-12T09:16:30.441559Z",
     "start_time": "2023-04-12T09:16:30.430588Z"
    }
   },
   "outputs": [],
   "source": [
    "at_most_two = CNF()\n",
    "\n",
    "# TODO"
   ]
  },
  {
   "cell_type": "code",
   "execution_count": 12,
   "metadata": {
    "ExecuteTime": {
     "end_time": "2023-04-12T09:16:30.707663Z",
     "start_time": "2023-04-12T09:16:30.699686Z"
    }
   },
   "outputs": [],
   "source": [
    "at_most_one = CNF()\n",
    "\n",
    "# TODO"
   ]
  },
  {
   "cell_type": "code",
   "execution_count": 13,
   "metadata": {
    "ExecuteTime": {
     "end_time": "2023-04-12T09:16:31.180404Z",
     "start_time": "2023-04-12T09:16:31.164444Z"
    },
    "scrolled": true
   },
   "outputs": [],
   "source": [
    "same = CNF()\n",
    "\n",
    "# TODO"
   ]
  },
  {
   "cell_type": "code",
   "execution_count": 14,
   "metadata": {
    "ExecuteTime": {
     "end_time": "2023-04-12T09:16:31.242717Z",
     "start_time": "2023-04-12T09:16:31.229238Z"
    }
   },
   "outputs": [],
   "source": [
    "exactly_one = CNF()\n",
    "\n",
    "# TODO"
   ]
  },
  {
   "cell_type": "markdown",
   "metadata": {},
   "source": [
    "### 2) \"Pontosan egy\", \"legfeljebb egy\" segédfüggvények\n",
    "Írj egy függvényt, amely klózoknak egy olyan listáját adja vissza, amely CNF-ként értelmezve pontosan akkor igaz, ha pontosan egy literál igaz/ legfeljebb egy literál igaz.\n",
    "\n",
    "_(Hint: az egyiket felhasználva könnyen megkapható a másik.)_"
   ]
  },
  {
   "cell_type": "code",
   "execution_count": 15,
   "metadata": {
    "ExecuteTime": {
     "end_time": "2023-04-12T09:16:31.696450Z",
     "start_time": "2023-04-12T09:16:31.683485Z"
    }
   },
   "outputs": [],
   "source": [
    "def at_most_one(lits):\n",
    "    '''\n",
    "        Given a list of literals the function creates the clauses of the CNF\n",
    "        that is true iff at most one literal is true\n",
    "    '''\n",
    "    # TODO"
   ]
  },
  {
   "cell_type": "code",
   "execution_count": 17,
   "metadata": {
    "ExecuteTime": {
     "end_time": "2023-04-12T09:16:32.043953Z",
     "start_time": "2023-04-12T09:16:32.037969Z"
    }
   },
   "outputs": [],
   "source": [
    "def exactly_one(lits):\n",
    "    '''\n",
    "        Given a list of literals the function creates the clauses of the CNF\n",
    "        that is true iff only one literal is true\n",
    "    '''\n",
    "    # TODO"
   ]
  },
  {
   "cell_type": "markdown",
   "metadata": {},
   "source": [
    "### 3) Igazságtábla\n",
    "\n",
    "Írj egy függvényt, amelynek bemenete egy CNF, és kiírja a kapott CNF igazságtábláját!\n",
    "\n",
    "_(Hint: fel tudod sorolni az összes lehetséges kombinációját a literáloknak az `itertools.combinations()` függvénnyel.)_"
   ]
  },
  {
   "cell_type": "code",
   "execution_count": 19,
   "metadata": {
    "ExecuteTime": {
     "end_time": "2023-04-12T09:16:32.880378Z",
     "start_time": "2023-04-12T09:16:32.874395Z"
    }
   },
   "outputs": [],
   "source": [
    "import itertools\n",
    "\n",
    "def truth_table(cnf):\n",
    "    '''\n",
    "        Compute all possible variations of truth values of literals,\n",
    "        evaluate the formula and print the truth table\n",
    "    '''\n",
    "    # TODO"
   ]
  },
  {
   "cell_type": "markdown",
   "metadata": {},
   "source": [
    "### 4) $n$-királynő probléma\n",
    "\n",
    "Oldd meg az $n$-királynő problémát SAT feladatként! Az $n$-királynő problémában egy $n\\times n$ méretű sakktáblára szeretnénk elhelyezni $n$ királynőt úgy, hogy semelyik kettő ne tudja ütni egymást.\n",
    "* Modellezd SAT problémaként,\n",
    "* oldd meg,\n",
    "* ábrázold az így kapott sakktáblát!\n",
    "\n",
    "_(Hint: a korábban megírt függvények még hasznosak lehetnek)_"
   ]
  },
  {
   "cell_type": "code",
   "execution_count": 20,
   "metadata": {
    "ExecuteTime": {
     "end_time": "2023-04-12T09:16:34.088653Z",
     "start_time": "2023-04-12T09:16:34.074687Z"
    }
   },
   "outputs": [],
   "source": [
    "#from pysat.card import CardEnc, EncType\n",
    "def nqueens(n):\n",
    "    '''\n",
    "        Solve the n queens problem modeled as SAT\n",
    "        input:\n",
    "            n (int) : number of queens\n",
    "            \n",
    "        The pattern\n",
    "    '''\n",
    "    \n",
    "    # TODO\n",
    "        "
   ]
  },
  {
   "cell_type": "code",
   "execution_count": 21,
   "metadata": {
    "ExecuteTime": {
     "end_time": "2023-04-12T09:16:34.621667Z",
     "start_time": "2023-04-12T09:16:34.612685Z"
    }
   },
   "outputs": [],
   "source": [
    "import math\n",
    "def print_nqueens(sol):\n",
    "    '''\n",
    "        Print solution of the n-queens problem\n",
    "    '''\n",
    "    # TODO"
   ]
  }
 ],
 "metadata": {
  "kernelspec": {
   "display_name": "Python 3",
   "language": "python",
   "name": "python3"
  },
  "language_info": {
   "codemirror_mode": {
    "name": "ipython",
    "version": 3
   },
   "file_extension": ".py",
   "mimetype": "text/x-python",
   "name": "python",
   "nbconvert_exporter": "python",
   "pygments_lexer": "ipython3",
   "version": "3.7.10"
  },
  "latex_envs": {
   "LaTeX_envs_menu_present": true,
   "autoclose": true,
   "autocomplete": true,
   "bibliofile": "biblio.bib",
   "cite_by": "apalike",
   "current_citInitial": 1,
   "eqLabelWithNumbers": true,
   "eqNumInitial": 1,
   "hotkeys": {
    "equation": "Ctrl-E",
    "itemize": "Ctrl-I"
   },
   "labels_anchors": false,
   "latex_user_defs": false,
   "report_style_numbering": true,
   "user_envs_cfg": false
  },
  "toc": {
   "base_numbering": 1,
   "nav_menu": {},
   "number_sections": true,
   "sideBar": true,
   "skip_h1_title": false,
   "title_cell": "Table of Contents",
   "title_sidebar": "Contents",
   "toc_cell": false,
   "toc_position": {},
   "toc_section_display": true,
   "toc_window_display": false
  },
  "varInspector": {
   "cols": {
    "lenName": 16,
    "lenType": 16,
    "lenVar": 40
   },
   "kernels_config": {
    "python": {
     "delete_cmd_postfix": "",
     "delete_cmd_prefix": "del ",
     "library": "var_list.py",
     "varRefreshCmd": "print(var_dic_list())"
    },
    "r": {
     "delete_cmd_postfix": ") ",
     "delete_cmd_prefix": "rm(",
     "library": "var_list.r",
     "varRefreshCmd": "cat(var_dic_list()) "
    }
   },
   "types_to_exclude": [
    "module",
    "function",
    "builtin_function_or_method",
    "instance",
    "_Feature"
   ],
   "window_display": false
  }
 },
 "nbformat": 4,
 "nbformat_minor": 2
}
