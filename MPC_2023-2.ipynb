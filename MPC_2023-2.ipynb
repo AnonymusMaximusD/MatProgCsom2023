{
 "cells": [
  {
   "cell_type": "markdown",
   "id": "bb05789c",
   "metadata": {},
   "source": [
    "# Matematikai algoritmusok és felfedezések II - Második gyakorlat"
   ]
  },
  {
   "cell_type": "markdown",
   "id": "44c9937c",
   "metadata": {},
   "source": [
    "## SymPy"
   ]
  },
  {
   "cell_type": "code",
   "execution_count": 2,
   "id": "83adc061",
   "metadata": {
    "ExecuteTime": {
     "end_time": "2021-09-14T11:53:58.251648Z",
     "start_time": "2021-09-14T11:53:58.246663Z"
    }
   },
   "outputs": [],
   "source": [
    "import sympy as sym"
   ]
  },
  {
   "cell_type": "code",
   "execution_count": 63,
   "id": "9f323e48",
   "metadata": {},
   "outputs": [
    {
     "name": "stdout",
     "output_type": "stream",
     "text": [
      "0.055000000000000604\n"
     ]
    }
   ],
   "source": [
    "x = 4.9 - 4.845\n",
    "print(x)"
   ]
  },
  {
   "cell_type": "code",
   "execution_count": 64,
   "id": "011f9738",
   "metadata": {},
   "outputs": [
    {
     "data": {
      "text/plain": [
       "1.1102230246251565e-16"
      ]
     },
     "execution_count": 64,
     "metadata": {},
     "output_type": "execute_result"
    }
   ],
   "source": [
    ".1 + .2 + .3 - .6"
   ]
  },
  {
   "cell_type": "code",
   "execution_count": 65,
   "id": "5330e32f",
   "metadata": {},
   "outputs": [],
   "source": [
    "def foo(n):\n",
    "    res = 0\n",
    "    for _ in range(n):\n",
    "        res += 1/3\n",
    "    return 3*res/n"
   ]
  },
  {
   "cell_type": "code",
   "execution_count": 66,
   "id": "927386b5",
   "metadata": {},
   "outputs": [
    {
     "data": {
      "text/plain": [
       "0.9999999999999954"
      ]
     },
     "execution_count": 66,
     "metadata": {},
     "output_type": "execute_result"
    }
   ],
   "source": [
    "foo(1000)"
   ]
  },
  {
   "cell_type": "code",
   "execution_count": 69,
   "id": "e7643497",
   "metadata": {},
   "outputs": [],
   "source": [
    "def bar(n):\n",
    "    return 3*sym.Sum(sym.Rational(1,3), (sym.Symbol(\"i\"),1,n))/n"
   ]
  },
  {
   "cell_type": "code",
   "execution_count": 72,
   "id": "3f858aac",
   "metadata": {},
   "outputs": [
    {
     "data": {
      "text/latex": [
       "$\\displaystyle \\frac{3 \\sum_{i=1}^{1000} \\frac{1}{3}}{1000}$"
      ],
      "text/plain": [
       "3*Sum(1/3, (i, 1, 1000))/1000"
      ]
     },
     "execution_count": 72,
     "metadata": {},
     "output_type": "execute_result"
    }
   ],
   "source": [
    "S = bar(1000)\n",
    "S"
   ]
  },
  {
   "cell_type": "code",
   "execution_count": 73,
   "id": "733b7f0a",
   "metadata": {},
   "outputs": [
    {
     "data": {
      "text/latex": [
       "$\\displaystyle 1$"
      ],
      "text/plain": [
       "1"
      ]
     },
     "execution_count": 73,
     "metadata": {},
     "output_type": "execute_result"
    }
   ],
   "source": [
    "S.doit()"
   ]
  },
  {
   "cell_type": "markdown",
   "id": "8821ef24",
   "metadata": {},
   "source": [
    "### Szimbólumok"
   ]
  },
  {
   "cell_type": "markdown",
   "id": "381204ad",
   "metadata": {},
   "source": [
    "#### Beépített szimbólumok"
   ]
  },
  {
   "cell_type": "code",
   "execution_count": 3,
   "id": "841f9c79",
   "metadata": {
    "ExecuteTime": {
     "end_time": "2021-09-14T11:53:58.417212Z",
     "start_time": "2021-09-14T11:53:58.405238Z"
    }
   },
   "outputs": [
    {
     "data": {
      "text/latex": [
       "$\\displaystyle i$"
      ],
      "text/plain": [
       "I"
      ]
     },
     "execution_count": 3,
     "metadata": {},
     "output_type": "execute_result"
    }
   ],
   "source": [
    "sym.I"
   ]
  },
  {
   "cell_type": "code",
   "execution_count": 4,
   "id": "49bb7f17",
   "metadata": {
    "ExecuteTime": {
     "end_time": "2021-09-14T11:53:58.466075Z",
     "start_time": "2021-09-14T11:53:58.428176Z"
    }
   },
   "outputs": [
    {
     "data": {
      "text/latex": [
       "$\\displaystyle \\infty$"
      ],
      "text/plain": [
       "oo"
      ]
     },
     "execution_count": 4,
     "metadata": {},
     "output_type": "execute_result"
    }
   ],
   "source": [
    "sym.oo"
   ]
  },
  {
   "cell_type": "code",
   "execution_count": 5,
   "id": "672e8ac1",
   "metadata": {
    "ExecuteTime": {
     "end_time": "2021-09-14T11:53:58.484027Z",
     "start_time": "2021-09-14T11:53:58.471063Z"
    }
   },
   "outputs": [
    {
     "data": {
      "text/latex": [
       "$\\displaystyle \\pi$"
      ],
      "text/plain": [
       "pi"
      ]
     },
     "execution_count": 5,
     "metadata": {},
     "output_type": "execute_result"
    }
   ],
   "source": [
    "sym.pi"
   ]
  },
  {
   "cell_type": "code",
   "execution_count": 6,
   "id": "f38b1002",
   "metadata": {
    "ExecuteTime": {
     "end_time": "2021-09-14T11:53:58.507982Z",
     "start_time": "2021-09-14T11:53:58.489016Z"
    }
   },
   "outputs": [
    {
     "data": {
      "text/latex": [
       "$\\displaystyle e$"
      ],
      "text/plain": [
       "E"
      ]
     },
     "execution_count": 6,
     "metadata": {},
     "output_type": "execute_result"
    }
   ],
   "source": [
    "sym.E"
   ]
  },
  {
   "cell_type": "markdown",
   "id": "08689ef5",
   "metadata": {},
   "source": [
    "#### Saját szimbólumok"
   ]
  },
  {
   "cell_type": "code",
   "execution_count": 7,
   "id": "00a392d1",
   "metadata": {
    "ExecuteTime": {
     "end_time": "2021-09-14T11:53:58.578775Z",
     "start_time": "2021-09-14T11:53:58.571793Z"
    }
   },
   "outputs": [
    {
     "data": {
      "text/latex": [
       "$\\displaystyle x$"
      ],
      "text/plain": [
       "x"
      ]
     },
     "execution_count": 7,
     "metadata": {},
     "output_type": "execute_result"
    }
   ],
   "source": [
    "x = sym.Symbol(\"x\")\n",
    "x"
   ]
  },
  {
   "cell_type": "code",
   "execution_count": 9,
   "id": "4bca6ebd",
   "metadata": {
    "ExecuteTime": {
     "end_time": "2021-09-14T11:53:58.611687Z",
     "start_time": "2021-09-14T11:53:58.588748Z"
    }
   },
   "outputs": [
    {
     "data": {
      "text/latex": [
       "$\\displaystyle y$"
      ],
      "text/plain": [
       "y"
      ]
     },
     "execution_count": 9,
     "metadata": {},
     "output_type": "execute_result"
    }
   ],
   "source": [
    "y = sym.S(\"y\")\n",
    "y"
   ]
  },
  {
   "cell_type": "code",
   "execution_count": 10,
   "id": "13662df0",
   "metadata": {
    "ExecuteTime": {
     "end_time": "2021-09-14T11:53:58.635623Z",
     "start_time": "2021-09-14T11:53:58.616677Z"
    }
   },
   "outputs": [
    {
     "data": {
      "text/latex": [
       "$\\displaystyle α$"
      ],
      "text/plain": [
       "α"
      ]
     },
     "execution_count": 10,
     "metadata": {},
     "output_type": "execute_result"
    }
   ],
   "source": [
    "a, b, g = sym.symbols(\"α β γ\")\n",
    "a"
   ]
  },
  {
   "cell_type": "code",
   "execution_count": 11,
   "id": "43109f27",
   "metadata": {
    "ExecuteTime": {
     "end_time": "2021-09-14T11:53:58.651585Z",
     "start_time": "2021-09-14T11:53:58.640614Z"
    }
   },
   "outputs": [
    {
     "data": {
      "text/plain": [
       "sympy.core.symbol.Symbol"
      ]
     },
     "execution_count": 11,
     "metadata": {},
     "output_type": "execute_result"
    }
   ],
   "source": [
    "type(x)"
   ]
  },
  {
   "cell_type": "code",
   "execution_count": 12,
   "id": "7dbc3315",
   "metadata": {
    "ExecuteTime": {
     "end_time": "2021-09-14T11:53:58.674519Z",
     "start_time": "2021-09-14T11:53:58.661554Z"
    }
   },
   "outputs": [
    {
     "data": {
      "text/latex": [
       "$\\displaystyle \\frac{\\sin^{3}{\\left(α + 1 \\right)}}{3}$"
      ],
      "text/plain": [
       "sin(α + 1)**3/3"
      ]
     },
     "execution_count": 12,
     "metadata": {},
     "output_type": "execute_result"
    }
   ],
   "source": [
    "sym.sin(a+1)**3/3"
   ]
  },
  {
   "cell_type": "markdown",
   "id": "20bf16e0",
   "metadata": {},
   "source": [
    "#### Kifejezések"
   ]
  },
  {
   "cell_type": "code",
   "execution_count": 13,
   "id": "54e95dcc",
   "metadata": {
    "ExecuteTime": {
     "end_time": "2021-09-14T12:03:12.555085Z",
     "start_time": "2021-09-14T12:03:12.545121Z"
    }
   },
   "outputs": [
    {
     "data": {
      "text/latex": [
       "$\\displaystyle x^{2} - \\frac{1}{y}$"
      ],
      "text/plain": [
       "x**2 - 1/y"
      ]
     },
     "execution_count": 13,
     "metadata": {},
     "output_type": "execute_result"
    }
   ],
   "source": [
    "x, y = sym.symbols(\"x y\")\n",
    "exp = x**2-1/y\n",
    "exp"
   ]
  },
  {
   "cell_type": "code",
   "execution_count": 14,
   "id": "dac77936",
   "metadata": {
    "ExecuteTime": {
     "end_time": "2021-09-14T12:03:14.064265Z",
     "start_time": "2021-09-14T12:03:14.055286Z"
    }
   },
   "outputs": [
    {
     "data": {
      "text/latex": [
       "$\\displaystyle x^{2} - \\frac{1}{y} + \\frac{1}{x}$"
      ],
      "text/plain": [
       "x**2 - 1/y + 1/x"
      ]
     },
     "execution_count": 14,
     "metadata": {},
     "output_type": "execute_result"
    }
   ],
   "source": [
    "exp = sym.Add(exp, 1/x)\n",
    "exp"
   ]
  },
  {
   "cell_type": "code",
   "execution_count": 15,
   "id": "911eeaa1",
   "metadata": {
    "ExecuteTime": {
     "end_time": "2021-09-14T12:03:26.160963Z",
     "start_time": "2021-09-14T12:03:26.150986Z"
    }
   },
   "outputs": [
    {
     "data": {
      "text/latex": [
       "$\\displaystyle x \\left(x^{2} - \\frac{1}{y} + \\frac{1}{x}\\right)$"
      ],
      "text/plain": [
       "x*(x**2 - 1/y + 1/x)"
      ]
     },
     "execution_count": 15,
     "metadata": {},
     "output_type": "execute_result"
    }
   ],
   "source": [
    "exp = sym.Mul(exp, x)\n",
    "exp"
   ]
  },
  {
   "cell_type": "code",
   "execution_count": 16,
   "id": "8cace19e",
   "metadata": {
    "ExecuteTime": {
     "end_time": "2021-09-14T12:03:32.167868Z",
     "start_time": "2021-09-14T12:03:32.157893Z"
    }
   },
   "outputs": [
    {
     "data": {
      "text/latex": [
       "$\\displaystyle \\left(x \\left(x^{2} - \\frac{1}{y} + \\frac{1}{x}\\right)\\right)^{-0.5}$"
      ],
      "text/plain": [
       "(x*(x**2 - 1/y + 1/x))**(-0.5)"
      ]
     },
     "execution_count": 16,
     "metadata": {},
     "output_type": "execute_result"
    }
   ],
   "source": [
    "exp = sym.Pow(exp, -1/2)\n",
    "exp"
   ]
  },
  {
   "cell_type": "markdown",
   "id": "d5f03f91",
   "metadata": {},
   "source": [
    "#### Behelyettesítés és kiértékelés"
   ]
  },
  {
   "cell_type": "code",
   "execution_count": 17,
   "id": "4ed5a12c",
   "metadata": {
    "ExecuteTime": {
     "end_time": "2021-09-14T11:53:58.776252Z",
     "start_time": "2021-09-14T11:53:58.756300Z"
    }
   },
   "outputs": [
    {
     "data": {
      "text/latex": [
       "$\\displaystyle 0$"
      ],
      "text/plain": [
       "0"
      ]
     },
     "execution_count": 17,
     "metadata": {},
     "output_type": "execute_result"
    }
   ],
   "source": [
    "# Behelyettesítem a kifejezésbe a π-t\n",
    "exp = sym.sin(x)/(x**2)\n",
    "exp.subs(x, sym.pi)"
   ]
  },
  {
   "cell_type": "code",
   "execution_count": 18,
   "id": "ec2edce8",
   "metadata": {
    "ExecuteTime": {
     "end_time": "2021-09-14T11:53:58.808160Z",
     "start_time": "2021-09-14T11:53:58.781237Z"
    }
   },
   "outputs": [
    {
     "data": {
      "text/latex": [
       "$\\displaystyle e^{\\pi^{2}}$"
      ],
      "text/plain": [
       "exp(pi**2)"
      ]
     },
     "execution_count": 18,
     "metadata": {},
     "output_type": "execute_result"
    }
   ],
   "source": [
    "# Ugyanez több változóval (szimbólummal) is működik\n",
    "x, y = sym.symbols(\"x y\")\n",
    "exp = sym.sin(x)*sym.cos(y) + sym.exp(x*y)\n",
    "exp.subs([(x, sym.pi), (y, sym.pi)])"
   ]
  },
  {
   "cell_type": "code",
   "execution_count": 19,
   "id": "b4a8cbdf",
   "metadata": {
    "ExecuteTime": {
     "end_time": "2021-09-14T11:53:58.836086Z",
     "start_time": "2021-09-14T11:53:58.813147Z"
    }
   },
   "outputs": [
    {
     "data": {
      "text/latex": [
       "$\\displaystyle 19333.6890743651$"
      ],
      "text/plain": [
       "19333.6890743651"
      ]
     },
     "execution_count": 19,
     "metadata": {},
     "output_type": "execute_result"
    }
   ],
   "source": [
    "# Kiértékelem\n",
    "sub = exp.subs([(x, sym.pi), (y, sym.pi)])\n",
    "sub.evalf()"
   ]
  },
  {
   "cell_type": "code",
   "execution_count": 20,
   "id": "9953ea89",
   "metadata": {
    "ExecuteTime": {
     "end_time": "2021-09-14T11:53:58.857030Z",
     "start_time": "2021-09-14T11:53:58.840078Z"
    }
   },
   "outputs": [
    {
     "data": {
      "text/latex": [
       "$\\displaystyle 19333.68907436514532291683302501091567284780813612372709863296305763460541122225215370776656342688559$"
      ],
      "text/plain": [
       "19333.68907436514532291683302501091567284780813612372709863296305763460541122225215370776656342688559"
      ]
     },
     "execution_count": 20,
     "metadata": {},
     "output_type": "execute_result"
    }
   ],
   "source": [
    "# Kiértékelem 100 jegyig\n",
    "sub.evalf(100)"
   ]
  },
  {
   "cell_type": "code",
   "execution_count": 21,
   "id": "bb84552a",
   "metadata": {
    "ExecuteTime": {
     "end_time": "2021-09-14T11:53:58.884958Z",
     "start_time": "2021-09-14T11:53:58.861022Z"
    }
   },
   "outputs": [
    {
     "data": {
      "text/latex": [
       "$\\displaystyle 1.4142135623731$"
      ],
      "text/plain": [
       "1.41421356237310"
      ]
     },
     "execution_count": 21,
     "metadata": {},
     "output_type": "execute_result"
    }
   ],
   "source": [
    "# Egyéb kifejezéseket is ki lehet értékelni\n",
    "sym.sqrt(2).evalf()"
   ]
  },
  {
   "cell_type": "markdown",
   "id": "651ce7dc",
   "metadata": {},
   "source": [
    "### Egyszerűsítés"
   ]
  },
  {
   "cell_type": "code",
   "execution_count": 22,
   "id": "5e700444",
   "metadata": {
    "ExecuteTime": {
     "end_time": "2021-09-14T12:08:58.846489Z",
     "start_time": "2021-09-14T12:08:58.834520Z"
    }
   },
   "outputs": [
    {
     "data": {
      "text/latex": [
       "$\\displaystyle \\frac{x^{3} - 3 x^{2} + 4}{x^{2} - 1}$"
      ],
      "text/plain": [
       "(x**3 - 3*x**2 + 4)/(x**2 - 1)"
      ]
     },
     "execution_count": 22,
     "metadata": {},
     "output_type": "execute_result"
    }
   ],
   "source": [
    "x = sym.symbols(\"x\")\n",
    "f = (x**3-3*x**2+4)/(x**2-1)\n",
    "f"
   ]
  },
  {
   "cell_type": "code",
   "execution_count": 23,
   "id": "91713793",
   "metadata": {
    "ExecuteTime": {
     "end_time": "2021-09-14T12:09:00.388219Z",
     "start_time": "2021-09-14T12:09:00.241605Z"
    }
   },
   "outputs": [
    {
     "data": {
      "text/latex": [
       "$\\displaystyle \\frac{x^{2} - 4 x + 4}{x - 1}$"
      ],
      "text/plain": [
       "(x**2 - 4*x + 4)/(x - 1)"
      ]
     },
     "execution_count": 23,
     "metadata": {},
     "output_type": "execute_result"
    }
   ],
   "source": [
    "# Egyszerűsítés\n",
    "sym.simplify(f)"
   ]
  },
  {
   "cell_type": "code",
   "execution_count": 24,
   "id": "93bc9536",
   "metadata": {
    "ExecuteTime": {
     "end_time": "2021-09-14T12:09:55.742460Z",
     "start_time": "2021-09-14T12:09:55.732489Z"
    }
   },
   "outputs": [
    {
     "data": {
      "text/latex": [
       "$\\displaystyle x^{3} - 3 x^{2} + 3 x - 1$"
      ],
      "text/plain": [
       "x**3 - 3*x**2 + 3*x - 1"
      ]
     },
     "execution_count": 24,
     "metadata": {},
     "output_type": "execute_result"
    }
   ],
   "source": [
    "# Kibontás\n",
    "sym.expand((x-1)**3)"
   ]
  },
  {
   "cell_type": "code",
   "execution_count": 25,
   "id": "08d3b2b8",
   "metadata": {
    "ExecuteTime": {
     "end_time": "2021-09-14T12:10:18.359284Z",
     "start_time": "2021-09-14T12:10:18.345317Z"
    }
   },
   "outputs": [
    {
     "data": {
      "text/latex": [
       "$\\displaystyle \\left(x - 1\\right)^{3}$"
      ],
      "text/plain": [
       "(x - 1)**3"
      ]
     },
     "execution_count": 25,
     "metadata": {},
     "output_type": "execute_result"
    }
   ],
   "source": [
    "# Gyöktényezős alak\n",
    "sym.factor(x**3-3*x**2+3*x-1)"
   ]
  },
  {
   "cell_type": "code",
   "execution_count": 26,
   "id": "7a6c7779",
   "metadata": {
    "ExecuteTime": {
     "end_time": "2021-09-14T12:10:53.574048Z",
     "start_time": "2021-09-14T12:10:53.559096Z"
    }
   },
   "outputs": [
    {
     "data": {
      "text/latex": [
       "$\\displaystyle x - 3 + \\frac{1}{x - 1}$"
      ],
      "text/plain": [
       "x - 3 + 1/(x - 1)"
      ]
     },
     "execution_count": 26,
     "metadata": {},
     "output_type": "execute_result"
    }
   ],
   "source": [
    "# Parciális törtekre bontás\n",
    "sym.apart(f)"
   ]
  },
  {
   "cell_type": "markdown",
   "id": "3d27debb",
   "metadata": {},
   "source": [
    "### Egyenletek megoldása"
   ]
  },
  {
   "cell_type": "markdown",
   "id": "dabd175c",
   "metadata": {},
   "source": [
    "#### Hogyan oldjuk meg az alábbi egyenletet?\n",
    "\n",
    "$$\n",
    "    3x = 5\n",
    "$$"
   ]
  },
  {
   "cell_type": "code",
   "execution_count": 28,
   "id": "258aea69",
   "metadata": {
    "ExecuteTime": {
     "end_time": "2021-09-14T11:53:59.139277Z",
     "start_time": "2021-09-14T11:53:59.119333Z"
    }
   },
   "outputs": [
    {
     "data": {
      "text/plain": [
       "[5/3]"
      ]
     },
     "execution_count": 28,
     "metadata": {},
     "output_type": "execute_result"
    }
   ],
   "source": [
    "sol = sym.solve(3*x-5, x)\n",
    "sol"
   ]
  },
  {
   "cell_type": "markdown",
   "id": "59446c3b",
   "metadata": {},
   "source": [
    "#### Hogyan oldjuk meg a következő egyenletrendszert?\n",
    "$$\n",
    "    3x + 2y = 5\\\\\n",
    "    2x - y = 3\n",
    "$$"
   ]
  },
  {
   "cell_type": "code",
   "execution_count": 29,
   "id": "4e3da057",
   "metadata": {
    "ExecuteTime": {
     "end_time": "2021-09-14T11:53:59.300369Z",
     "start_time": "2021-09-14T11:53:59.254506Z"
    }
   },
   "outputs": [
    {
     "data": {
      "text/plain": [
       "{x: 11/7, y: 1/7}"
      ]
     },
     "execution_count": 29,
     "metadata": {},
     "output_type": "execute_result"
    }
   ],
   "source": [
    "x, y = sym.symbols(\"x y\")\n",
    "sol = sym.solve([3*x+2*y-5, 2*x-y-3], x, y)\n",
    "sol"
   ]
  },
  {
   "cell_type": "markdown",
   "id": "baee7df9",
   "metadata": {},
   "source": [
    "#### Hogyan oldjunk meg nem-lineáris egyenletet?\n",
    "\n",
    "Mik a gyökei az alábbi polinomnak?\n",
    "$$\n",
    "    p(x) = x^2-x-1\n",
    "$$"
   ]
  },
  {
   "cell_type": "code",
   "execution_count": 30,
   "id": "a3c02446",
   "metadata": {
    "ExecuteTime": {
     "end_time": "2021-09-14T11:53:59.563727Z",
     "start_time": "2021-09-14T11:53:59.381151Z"
    }
   },
   "outputs": [
    {
     "data": {
      "text/plain": [
       "[1/2 - sqrt(5)/2, 1/2 + sqrt(5)/2]"
      ]
     },
     "execution_count": 30,
     "metadata": {},
     "output_type": "execute_result"
    }
   ],
   "source": [
    "sol = sym.solve(x**2-x-1, x)\n",
    "sol"
   ]
  },
  {
   "cell_type": "code",
   "execution_count": 345,
   "id": "b3b997c0",
   "metadata": {
    "ExecuteTime": {
     "end_time": "2021-09-14T11:53:59.738265Z",
     "start_time": "2021-09-14T11:53:59.569713Z"
    }
   },
   "outputs": [
    {
     "data": {
      "text/plain": [
       "[pi/2]"
      ]
     },
     "execution_count": 345,
     "metadata": {},
     "output_type": "execute_result"
    }
   ],
   "source": [
    "sol = sym.solve(sym.sin(x)-1, x)\n",
    "sol"
   ]
  },
  {
   "cell_type": "markdown",
   "id": "4a58bf3d",
   "metadata": {},
   "source": [
    "#### Egyenletek"
   ]
  },
  {
   "cell_type": "code",
   "execution_count": 31,
   "id": "d6344b6a",
   "metadata": {
    "ExecuteTime": {
     "end_time": "2021-09-14T11:57:25.788555Z",
     "start_time": "2021-09-14T11:57:25.778577Z"
    }
   },
   "outputs": [
    {
     "data": {
      "text/latex": [
       "$\\displaystyle x + y = 1$"
      ],
      "text/plain": [
       "Eq(x + y, 1)"
      ]
     },
     "execution_count": 31,
     "metadata": {},
     "output_type": "execute_result"
    }
   ],
   "source": [
    "eq1 = sym.Equality(x+y, 1)\n",
    "eq2 = sym.Equality(x-y, -3)\n",
    "eq1"
   ]
  },
  {
   "cell_type": "code",
   "execution_count": 32,
   "id": "609f01ea",
   "metadata": {
    "ExecuteTime": {
     "end_time": "2021-09-14T11:57:32.352721Z",
     "start_time": "2021-09-14T11:57:32.340754Z"
    }
   },
   "outputs": [
    {
     "data": {
      "text/latex": [
       "$\\displaystyle x + y$"
      ],
      "text/plain": [
       "x + y"
      ]
     },
     "execution_count": 32,
     "metadata": {},
     "output_type": "execute_result"
    }
   ],
   "source": [
    "eq1.lhs"
   ]
  },
  {
   "cell_type": "code",
   "execution_count": 33,
   "id": "0e7b282c",
   "metadata": {
    "ExecuteTime": {
     "end_time": "2021-09-14T11:57:46.733285Z",
     "start_time": "2021-09-14T11:57:46.723211Z"
    }
   },
   "outputs": [
    {
     "data": {
      "text/plain": [
       "{x: -1, y: 2}"
      ]
     },
     "execution_count": 33,
     "metadata": {},
     "output_type": "execute_result"
    }
   ],
   "source": [
    "sym.solve([eq1, eq2], [x, y])"
   ]
  },
  {
   "cell_type": "markdown",
   "id": "3087550a",
   "metadata": {},
   "source": [
    "### Mátrixok"
   ]
  },
  {
   "cell_type": "code",
   "execution_count": 34,
   "id": "b8f434d5",
   "metadata": {
    "ExecuteTime": {
     "end_time": "2021-09-14T12:34:04.316338Z",
     "start_time": "2021-09-14T12:34:04.300707Z"
    }
   },
   "outputs": [
    {
     "data": {
      "text/latex": [
       "$\\displaystyle \\left[\\begin{matrix}1 & 0\\\\0 & -1\\end{matrix}\\right]$"
      ],
      "text/plain": [
       "Matrix([\n",
       "[1,  0],\n",
       "[0, -1]])"
      ]
     },
     "execution_count": 34,
     "metadata": {},
     "output_type": "execute_result"
    }
   ],
   "source": [
    "M = sym.Matrix([[1, 0], [0, -1]])\n",
    "M"
   ]
  },
  {
   "cell_type": "code",
   "execution_count": 35,
   "id": "c3a1bf79",
   "metadata": {
    "ExecuteTime": {
     "end_time": "2021-09-14T12:34:24.242713Z",
     "start_time": "2021-09-14T12:34:24.220562Z"
    }
   },
   "outputs": [
    {
     "data": {
      "text/latex": [
       "$\\displaystyle \\left[\\begin{matrix}x & 0 & 0\\\\0 & x^{2} & 0\\\\0 & 0 & x^{3}\\end{matrix}\\right]$"
      ],
      "text/plain": [
       "Matrix([\n",
       "[x,    0,    0],\n",
       "[0, x**2,    0],\n",
       "[0,    0, x**3]])"
      ]
     },
     "execution_count": 35,
     "metadata": {},
     "output_type": "execute_result"
    }
   ],
   "source": [
    "x = sym.symbols(\"x\")\n",
    "D = sym.diag(x, x**2, x**3)\n",
    "D"
   ]
  },
  {
   "cell_type": "code",
   "execution_count": 36,
   "id": "ef24e554",
   "metadata": {
    "ExecuteTime": {
     "end_time": "2021-09-14T12:34:57.249783Z",
     "start_time": "2021-09-14T12:34:57.218542Z"
    }
   },
   "outputs": [
    {
     "data": {
      "text/latex": [
       "$\\displaystyle -1$"
      ],
      "text/plain": [
       "-1"
      ]
     },
     "execution_count": 36,
     "metadata": {},
     "output_type": "execute_result"
    }
   ],
   "source": [
    "M.det()"
   ]
  },
  {
   "cell_type": "code",
   "execution_count": 39,
   "id": "2efe41cc",
   "metadata": {
    "ExecuteTime": {
     "end_time": "2021-09-14T12:35:06.031195Z",
     "start_time": "2021-09-14T12:35:06.000099Z"
    }
   },
   "outputs": [
    {
     "data": {
      "text/latex": [
       "$\\displaystyle 0$"
      ],
      "text/plain": [
       "0"
      ]
     },
     "execution_count": 39,
     "metadata": {},
     "output_type": "execute_result"
    }
   ],
   "source": [
    "M.trace()"
   ]
  },
  {
   "cell_type": "code",
   "execution_count": 40,
   "id": "f6ed6737",
   "metadata": {
    "ExecuteTime": {
     "end_time": "2021-09-14T12:35:22.267322Z",
     "start_time": "2021-09-14T12:35:22.251733Z"
    }
   },
   "outputs": [
    {
     "data": {
      "text/plain": [
       "{1: 1, -1: 1}"
      ]
     },
     "execution_count": 40,
     "metadata": {},
     "output_type": "execute_result"
    }
   ],
   "source": [
    "M.eigenvals()"
   ]
  },
  {
   "cell_type": "code",
   "execution_count": 41,
   "id": "e73c329c",
   "metadata": {
    "ExecuteTime": {
     "end_time": "2021-09-14T12:35:44.790679Z",
     "start_time": "2021-09-14T12:35:44.775254Z"
    }
   },
   "outputs": [
    {
     "data": {
      "text/plain": [
       "[(-1,\n",
       "  1,\n",
       "  [Matrix([\n",
       "   [0],\n",
       "   [1]])]),\n",
       " (1,\n",
       "  1,\n",
       "  [Matrix([\n",
       "   [1],\n",
       "   [0]])])]"
      ]
     },
     "execution_count": 41,
     "metadata": {},
     "output_type": "execute_result"
    }
   ],
   "source": [
    "M.eigenvects()"
   ]
  },
  {
   "cell_type": "markdown",
   "id": "b61dc096",
   "metadata": {},
   "source": [
    "### Határértékek"
   ]
  },
  {
   "cell_type": "markdown",
   "id": "c86829d3",
   "metadata": {},
   "source": [
    "#### Hogyan számoljuk ki az alábbi határértéket?\n",
    "$$\n",
    "    \\lim_{x\\to\\infty}\\left(1+\\frac{1}{x}\\right)^x\n",
    "$$"
   ]
  },
  {
   "cell_type": "code",
   "execution_count": 42,
   "id": "d30a8aa3",
   "metadata": {
    "ExecuteTime": {
     "end_time": "2021-09-14T11:54:09.663040Z",
     "start_time": "2021-09-14T11:54:09.631119Z"
    }
   },
   "outputs": [
    {
     "data": {
      "text/latex": [
       "$\\displaystyle e$"
      ],
      "text/plain": [
       "E"
      ]
     },
     "execution_count": 42,
     "metadata": {},
     "output_type": "execute_result"
    }
   ],
   "source": [
    "sym.limit((1+1/x)**x, x, sym.oo)"
   ]
  },
  {
   "cell_type": "code",
   "execution_count": 43,
   "id": "cbe465bb",
   "metadata": {
    "ExecuteTime": {
     "end_time": "2021-09-14T11:54:09.843550Z",
     "start_time": "2021-09-14T11:54:09.688967Z"
    }
   },
   "outputs": [
    {
     "data": {
      "text/latex": [
       "$\\displaystyle 1$"
      ],
      "text/plain": [
       "1"
      ]
     },
     "execution_count": 43,
     "metadata": {},
     "output_type": "execute_result"
    }
   ],
   "source": [
    "sym.limit(sym.limit((1+1/x)**x * (1+1/y)**(-y), x, sym.oo), y, sym.oo)"
   ]
  },
  {
   "cell_type": "markdown",
   "id": "9faa5c6c",
   "metadata": {},
   "source": [
    "### Differenciálás"
   ]
  },
  {
   "cell_type": "markdown",
   "id": "2f4d9d49",
   "metadata": {},
   "source": [
    "#### Hogyan kell deriválni az alábbi függvényt?\n",
    "\n",
    "$$\n",
    "    f(x) = x^3+\\frac{1}{x^2}-\\sin{x}\n",
    "$$"
   ]
  },
  {
   "cell_type": "code",
   "execution_count": 44,
   "id": "351bddae",
   "metadata": {
    "ExecuteTime": {
     "end_time": "2021-09-14T11:54:09.883450Z",
     "start_time": "2021-09-14T11:54:09.847543Z"
    }
   },
   "outputs": [
    {
     "data": {
      "text/latex": [
       "$\\displaystyle 3 x^{2} - \\cos{\\left(x \\right)} - \\frac{2}{x^{3}}$"
      ],
      "text/plain": [
       "3*x**2 - cos(x) - 2/x**3"
      ]
     },
     "execution_count": 44,
     "metadata": {},
     "output_type": "execute_result"
    }
   ],
   "source": [
    "sym.diff(x**3+1/x**2-sym.sin(x), x)"
   ]
  },
  {
   "cell_type": "code",
   "execution_count": 53,
   "id": "bd9e909b",
   "metadata": {},
   "outputs": [
    {
     "data": {
      "text/latex": [
       "$\\displaystyle \\sin{\\left(x - y \\right)} + 1$"
      ],
      "text/plain": [
       "sin(x - y) + 1"
      ]
     },
     "execution_count": 53,
     "metadata": {},
     "output_type": "execute_result"
    }
   ],
   "source": [
    "exp = x*y-2*x+y**2+sym.sin(x-y)\n",
    "exp.diff(x).diff(y)"
   ]
  },
  {
   "cell_type": "markdown",
   "id": "0c3aee5e",
   "metadata": {},
   "source": [
    "### Integrálás"
   ]
  },
  {
   "cell_type": "markdown",
   "id": "ac32422e",
   "metadata": {},
   "source": [
    "#### Hogyan kell kiszámolni az alábbi függvény primitívfüggvényét?\n",
    "\n",
    "$$\n",
    "    f(x) = x^3-2x^2+1\n",
    "$$"
   ]
  },
  {
   "cell_type": "code",
   "execution_count": 352,
   "id": "2e285ba1",
   "metadata": {
    "ExecuteTime": {
     "end_time": "2021-09-14T11:54:09.962234Z",
     "start_time": "2021-09-14T11:54:09.894433Z"
    }
   },
   "outputs": [
    {
     "data": {
      "text/latex": [
       "$\\displaystyle \\frac{x^{4}}{4} - x^{2} + x$"
      ],
      "text/plain": [
       "x**4/4 - x**2 + x"
      ]
     },
     "execution_count": 352,
     "metadata": {},
     "output_type": "execute_result"
    }
   ],
   "source": [
    "sym.integrate(x**3-2*x+1)"
   ]
  },
  {
   "cell_type": "markdown",
   "id": "f725342f",
   "metadata": {},
   "source": [
    "#### És a határozott integrálját $a$ és $b$ között?"
   ]
  },
  {
   "cell_type": "code",
   "execution_count": 353,
   "id": "381db338",
   "metadata": {
    "ExecuteTime": {
     "end_time": "2021-09-14T11:54:10.017088Z",
     "start_time": "2021-09-14T11:54:09.968219Z"
    },
    "scrolled": true
   },
   "outputs": [
    {
     "data": {
      "text/latex": [
       "$\\displaystyle - \\frac{a^{4}}{4} + a^{2} - a + \\frac{b^{4}}{4} - b^{2} + b$"
      ],
      "text/plain": [
       "-a**4/4 + a**2 - a + b**4/4 - b**2 + b"
      ]
     },
     "execution_count": 353,
     "metadata": {},
     "output_type": "execute_result"
    }
   ],
   "source": [
    "a, b = sym.symbols(\"a b\")\n",
    "sym.integrate(x**3-2*x+1, (x, a, b))"
   ]
  },
  {
   "cell_type": "code",
   "execution_count": 354,
   "id": "a61a35f1",
   "metadata": {
    "ExecuteTime": {
     "end_time": "2021-09-14T11:54:10.056982Z",
     "start_time": "2021-09-14T11:54:10.024067Z"
    }
   },
   "outputs": [
    {
     "data": {
      "text/latex": [
       "$\\displaystyle - \\frac{a^{4}}{4} + a^{2} - a + \\frac{b^{4}}{4} - b^{2} + b$"
      ],
      "text/plain": [
       "-a**4/4 + a**2 - a + b**4/4 - b**2 + b"
      ]
     },
     "execution_count": 354,
     "metadata": {},
     "output_type": "execute_result"
    }
   ],
   "source": [
    "sym.integrate(x**3-2*x+1).subs(x, b) - sym.integrate(x**3-2*x+1).subs(x, a)"
   ]
  },
  {
   "cell_type": "code",
   "execution_count": 355,
   "id": "1b6f8a82",
   "metadata": {
    "ExecuteTime": {
     "end_time": "2021-09-14T11:54:11.071740Z",
     "start_time": "2021-09-14T11:54:10.068947Z"
    }
   },
   "outputs": [
    {
     "data": {
      "text/latex": [
       "$\\displaystyle \\frac{1}{2}$"
      ],
      "text/plain": [
       "1/2"
      ]
     },
     "execution_count": 355,
     "metadata": {},
     "output_type": "execute_result"
    }
   ],
   "source": [
    "exp = (1/sym.sqrt(2*sym.pi))*sym.exp(-x**2/2)\n",
    "sym.integrate(exp, (x, -sym.oo, y)).subs(y, 0)"
   ]
  },
  {
   "cell_type": "markdown",
   "id": "1dcaf83c",
   "metadata": {},
   "source": [
    "### Differenciálegyenletek\n",
    "Oldjuk meg az alábbi kezdeti érték problémát!\n",
    "\n",
    "\\begin{equation}\n",
    "    \\begin{array}{rcl}\n",
    "        \\ddot{y}(t) + \\dot{y}(t)+5y(t)& = & \\sin{t} \\\\\n",
    "        \\dot{y}(0) & = & 0 \\\\\n",
    "        y(0) & = & 0\n",
    "    \\end{array}\n",
    "\\end{equation}"
   ]
  },
  {
   "cell_type": "code",
   "execution_count": 55,
   "id": "d6e6144e",
   "metadata": {
    "ExecuteTime": {
     "end_time": "2021-09-14T12:21:10.454245Z",
     "start_time": "2021-09-14T12:21:09.837085Z"
    }
   },
   "outputs": [
    {
     "data": {
      "text/latex": [
       "$\\displaystyle y{\\left(t \\right)} = \\left(\\frac{27 \\sqrt{19} \\sin{\\left(\\frac{\\sqrt{19} t}{2} \\right)}}{323} + \\frac{35 \\cos{\\left(\\frac{\\sqrt{19} t}{2} \\right)}}{17}\\right) e^{- \\frac{t}{2}} + \\frac{4 \\sin{\\left(t \\right)}}{17} - \\frac{\\cos{\\left(t \\right)}}{17}$"
      ],
      "text/plain": [
       "Eq(y(t), (27*sqrt(19)*sin(sqrt(19)*t/2)/323 + 35*cos(sqrt(19)*t/2)/17)*exp(-t/2) + 4*sin(t)/17 - cos(t)/17)"
      ]
     },
     "execution_count": 55,
     "metadata": {},
     "output_type": "execute_result"
    }
   ],
   "source": [
    "y = sym.Function(\"y\")\n",
    "t = sym.Symbol(\"t\")\n",
    "\n",
    "yy = sym.diff(y(t), t)\n",
    "yyy = sym.diff(yy, t)\n",
    "ys = sym.dsolve(yyy+yy+5*y(t)-sym.sin(t),\n",
    "                y(t),\n",
    "                ics={y(0) : 2,\n",
    "                     yy.subs(t, 0) : 0})\n",
    "ys"
   ]
  },
  {
   "cell_type": "code",
   "execution_count": 427,
   "id": "a8de4f28",
   "metadata": {
    "ExecuteTime": {
     "end_time": "2021-09-14T12:21:11.319133Z",
     "start_time": "2021-09-14T12:21:11.303695Z"
    }
   },
   "outputs": [
    {
     "data": {
      "text/plain": [
       "sympy.core.relational.Equality"
      ]
     },
     "execution_count": 427,
     "metadata": {},
     "output_type": "execute_result"
    }
   ],
   "source": [
    "type(ys)"
   ]
  },
  {
   "cell_type": "code",
   "execution_count": 60,
   "id": "9d4eadc7",
   "metadata": {
    "ExecuteTime": {
     "end_time": "2021-09-14T12:21:12.189838Z",
     "start_time": "2021-09-14T12:21:12.005148Z"
    }
   },
   "outputs": [
    {
     "data": {
      "image/png": "[encoded data removed]",
      "text/plain": [
       "<Figure size 640x480 with 1 Axes>"
      ]
     },
     "metadata": {},
     "output_type": "display_data"
    },
    {
     "data": {
      "text/plain": [
       "<sympy.plotting.plot.Plot at 0x7f954b93f700>"
      ]
     },
     "execution_count": 60,
     "metadata": {},
     "output_type": "execute_result"
    }
   ],
   "source": [
    "from sympy.plotting import plot, plot3d\n",
    "plot(ys.rhs, (t, 0, 10))"
   ]
  },
  {
   "cell_type": "markdown",
   "id": "3a683b5d",
   "metadata": {},
   "source": [
    "## Feladatok"
   ]
  },
  {
   "cell_type": "markdown",
   "id": "963182f2",
   "metadata": {},
   "source": [
    "### Írd le az alábbi kifejezést `SymPy` szimbólumokkal:\n",
    "$$\n",
    "    \\frac{1}{\\sqrt{2\\pi\\sigma^2}}\\mathrm{e}^{-\\frac{(x-\\mu)^2}{2\\sigma^2}}\n",
    "$$"
   ]
  },
  {
   "cell_type": "code",
   "execution_count": null,
   "id": "dbb08c12",
   "metadata": {},
   "outputs": [],
   "source": [
    "# TODO"
   ]
  },
  {
   "cell_type": "markdown",
   "id": "17c45828",
   "metadata": {},
   "source": [
    "### Nem-lineáris algebrás feladat\n",
    "Adottak\n",
    "\n",
    "$$\n",
    "    C_i = \\left\\{(x,y)\\in\\mathbb{R}^2\\left| (x-x_i)^2+(y-y_i)^2 = r_i^2\\right.\\right\\}\\ \\forall i=1,2\n",
    "$$\n",
    "\n",
    "körök a síkon. Számítsd ki a metszéspontjaik koordinátáit. _Bónusz:_ Ábrázold a köröket és a metszéspontokat!"
   ]
  },
  {
   "cell_type": "code",
   "execution_count": 472,
   "id": "0ce263cb",
   "metadata": {
    "ExecuteTime": {
     "end_time": "2021-09-14T12:40:34.174522Z",
     "start_time": "2021-09-14T12:40:34.143418Z"
    }
   },
   "outputs": [],
   "source": [
    "# Data\n",
    "x1, y1, r1 = 1, 0, 5\n",
    "x2, y2, r2 = 2, 2, 4\n",
    "x, y = sym.symbols(\"x y\")\n",
    "\n",
    "# TODO"
   ]
  },
  {
   "cell_type": "markdown",
   "id": "fa69b0fa",
   "metadata": {},
   "source": [
    "### Mátrixos feladat\n",
    "Adj képletet $2\\times 2$-as mátrixok sajátértékeinek a kiszámítására!"
   ]
  },
  {
   "cell_type": "code",
   "execution_count": 473,
   "id": "512fe77c",
   "metadata": {
    "ExecuteTime": {
     "end_time": "2021-09-14T12:40:39.783609Z",
     "start_time": "2021-09-14T12:40:39.767989Z"
    }
   },
   "outputs": [],
   "source": [
    "a, b, c, d = sym.symbols(\"a b c d\")\n",
    "M = sym.Matrix([[a, b],\n",
    "                [c, d]])\n",
    "\n",
    "# TODO"
   ]
  },
  {
   "cell_type": "markdown",
   "id": "4665004d",
   "metadata": {},
   "source": [
    "### Deriválós feladat\n",
    "\n",
    "Van $P$ méter drótkerítésem, és szeretnék az alpakáimnak lekeríteni az udvaromból ennek segítségével minél nagyobb, téglalap alakú területet. Hogyan mérjem ki az oldalait?"
   ]
  },
  {
   "cell_type": "code",
   "execution_count": 362,
   "id": "3499426d",
   "metadata": {
    "ExecuteTime": {
     "end_time": "2021-09-14T11:54:14.518116Z",
     "start_time": "2021-09-14T11:54:14.509140Z"
    }
   },
   "outputs": [],
   "source": [
    "def max_area_rectangle(P):\n",
    "    # TODO"
   ]
  },
  {
   "cell_type": "markdown",
   "id": "977da1a8",
   "metadata": {},
   "source": [
    "Le akarok választani $A$ területet az alpakafarmomnak, azonban nincs nagyon sok pénzem, így a lehető legkevesebb kerítést szeretném felhasználni. Hogyan mérjem ki ekkor az oldalakat?"
   ]
  },
  {
   "cell_type": "code",
   "execution_count": 471,
   "id": "51c0be9e",
   "metadata": {
    "ExecuteTime": {
     "end_time": "2021-09-14T12:39:10.976990Z",
     "start_time": "2021-09-14T12:39:10.945729Z"
    }
   },
   "outputs": [
    {
     "ename": "SyntaxError",
     "evalue": "unexpected EOF while parsing (<ipython-input-471-5c1310b12788>, line 2)",
     "output_type": "error",
     "traceback": [
      "\u001b[1;36m  File \u001b[1;32m\"<ipython-input-471-5c1310b12788>\"\u001b[1;36m, line \u001b[1;32m2\u001b[0m\n\u001b[1;33m    # Your code here\u001b[0m\n\u001b[1;37m                    ^\u001b[0m\n\u001b[1;31mSyntaxError\u001b[0m\u001b[1;31m:\u001b[0m unexpected EOF while parsing\n"
     ]
    }
   ],
   "source": [
    "def min_perimeter_rectangle(A):\n",
    "    # TODO"
   ]
  },
  {
   "cell_type": "markdown",
   "id": "8ce1a1a0",
   "metadata": {},
   "source": [
    "### Integrálós feladat\n",
    "\n",
    "Írj egy függvényt, ami kiszámolja, hogy egy standard normális eloszlású valószínűségi változó mekkora valószínűséggel kisebb, mint egy inputként kapott szám! _(Vagyis írd meg a standard normális eloszlás eloszlásfüggvényét)_\n",
    "\n",
    "A standard normális eloszlás sűrűségfüggvénye:\n",
    "\n",
    "$$\n",
    "    X\\sim \\mathcal{N}(0,1)\\implies f_X(x)=\\frac{1}{\\sqrt{2\\pi}}\\mathrm{e}^{-\\frac{x^2}{2}}\n",
    "$$"
   ]
  },
  {
   "cell_type": "code",
   "execution_count": 366,
   "id": "ca0946f0",
   "metadata": {
    "ExecuteTime": {
     "end_time": "2021-09-14T11:54:14.669267Z",
     "start_time": "2021-09-14T11:54:14.660292Z"
    }
   },
   "outputs": [],
   "source": [
    "def standard_normal_distribution(t):\n",
    "    # TODO"
   ]
  },
  {
   "cell_type": "markdown",
   "id": "0a7d6eaf",
   "metadata": {},
   "source": [
    "### Lánctörtek\n",
    "* Készíts egy függvényt, amely kiszámolja egy $\\frac{n}{d}$ alakú racionális szám lánctörtreprezentációját, ami $\\left[a_0,a_1,\\dots,a_n\\right]$, ahol\n",
    "$$\n",
    "    \\frac{n}{d} = \\frac{1}{\\frac{1}{\\frac{1}{\\frac{1}{a_n}+\\ddots}+a_2}+a_1}+a_0,\n",
    "$$\n",
    "és minden $i=0,\\dots,n$-re $a_i\\in\\mathbb{Z}$. _Bónusz:_ Legyen képes a függvény tetszőleges valós számot is         közelíteni lánctörttel. Mi lenne $\\sqrt{2}$ egy közelítése?\n",
    "\n",
    "\n",
    "* Készíts egy függvényt, amely a fenti _szép_ lánctört alakban ábrázolja a számot az $\\left[a_0,a_1,\\dots,a_n\\right]$ reprezentáció alapján. _Bónusz:_ ugyanez e függvény legyen képes az eredeti $\\frac{n}{d}$ reprezentációra megjelenítésére is."
   ]
  },
  {
   "cell_type": "code",
   "execution_count": 368,
   "id": "d71c76f1",
   "metadata": {
    "ExecuteTime": {
     "end_time": "2021-09-14T11:54:14.709673Z",
     "start_time": "2021-09-14T11:54:14.696196Z"
    },
    "scrolled": true
   },
   "outputs": [],
   "source": [
    "import sympy as sym\n",
    "\n",
    "def to_cont_frac(r, max_it = sym.oo):\n",
    "    # TODO"
   ]
  },
  {
   "cell_type": "code",
   "execution_count": 369,
   "id": "c205f8f4",
   "metadata": {
    "ExecuteTime": {
     "end_time": "2021-09-14T11:54:14.737601Z",
     "start_time": "2021-09-14T11:54:14.716662Z"
    }
   },
   "outputs": [],
   "source": [
    "def list_to_frac(l, evaluate = False):\n",
    "    # TODO"
   ]
  }
 ],
 "metadata": {
  "kernelspec": {
   "display_name": "Python 3 (ipykernel)",
   "language": "python",
   "name": "python3"
  },
  "language_info": {
   "codemirror_mode": {
    "name": "ipython",
    "version": 3
   },
   "file_extension": ".py",
   "mimetype": "text/x-python",
   "name": "python",
   "nbconvert_exporter": "python",
   "pygments_lexer": "ipython3",
   "version": "3.10.6"
  },
  "latex_envs": {
   "LaTeX_envs_menu_present": true,
   "autoclose": true,
   "autocomplete": true,
   "bibliofile": "biblio.bib",
   "cite_by": "apalike",
   "current_citInitial": 1,
   "eqLabelWithNumbers": true,
   "eqNumInitial": 1,
   "hotkeys": {
    "equation": "Ctrl-E",
    "itemize": "Ctrl-I"
   },
   "labels_anchors": false,
   "latex_user_defs": false,
   "report_style_numbering": true,
   "user_envs_cfg": false
  },
  "toc": {
   "base_numbering": 1,
   "nav_menu": {},
   "number_sections": true,
   "sideBar": true,
   "skip_h1_title": false,
   "title_cell": "Table of Contents",
   "title_sidebar": "Contents",
   "toc_cell": false,
   "toc_position": {},
   "toc_section_display": true,
   "toc_window_display": false
  },
  "varInspector": {
   "cols": {
    "lenName": 16,
    "lenType": 16,
    "lenVar": 40
   },
   "kernels_config": {
    "python": {
     "delete_cmd_postfix": "",
     "delete_cmd_prefix": "del ",
     "library": "var_list.py",
     "varRefreshCmd": "print(var_dic_list())"
    },
    "r": {
     "delete_cmd_postfix": ") ",
     "delete_cmd_prefix": "rm(",
     "library": "var_list.r",
     "varRefreshCmd": "cat(var_dic_list()) "
    }
   },
   "types_to_exclude": [
    "module",
    "function",
    "builtin_function_or_method",
    "instance",
    "_Feature"
   ],
   "window_display": false
  }
 },
 "nbformat": 4,
 "nbformat_minor": 5
}
