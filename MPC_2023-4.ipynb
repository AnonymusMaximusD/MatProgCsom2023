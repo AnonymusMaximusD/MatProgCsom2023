{
 "cells": [
  {
   "cell_type": "markdown",
   "id": "0e1cb19a",
   "metadata": {},
   "source": [
    "# Hatodik gyakorlat - LP Solverek (PuLP)"
   ]
  },
  {
   "cell_type": "code",
   "execution_count": 3,
   "id": "ebad4b7c",
   "metadata": {
    "ExecuteTime": {
     "end_time": "2023-03-29T10:07:09.671679Z",
     "start_time": "2023-03-29T10:07:09.658988Z"
    }
   },
   "outputs": [],
   "source": [
    "import pulp as pl\n",
    "import numpy as np\n",
    "import matplotlib.pyplot as plt\n",
    "import itertools as it"
   ]
  },
  {
   "cell_type": "code",
   "execution_count": null,
   "id": "33f2db51",
   "metadata": {},
   "outputs": [],
   "source": [
    "!pip install pulp"
   ]
  },
  {
   "cell_type": "markdown",
   "id": "37683513",
   "metadata": {},
   "source": [
    "# Modellezés PuLP-pal"
   ]
  },
  {
   "cell_type": "markdown",
   "id": "093d7a2d",
   "metadata": {},
   "source": [
    "Modell létrehozása PuLP-pal:"
   ]
  },
  {
   "cell_type": "code",
   "execution_count": 33,
   "id": "446e8f39",
   "metadata": {
    "ExecuteTime": {
     "end_time": "2023-03-29T10:40:18.465667Z",
     "start_time": "2023-03-29T10:40:18.450671Z"
    }
   },
   "outputs": [],
   "source": [
    "prob = pl.LpProblem(name=\"ProblemName\",\n",
    "                    sense=pl.LpMaximize) # vagy pl.LpMinimize (ez a default)"
   ]
  },
  {
   "cell_type": "markdown",
   "id": "7ae58949",
   "metadata": {},
   "source": [
    "Változók létrehozása:"
   ]
  },
  {
   "cell_type": "code",
   "execution_count": 28,
   "id": "f1489abe",
   "metadata": {
    "ExecuteTime": {
     "end_time": "2023-03-29T10:39:44.775228Z",
     "start_time": "2023-03-29T10:39:44.760268Z"
    }
   },
   "outputs": [],
   "source": [
    "x = pl.LpVariable(name=\"x\",\n",
    "                  lowBound=1,\n",
    "                  upBound=10,\n",
    "                  cat=pl.LpInteger) # vagy pl.LpContinuous vagy pl.LpBinary"
   ]
  },
  {
   "cell_type": "markdown",
   "id": "a2b66a3e",
   "metadata": {},
   "source": [
    "Változók létrehozás dictionary-ként:"
   ]
  },
  {
   "cell_type": "code",
   "execution_count": 29,
   "id": "26b0b9a6",
   "metadata": {
    "ExecuteTime": {
     "end_time": "2023-03-29T10:39:46.127328Z",
     "start_time": "2023-03-29T10:39:46.114334Z"
    }
   },
   "outputs": [],
   "source": [
    "idx = [\"I1\", \"I2\", \"A1\", \"A2\"]\n",
    "y = pl.LpVariable.dicts(name=\"y\",\n",
    "                        indexs=idx,\n",
    "                        cat=pl.LpBinary)"
   ]
  },
  {
   "cell_type": "code",
   "execution_count": 30,
   "id": "c2829ac0",
   "metadata": {
    "ExecuteTime": {
     "end_time": "2023-03-29T10:39:47.551595Z",
     "start_time": "2023-03-29T10:39:47.535635Z"
    }
   },
   "outputs": [
    {
     "data": {
      "text/plain": [
       "{'I1': y_I1, 'I2': y_I2, 'A1': y_A1, 'A2': y_A2}"
      ]
     },
     "execution_count": 30,
     "metadata": {},
     "output_type": "execute_result"
    }
   ],
   "source": [
    "y"
   ]
  },
  {
   "cell_type": "markdown",
   "id": "6d422ceb",
   "metadata": {},
   "source": [
    "Korlátok hozzáadása a modellhez:"
   ]
  },
  {
   "cell_type": "code",
   "execution_count": 34,
   "id": "df9bebf4",
   "metadata": {
    "ExecuteTime": {
     "end_time": "2023-03-29T10:40:21.511798Z",
     "start_time": "2023-03-29T10:40:21.505814Z"
    }
   },
   "outputs": [],
   "source": [
    "prob += (x + y[\"I1\"] <= 2, \"elso constraint\")\n",
    "prob += pl.lpSum(y) == 3, \"masodik constraint\"\n",
    "prob += x + y[\"A1\"] >= 3"
   ]
  },
  {
   "cell_type": "markdown",
   "id": "98d4b98b",
   "metadata": {},
   "source": [
    "Célfüggvény hozzáadása a modellhez:"
   ]
  },
  {
   "cell_type": "code",
   "execution_count": 35,
   "id": "92ff09cf",
   "metadata": {
    "ExecuteTime": {
     "end_time": "2023-03-29T10:41:07.852282Z",
     "start_time": "2023-03-29T10:41:07.844303Z"
    }
   },
   "outputs": [],
   "source": [
    "cost = {\n",
    "    \"I1\" : 5,\n",
    "    \"I2\" : 2,\n",
    "    \"A1\" : 3,\n",
    "    \"A2\" : 4\n",
    "}\n",
    "prob += pl.lpSum(y[i] * cost[i] for i in idx)"
   ]
  },
  {
   "cell_type": "markdown",
   "id": "70fd0eab",
   "metadata": {},
   "source": [
    "Modell kiírása:"
   ]
  },
  {
   "cell_type": "code",
   "execution_count": 36,
   "id": "e35ff9ba",
   "metadata": {
    "ExecuteTime": {
     "end_time": "2023-03-29T10:41:23.387488Z",
     "start_time": "2023-03-29T10:41:23.382505Z"
    }
   },
   "outputs": [
    {
     "name": "stdout",
     "output_type": "stream",
     "text": [
      "ProblemName:\n",
      "MAXIMIZE\n",
      "3*y_A1 + 4*y_A2 + 5*y_I1 + 2*y_I2 + 0\n",
      "SUBJECT TO\n",
      "elso_constraint: x + y_I1 <= 2\n",
      "\n",
      "masodik_constraint: y_A1 + y_A2 + y_I1 + y_I2 = 3\n",
      "\n",
      "_C1: x + y_A1 >= 3\n",
      "\n",
      "VARIABLES\n",
      "1 <= x <= 10 Integer\n",
      "0 <= y_A1 <= 1 Integer\n",
      "0 <= y_A2 <= 1 Integer\n",
      "0 <= y_I1 <= 1 Integer\n",
      "0 <= y_I2 <= 1 Integer\n",
      "\n"
     ]
    }
   ],
   "source": [
    "print(prob)"
   ]
  },
  {
   "cell_type": "markdown",
   "id": "3fa550b7",
   "metadata": {},
   "source": [
    "Modell megoldása:"
   ]
  },
  {
   "cell_type": "code",
   "execution_count": 48,
   "id": "48da672e",
   "metadata": {
    "ExecuteTime": {
     "end_time": "2023-03-29T10:47:28.006634Z",
     "start_time": "2023-03-29T10:47:27.966738Z"
    }
   },
   "outputs": [
    {
     "data": {
      "text/plain": [
       "1"
      ]
     },
     "execution_count": 48,
     "metadata": {},
     "output_type": "execute_result"
    }
   ],
   "source": [
    "prob.solve(pl.PULP_CBC_CMD(msg=True))"
   ]
  },
  {
   "cell_type": "markdown",
   "id": "1817ed52",
   "metadata": {
    "ExecuteTime": {
     "end_time": "2021-10-12T09:41:01.927436Z",
     "start_time": "2021-10-12T09:41:01.907991Z"
    }
   },
   "source": [
    "Probléma állapotok:"
   ]
  },
  {
   "cell_type": "code",
   "execution_count": 39,
   "id": "b1a8255d",
   "metadata": {
    "ExecuteTime": {
     "end_time": "2023-03-29T10:43:06.063997Z",
     "start_time": "2023-03-29T10:43:06.056015Z"
    },
    "scrolled": false
   },
   "outputs": [
    {
     "data": {
      "text/plain": [
       "{0: 'Not Solved',\n",
       " 1: 'Optimal',\n",
       " -1: 'Infeasible',\n",
       " -2: 'Unbounded',\n",
       " -3: 'Undefined'}"
      ]
     },
     "execution_count": 39,
     "metadata": {},
     "output_type": "execute_result"
    }
   ],
   "source": [
    "pl.LpStatus"
   ]
  },
  {
   "cell_type": "markdown",
   "id": "101eda71",
   "metadata": {},
   "source": [
    "Megoldás \"megszerzése\":"
   ]
  },
  {
   "cell_type": "code",
   "execution_count": 41,
   "id": "eb2c05d3",
   "metadata": {
    "ExecuteTime": {
     "end_time": "2023-03-29T10:43:56.918151Z",
     "start_time": "2023-03-29T10:43:56.906180Z"
    }
   },
   "outputs": [
    {
     "name": "stdout",
     "output_type": "stream",
     "text": [
      "x= 2.0\n",
      "y_I1 = 0.0\n",
      "y_I2 = 1.0\n",
      "y_A1 = 1.0\n",
      "y_A2 = 1.0\n"
     ]
    }
   ],
   "source": [
    "print(\"x=\",pl.value(x))\n",
    "for i in idx:\n",
    "    print(y[i].name, \"=\", pl.value(y[i]))"
   ]
  },
  {
   "cell_type": "markdown",
   "id": "ae393143",
   "metadata": {},
   "source": [
    "Célfüggvényérték:"
   ]
  },
  {
   "cell_type": "code",
   "execution_count": 42,
   "id": "79861edb",
   "metadata": {
    "ExecuteTime": {
     "end_time": "2023-03-29T10:44:19.918469Z",
     "start_time": "2023-03-29T10:44:19.902478Z"
    }
   },
   "outputs": [
    {
     "data": {
      "text/plain": [
       "9.0"
      ]
     },
     "execution_count": 42,
     "metadata": {},
     "output_type": "execute_result"
    }
   ],
   "source": [
    "pl.value(prob.objective)"
   ]
  },
  {
   "cell_type": "markdown",
   "id": "667591b5",
   "metadata": {},
   "source": [
    "Korlátok ellenőrzése:\n",
    "\n",
    "Azt mutatja, hogy például egy $ax\\leq b$ korlát esetén mennyi az $ax-b$ értéke. Ezeknek egyenlőség esetén nyilván $0$-nak kell lenni."
   ]
  },
  {
   "cell_type": "code",
   "execution_count": 43,
   "id": "8d21310d",
   "metadata": {
    "ExecuteTime": {
     "end_time": "2023-03-29T10:44:39.835483Z",
     "start_time": "2023-03-29T10:44:39.818491Z"
    }
   },
   "outputs": [
    {
     "name": "stdout",
     "output_type": "stream",
     "text": [
      "0.0\n",
      "0.0\n",
      "0.0\n"
     ]
    }
   ],
   "source": [
    "print(pl.value(prob.constraints[\"_C1\"]))\n",
    "print(pl.value(prob.constraints[\"elso_constraint\"]))\n",
    "print(pl.value(prob.constraints[\"masodik_constraint\"]))"
   ]
  },
  {
   "cell_type": "markdown",
   "id": "8347e3b3",
   "metadata": {},
   "source": [
    "Korlát törlése:"
   ]
  },
  {
   "cell_type": "code",
   "execution_count": 44,
   "id": "4454b877",
   "metadata": {
    "ExecuteTime": {
     "end_time": "2023-03-29T10:45:44.578245Z",
     "start_time": "2023-03-29T10:45:44.559295Z"
    }
   },
   "outputs": [
    {
     "name": "stdout",
     "output_type": "stream",
     "text": [
      "ProblemName:\n",
      "MAXIMIZE\n",
      "3*y_A1 + 4*y_A2 + 5*y_I1 + 2*y_I2 + 0\n",
      "SUBJECT TO\n",
      "elso_constraint: x + y_I1 <= 2\n",
      "\n",
      "masodik_constraint: y_A1 + y_A2 + y_I1 + y_I2 = 3\n",
      "\n",
      "VARIABLES\n",
      "1 <= x <= 10 Integer\n",
      "0 <= y_A1 <= 1 Integer\n",
      "0 <= y_A2 <= 1 Integer\n",
      "0 <= y_I1 <= 1 Integer\n",
      "0 <= y_I2 <= 1 Integer\n",
      "\n"
     ]
    }
   ],
   "source": [
    "del prob.constraints[\"_C1\"]\n",
    "print(prob)"
   ]
  },
  {
   "cell_type": "markdown",
   "id": "8903e2db",
   "metadata": {},
   "source": [
    "Változó korlátok módosítása:"
   ]
  },
  {
   "cell_type": "code",
   "execution_count": 45,
   "id": "a221a2e4",
   "metadata": {
    "ExecuteTime": {
     "end_time": "2023-03-29T10:46:06.143469Z",
     "start_time": "2023-03-29T10:46:06.123520Z"
    }
   },
   "outputs": [
    {
     "name": "stdout",
     "output_type": "stream",
     "text": [
      "ProblemName:\n",
      "MAXIMIZE\n",
      "3*y_A1 + 4*y_A2 + 5*y_I1 + 2*y_I2 + 0\n",
      "SUBJECT TO\n",
      "elso_constraint: x + y_I1 <= 2\n",
      "\n",
      "masodik_constraint: y_A1 + y_A2 + y_I1 + y_I2 = 3\n",
      "\n",
      "VARIABLES\n",
      "2 <= x <= 4 Integer\n",
      "0 <= y_A1 <= 1 Integer\n",
      "0 <= y_A2 <= 1 Integer\n",
      "0 <= y_I1 <= 1 Integer\n",
      "0 <= y_I2 <= 1 Integer\n",
      "\n"
     ]
    }
   ],
   "source": [
    "x.lowBound=2\n",
    "x.upBound=4\n",
    "print(prob)"
   ]
  },
  {
   "cell_type": "markdown",
   "id": "b52ec152",
   "metadata": {},
   "source": [
    "Változó típusának módosítása:"
   ]
  },
  {
   "cell_type": "code",
   "execution_count": 46,
   "id": "16dc7bda",
   "metadata": {
    "ExecuteTime": {
     "end_time": "2023-03-29T10:46:53.357631Z",
     "start_time": "2023-03-29T10:46:53.347660Z"
    }
   },
   "outputs": [
    {
     "name": "stdout",
     "output_type": "stream",
     "text": [
      "ProblemName:\n",
      "MAXIMIZE\n",
      "3*y_A1 + 4*y_A2 + 5*y_I1 + 2*y_I2 + 0\n",
      "SUBJECT TO\n",
      "elso_constraint: x + y_I1 <= 2\n",
      "\n",
      "masodik_constraint: y_A1 + y_A2 + y_I1 + y_I2 = 3\n",
      "\n",
      "VARIABLES\n",
      "2 <= x <= 4 Integer\n",
      "0 <= y_A1 <= 3 Integer\n",
      "0 <= y_A2 <= 1 Integer\n",
      "0 <= y_I1 <= 1 Integer\n",
      "0 <= y_I2 <= 1 Integer\n",
      "\n"
     ]
    }
   ],
   "source": [
    "y[\"A1\"].cat = pl.LpInteger\n",
    "y[\"A1\"].lowBound = 0\n",
    "y[\"A1\"].upBound = 3\n",
    "print(prob)"
   ]
  },
  {
   "cell_type": "markdown",
   "id": "77748fb1",
   "metadata": {},
   "source": [
    "Ha a `%%python` cellamágiát használjátok, akkor az optimalizálási folyamat logját is bizotsan visszakapjátok."
   ]
  },
  {
   "cell_type": "code",
   "execution_count": 49,
   "id": "8a112037",
   "metadata": {
    "ExecuteTime": {
     "end_time": "2023-03-29T10:47:55.107566Z",
     "start_time": "2023-03-29T10:47:54.803393Z"
    }
   },
   "outputs": [
    {
     "name": "stdout",
     "output_type": "stream",
     "text": [
      "Welcome to the CBC MILP Solver \r\n",
      "Version: 2.10.3 \r\n",
      "Build Date: Dec 15 2019 \r\n",
      "\r\n",
      "command line - C:\\Users\\Peter Dobrovoczki\\anaconda3\\envs\\notebook\\lib\\site-packages\\pulp\\apis\\..\\solverdir\\cbc\\win\\64\\cbc.exe C:\\Users\\PETERD~1\\AppData\\Local\\Temp\\077ee00e91804b20bbe69fb8fb1671fe-pulp.mps max timeMode elapsed branch printingOptions all solution C:\\Users\\PETERD~1\\AppData\\Local\\Temp\\077ee00e91804b20bbe69fb8fb1671fe-pulp.sol (default strategy 1)\r\n",
      "At line 2 NAME          MODEL\r\n",
      "At line 3 ROWS\r\n",
      "At line 8 COLUMNS\r\n",
      "At line 31 RHS\r\n",
      "At line 35 BOUNDS\r\n",
      "At line 42 ENDATA\r\n",
      "Problem MODEL has 3 rows, 5 columns and 8 elements\r\n",
      "Coin0008I MODEL read with 0 errors\r\n",
      "Option for timeMode changed from cpu to elapsed\r\n",
      "Continuous objective value is 9 - 0.00 seconds\r\n",
      "Cgl0004I processed model has 0 rows, 0 columns (0 integer (0 of which binary)) and 0 elements\r\n",
      "Cbc3007W No integer variables - nothing to do\r\n",
      "Cuts at root node changed objective from -9 to -1.79769e+308\r\n",
      "Probing was tried 0 times and created 0 cuts of which 0 were active after adding rounds of cuts (0.000 seconds)\r\n",
      "Gomory was tried 0 times and created 0 cuts of which 0 were active after adding rounds of cuts (0.000 seconds)\r\n",
      "Knapsack was tried 0 times and created 0 cuts of which 0 were active after adding rounds of cuts (0.000 seconds)\r\n",
      "Clique was tried 0 times and created 0 cuts of which 0 were active after adding rounds of cuts (0.000 seconds)\r\n",
      "MixedIntegerRounding2 was tried 0 times and created 0 cuts of which 0 were active after adding rounds of cuts (0.000 seconds)\r\n",
      "FlowCover was tried 0 times and created 0 cuts of which 0 were active after adding rounds of cuts (0.000 seconds)\r\n",
      "TwoMirCuts was tried 0 times and created 0 cuts of which 0 were active after adding rounds of cuts (0.000 seconds)\r\n",
      "ZeroHalf was tried 0 times and created 0 cuts of which 0 were active after adding rounds of cuts (0.000 seconds)\r\n",
      "\r\n",
      "Result - Optimal solution found\r\n",
      "\r\n",
      "Objective value:                9.00000000\r\n",
      "Enumerated nodes:               0\r\n",
      "Total iterations:               0\r\n",
      "Time (CPU seconds):             0.00\r\n",
      "Time (Wallclock seconds):       0.00\r\n",
      "\r\n",
      "Option for printingOptions changed from normal to all\r\n",
      "Total time (CPU seconds):       0.02   (Wallclock seconds):       0.02\r\n",
      "\r\n"
     ]
    }
   ],
   "source": [
    "%%python\n",
    "import pulp as pl\n",
    "prob = pl.LpProblem(name=\"ProblemName\",\n",
    "                    sense=pl.LpMaximize) # vagy pl.LpMinimize (ez a default)\n",
    "\n",
    "x = pl.LpVariable(name=\"x\",\n",
    "                  lowBound=1,\n",
    "                  upBound=10,\n",
    "                  cat=pl.LpInteger) # vagy pl.LpContinuous vagy pl.LpBinary\n",
    "\n",
    "idx = [\"I1\", \"I2\", \"A1\", \"A2\"]\n",
    "y = pl.LpVariable.dicts(name=\"y\",\n",
    "                        indexs=idx,\n",
    "                        cat=pl.LpBinary)\n",
    "\n",
    "prob += x + y[\"I1\"] <= 2, \"elso constraint\"\n",
    "prob += pl.lpSum(y) == 3, \"masodik constraint\"\n",
    "prob += x + y[\"A1\"] >= 3\n",
    "\n",
    "cost = {\n",
    "    \"I1\" : 5,\n",
    "    \"I2\" : 2,\n",
    "    \"A1\" : 3,\n",
    "    \"A2\" : 4\n",
    "}\n",
    "prob += pl.lpSum(y[i] * cost[i] for i in idx)\n",
    "\n",
    "prob.solve()"
   ]
  },
  {
   "cell_type": "markdown",
   "id": "5cef1408",
   "metadata": {},
   "source": [
    "Elérhető solverek:"
   ]
  },
  {
   "cell_type": "code",
   "execution_count": 51,
   "id": "e8ff020a",
   "metadata": {
    "ExecuteTime": {
     "end_time": "2023-03-29T10:49:05.822344Z",
     "start_time": "2023-03-29T10:49:05.708633Z"
    }
   },
   "outputs": [
    {
     "name": "stdout",
     "output_type": "stream",
     "text": [
      "Set parameter Username\n"
     ]
    },
    {
     "data": {
      "text/plain": [
       "['GLPK_CMD', 'XPRESS', 'PULP_CBC_CMD']"
      ]
     },
     "execution_count": 51,
     "metadata": {},
     "output_type": "execute_result"
    }
   ],
   "source": [
    "pl.listSolvers(onlyAvailable=True)"
   ]
  },
  {
   "cell_type": "markdown",
   "id": "a8969aeb",
   "metadata": {},
   "source": [
    "# Feladatok"
   ]
  },
  {
   "cell_type": "markdown",
   "id": "ba628d3d",
   "metadata": {},
   "source": [
    "## Keverési feladat\n",
    "\n",
    "Szeretnénk kikeverni $25$ tonna speciális összetételű acélt különböző acéltömbökből. A kapott keveréknek az $5\\%$-a legyen szén és $5\\%$-a molibdén. Négy féle acél áll rendelkezésünkre, mindegyiket tömb formájában lehet megvenni, és mindegyikből legfeljebb $1$-et. A tömbök összetétele:\n",
    "\n",
    "| Tömb | Súly (tonna) | Szén (%) | Molibdén (%) | Ár (\\$/tonna) |\n",
    "| ---- | ------------ | -------- | ------------ | ------------- |\n",
    "| 1    | 5            | 5        | 3            | 350           |\n",
    "| 2    | 3            | 4        | 3            | 330           |\n",
    "| 3    | 4            | 5        | 4            | 310           |\n",
    "| 4    | 6            | 3        | 4            | 280           |\n",
    "\n",
    "Ezen kívül megvásárolható $3$ féle ötvözet is, illetve hulladékfémet is tudunk venni. Ezekből törtmennyiségeket is lehet vásárolni. Az összetételük:\n",
    "\n",
    "| Ötvözet  | Szén (%) | Molibdén (%) | Ár (\\$/tonna) |\n",
    "| -------- | -------- | ------------ | ------------- |\n",
    "| 1        | 8        | 6            | 500           |\n",
    "| 2        | 7        | 7            | 450           |\n",
    "| 3        | 6        | 8            | 400           |\n",
    "| Hulladék | 3        | 9            | 100           |\n",
    "\n",
    "A cél a lehető legolcsóbban előállítani a kívánt ötvözetet."
   ]
  },
  {
   "cell_type": "code",
   "execution_count": 20,
   "id": "21fd7525",
   "metadata": {
    "ExecuteTime": {
     "end_time": "2023-03-29T10:07:11.700136Z",
     "start_time": "2023-03-29T10:07:11.688076Z"
    }
   },
   "outputs": [],
   "source": [
    "# Problem data\n",
    "carbon = {\n",
    "    \"I1\" : 0.05,\n",
    "    \"I2\" : 0.04,\n",
    "    \"I3\" : 0.05,\n",
    "    \"I4\" : 0.03,\n",
    "    \"A1\" : 0.08,\n",
    "    \"A2\" : 0.07,\n",
    "    \"A3\" : 0.06,\n",
    "    \"S\"  : 0.03\n",
    "}\n",
    "\n",
    "molybdenium = {\n",
    "    \"I1\" : 0.03,\n",
    "    \"I2\" : 0.03,\n",
    "    \"I3\" : 0.04,\n",
    "    \"I4\" : 0.04,\n",
    "    \"A1\" : 0.06,\n",
    "    \"A2\" : 0.07,\n",
    "    \"A3\" : 0.08,\n",
    "    \"S\"  : 0.09\n",
    "}\n",
    "\n",
    "weight = {\n",
    "    \"I1\" : 5,\n",
    "    \"I2\" : 3,\n",
    "    \"I3\" : 4,\n",
    "    \"I4\" : 6\n",
    "}\n",
    "\n",
    "\n",
    "cost = {\n",
    "    \"I1\" : 350,\n",
    "    \"I2\" : 330,\n",
    "    \"I3\" : 310,\n",
    "    \"I4\" : 280,\n",
    "    \"A1\" : 500,\n",
    "    \"A2\" : 450,\n",
    "    \"A3\" : 400,\n",
    "    \"S\"  : 100\n",
    "}"
   ]
  },
  {
   "cell_type": "markdown",
   "id": "2e556399",
   "metadata": {},
   "source": [
    "## Max-cut\n",
    "Készíts egy random gráfot a `networkx` csomaggal (`networkx.erdos_renyi_graph(...)`), és keresd meg benne a maximális vágást egy egészértékű programmal. Az IP amit meg kellene oldani:\n",
    "\n",
    "\\begin{equation}\n",
    "    \\begin{array}{rrclll}\n",
    "        \\max & \\sum_{uv\\in E} z_{uv} \\\\\n",
    "        \\mathrm{s.t.} & z_{uv} & \\leq & x_u + x_v &\\forall uv\\in E\\\\\n",
    "                      & z_{uv} & \\leq & 2 - (x_u + x_v) &\\forall uv\\in E\\\\\n",
    "                      & z_{uv} & \\in  & \\left\\{0,1\\right\\} & \\forall uv\\in E\\\\\n",
    "                      & x_v    & \\in  & \\left\\{0,1\\right\\} & \\forall v\\in V.\n",
    "    \\end{array}\n",
    "\\end{equation}\n",
    "\n",
    "_(Tipp: kicsi gráfokon kezdjetek kísérletezni, a PuLP által alapértelmezetten használt solver $|V|=40$ és $p=0.3$ mellett már egy percig is eltarthat.)_\n",
    "\n",
    "__Bónusz:__ rajzold is ki a gráfot a vágáséleket kiemelve!"
   ]
  },
  {
   "cell_type": "code",
   "execution_count": null,
   "id": "72a3fc2a",
   "metadata": {},
   "outputs": [],
   "source": []
  },
  {
   "cell_type": "markdown",
   "id": "6ec7e4b2",
   "metadata": {},
   "source": [
    "## Sudoku\n",
    "Készítsd el a Sudoku feladat IP modelljét és oldd meg! A megoldást vizualizáld! \n",
    "\n",
    "__Bónusz:__ oldd meg a világ legnehezebb sudokuját: https://abcnews.go.com/blogs/headlines/2012/06/can-you-solve-the-hardest-ever-sudoku"
   ]
  },
  {
   "cell_type": "code",
   "execution_count": null,
   "id": "1b3000ad",
   "metadata": {},
   "outputs": [],
   "source": []
  },
  {
   "cell_type": "markdown",
   "id": "c69c7511",
   "metadata": {},
   "source": [
    "## Legkisebb abszolút eltérés\n",
    "\n",
    "Adottak $(x_1,y_1),(x_2,y_2),\\dots,(x_n,y_n)$ pontok, és szeretnék rájuk illeszteni egy egyenest, amelynek a lehető legkisebb az abszolút eltérése a pontoktól. Vagyis keressük azt az $a$ együtthatót, ami minimalizálja a\n",
    "\n",
    "$$\n",
    "    \\sum_{i=1}^n \\left|a x_i-y_i-b\\right|\n",
    "$$\n",
    "\n",
    "összeget. Modellezd LP-ként. Generálj random pontokat és oldd meg a feladatot. Ábrázold a kapott regressziós egyenest és a pontokat.\n",
    "\n",
    "_Hint: nyilván valami trükköt kell alkalmazni, mivel az abszolutérték függvény nem lineáris._"
   ]
  },
  {
   "cell_type": "code",
   "execution_count": null,
   "id": "63326b3c",
   "metadata": {},
   "outputs": [],
   "source": []
  },
  {
   "cell_type": "markdown",
   "id": "3595b8c5",
   "metadata": {},
   "source": [
    "## Bútorlap-szabászat\n",
    "\n",
    "Tegyük fel, hogy van egy $W\\times H$ méretű téglalap alapú bútorlapom, és $n$ darab kisebb darabot szeretnék kivágni belőle. Az $i$. darab $w_i\\times h_i$ méretű téglalap. Készíts el egy modellt, amellyel el lehet dönteni, hogy ki tudom-e vágni a bútorlapokat.\n",
    "\n",
    "Legyen most $W=3\\mathrm{m}$, $H=4\\mathrm{m}$ és legyen 4 darab, amit ki akarunk vágni:\n",
    "\n",
    "| Munkadarab | Szélesség (m) | Magasság (m) |\n",
    "| ---------- | ------------- | ------------ |\n",
    "| i1         | 1             | 3            |\n",
    "| i2         | 2             | 1            |\n",
    "| i3         | 2             | 2            |\n",
    "| i4         | 3             | 1            |\n",
    "\n",
    "Ki tudjuk-e vágni őket a bútorlapból, és ha igen, hogyan?\n",
    "__Bónusz:__ rajzold is ki az elrendezést!"
   ]
  },
  {
   "cell_type": "code",
   "execution_count": null,
   "id": "c7d4a55b",
   "metadata": {},
   "outputs": [],
   "source": []
  }
 ],
 "metadata": {
  "kernelspec": {
   "display_name": "Python 3",
   "language": "python",
   "name": "python3"
  },
  "language_info": {
   "codemirror_mode": {
    "name": "ipython",
    "version": 3
   },
   "file_extension": ".py",
   "mimetype": "text/x-python",
   "name": "python",
   "nbconvert_exporter": "python",
   "pygments_lexer": "ipython3",
   "version": "3.7.10"
  },
  "latex_envs": {
   "LaTeX_envs_menu_present": true,
   "autoclose": true,
   "autocomplete": true,
   "bibliofile": "biblio.bib",
   "cite_by": "apalike",
   "current_citInitial": 1,
   "eqLabelWithNumbers": true,
   "eqNumInitial": 1,
   "hotkeys": {
    "equation": "Ctrl-E",
    "itemize": "Ctrl-I"
   },
   "labels_anchors": false,
   "latex_user_defs": false,
   "report_style_numbering": true,
   "user_envs_cfg": false
  },
  "toc": {
   "base_numbering": 1,
   "nav_menu": {},
   "number_sections": true,
   "sideBar": true,
   "skip_h1_title": false,
   "title_cell": "Table of Contents",
   "title_sidebar": "Contents",
   "toc_cell": false,
   "toc_position": {},
   "toc_section_display": true,
   "toc_window_display": false
  },
  "varInspector": {
   "cols": {
    "lenName": 16,
    "lenType": 16,
    "lenVar": 40
   },
   "kernels_config": {
    "python": {
     "delete_cmd_postfix": "",
     "delete_cmd_prefix": "del ",
     "library": "var_list.py",
     "varRefreshCmd": "print(var_dic_list())"
    },
    "r": {
     "delete_cmd_postfix": ") ",
     "delete_cmd_prefix": "rm(",
     "library": "var_list.r",
     "varRefreshCmd": "cat(var_dic_list()) "
    }
   },
   "types_to_exclude": [
    "module",
    "function",
    "builtin_function_or_method",
    "instance",
    "_Feature"
   ],
   "window_display": false
  }
 },
 "nbformat": 4,
 "nbformat_minor": 5
}
