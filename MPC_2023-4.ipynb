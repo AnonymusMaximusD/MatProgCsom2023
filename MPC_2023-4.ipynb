{
 "cells": [
  {
   "cell_type": "markdown",
   "id": "33000ffe",
   "metadata": {},
   "source": [
    "# Hatodik gyakorlat - LP Solverek (PuLP)"
   ]
  },
  {
   "cell_type": "code",
   "execution_count": 3,
   "id": "f1de9f7d",
   "metadata": {
    "ExecuteTime": {
     "end_time": "2023-03-29T10:07:09.671679Z",
     "start_time": "2023-03-29T10:07:09.658988Z"
    }
   },
   "outputs": [],
   "source": [
    "import pulp as pl\n",
    "import numpy as np\n",
    "import matplotlib.pyplot as plt\n",
    "import itertools as it"
   ]
  },
  {
   "cell_type": "markdown",
   "id": "d208dbf7",
   "metadata": {},
   "source": [
    "# Modellezés PuLP-pal"
   ]
  },
  {
   "cell_type": "markdown",
   "id": "390dc55f",
   "metadata": {},
   "source": [
    "Modell létrehozása PuLP-pal:"
   ]
  },
  {
   "cell_type": "code",
   "execution_count": 4,
   "id": "111b16f8",
   "metadata": {
    "ExecuteTime": {
     "end_time": "2023-03-29T10:07:09.828571Z",
     "start_time": "2023-03-29T10:07:09.811435Z"
    }
   },
   "outputs": [],
   "source": [
    "prob = pl.LpProblem(name=\"ProblemName\",\n",
    "                    sense=pl.LpMaximize) # vagy pl.LpMinimize (ez a default)"
   ]
  },
  {
   "cell_type": "markdown",
   "id": "16d71ab9",
   "metadata": {},
   "source": [
    "Változók létrehozása:"
   ]
  },
  {
   "cell_type": "code",
   "execution_count": 5,
   "id": "61a96416",
   "metadata": {
    "ExecuteTime": {
     "end_time": "2023-03-29T10:07:09.907622Z",
     "start_time": "2023-03-29T10:07:09.892624Z"
    }
   },
   "outputs": [],
   "source": [
    "x = pl.LpVariable(name=\"x\",\n",
    "                  lowBound=1,\n",
    "                  upBound=10,\n",
    "                  cat=pl.LpInteger) # vagy pl.LpContinuous vagy pl.LpBinary"
   ]
  },
  {
   "cell_type": "markdown",
   "id": "51080695",
   "metadata": {},
   "source": [
    "Változók létrehozás dictionary-ként:"
   ]
  },
  {
   "cell_type": "code",
   "execution_count": 6,
   "id": "86531d83",
   "metadata": {
    "ExecuteTime": {
     "end_time": "2023-03-29T10:07:09.971309Z",
     "start_time": "2023-03-29T10:07:09.964466Z"
    }
   },
   "outputs": [],
   "source": [
    "idx = [\"I1\", \"I2\", \"A1\", \"A2\"]\n",
    "y = pl.LpVariable.dicts(name=\"y\",\n",
    "                        indexs=idx,\n",
    "                        cat=pl.LpBinary)"
   ]
  },
  {
   "cell_type": "markdown",
   "id": "90d7e74d",
   "metadata": {},
   "source": [
    "Korlátok hozzáadása a modellhez:"
   ]
  },
  {
   "cell_type": "code",
   "execution_count": 7,
   "id": "4b93d138",
   "metadata": {
    "ExecuteTime": {
     "end_time": "2023-03-29T10:07:10.050099Z",
     "start_time": "2023-03-29T10:07:10.044113Z"
    }
   },
   "outputs": [],
   "source": [
    "prob += x + y[\"I1\"] <= 2, \"elso constraint\"\n",
    "prob += pl.lpSum(y) == 3, \"masodik constraint\"\n",
    "prob += x + y[\"A1\"] >= 3"
   ]
  },
  {
   "cell_type": "markdown",
   "id": "43c31f95",
   "metadata": {},
   "source": [
    "Célfüggvény hozzáadása a modellhez:"
   ]
  },
  {
   "cell_type": "code",
   "execution_count": 8,
   "id": "4ac9c2be",
   "metadata": {
    "ExecuteTime": {
     "end_time": "2023-03-29T10:07:10.145844Z",
     "start_time": "2023-03-29T10:07:10.126894Z"
    }
   },
   "outputs": [],
   "source": [
    "cost = {\n",
    "    \"I1\" : 5,\n",
    "    \"I2\" : 2,\n",
    "    \"A1\" : 3,\n",
    "    \"A2\" : 4\n",
    "}\n",
    "prob += pl.lpSum(y[i] * cost[i] for i in idx)"
   ]
  },
  {
   "cell_type": "markdown",
   "id": "b8a0ae91",
   "metadata": {},
   "source": [
    "Modell kiírása:"
   ]
  },
  {
   "cell_type": "code",
   "execution_count": 9,
   "id": "4b17643f",
   "metadata": {
    "ExecuteTime": {
     "end_time": "2023-03-29T10:07:10.239676Z",
     "start_time": "2023-03-29T10:07:10.223516Z"
    }
   },
   "outputs": [
    {
     "name": "stdout",
     "output_type": "stream",
     "text": [
      "ProblemName:\n",
      "MAXIMIZE\n",
      "3*y_A1 + 4*y_A2 + 5*y_I1 + 2*y_I2 + 0\n",
      "SUBJECT TO\n",
      "elso_constraint: x + y_I1 <= 2\n",
      "\n",
      "masodik_constraint: y_A1 + y_A2 + y_I1 + y_I2 = 3\n",
      "\n",
      "_C1: x + y_A1 >= 3\n",
      "\n",
      "VARIABLES\n",
      "1 <= x <= 10 Integer\n",
      "0 <= y_A1 <= 1 Integer\n",
      "0 <= y_A2 <= 1 Integer\n",
      "0 <= y_I1 <= 1 Integer\n",
      "0 <= y_I2 <= 1 Integer\n",
      "\n"
     ]
    }
   ],
   "source": [
    "print(prob)"
   ]
  },
  {
   "cell_type": "markdown",
   "id": "84bf8447",
   "metadata": {},
   "source": [
    "Modell megoldása:"
   ]
  },
  {
   "cell_type": "code",
   "execution_count": 10,
   "id": "dfc42a40",
   "metadata": {
    "ExecuteTime": {
     "end_time": "2023-03-29T10:07:10.379799Z",
     "start_time": "2023-03-29T10:07:10.316968Z"
    }
   },
   "outputs": [
    {
     "data": {
      "text/plain": [
       "1"
      ]
     },
     "execution_count": 10,
     "metadata": {},
     "output_type": "execute_result"
    }
   ],
   "source": [
    "prob.solve()"
   ]
  },
  {
   "cell_type": "markdown",
   "id": "f00fb34c",
   "metadata": {
    "ExecuteTime": {
     "end_time": "2021-10-12T09:41:01.927436Z",
     "start_time": "2021-10-12T09:41:01.907991Z"
    }
   },
   "source": [
    "Probléma állapotok:"
   ]
  },
  {
   "cell_type": "code",
   "execution_count": 11,
   "id": "1e6e3c38",
   "metadata": {
    "ExecuteTime": {
     "end_time": "2023-03-29T10:07:10.443470Z",
     "start_time": "2023-03-29T10:07:10.426028Z"
    },
    "scrolled": false
   },
   "outputs": [
    {
     "data": {
      "text/plain": [
       "{0: 'Not Solved',\n",
       " 1: 'Optimal',\n",
       " -1: 'Infeasible',\n",
       " -2: 'Unbounded',\n",
       " -3: 'Undefined'}"
      ]
     },
     "execution_count": 11,
     "metadata": {},
     "output_type": "execute_result"
    }
   ],
   "source": [
    "pl.LpStatus"
   ]
  },
  {
   "cell_type": "markdown",
   "id": "1416332f",
   "metadata": {},
   "source": [
    "Megoldás \"megszerzése\":"
   ]
  },
  {
   "cell_type": "code",
   "execution_count": 12,
   "id": "989abeea",
   "metadata": {
    "ExecuteTime": {
     "end_time": "2023-03-29T10:07:10.538220Z",
     "start_time": "2023-03-29T10:07:10.526356Z"
    }
   },
   "outputs": [
    {
     "name": "stdout",
     "output_type": "stream",
     "text": [
      "x= 2.0\n",
      "y_I1 = 0.0\n",
      "y_I2 = 1.0\n",
      "y_A1 = 1.0\n",
      "y_A2 = 1.0\n"
     ]
    }
   ],
   "source": [
    "print(\"x=\",pl.value(x))\n",
    "for i in idx:\n",
    "    print(y[i].name, \"=\", pl.value(y[i]))"
   ]
  },
  {
   "cell_type": "markdown",
   "id": "4b18759f",
   "metadata": {},
   "source": [
    "Célfüggvényérték:"
   ]
  },
  {
   "cell_type": "code",
   "execution_count": 13,
   "id": "8785c164",
   "metadata": {
    "ExecuteTime": {
     "end_time": "2023-03-29T10:07:10.631966Z",
     "start_time": "2023-03-29T10:07:10.622991Z"
    }
   },
   "outputs": [
    {
     "data": {
      "text/plain": [
       "9.0"
      ]
     },
     "execution_count": 13,
     "metadata": {},
     "output_type": "execute_result"
    }
   ],
   "source": [
    "pl.value(prob.objective)"
   ]
  },
  {
   "cell_type": "markdown",
   "id": "0f88a96f",
   "metadata": {},
   "source": [
    "Korlátok ellenőrzése:\n",
    "\n",
    "Azt mutatja, hogy például egy $ax\\leq b$ korlát esetén mennyi az $ax-b$ értéke. Ezeknek egyenlőség esetén nyilván $0$-nak kell lenni."
   ]
  },
  {
   "cell_type": "code",
   "execution_count": 14,
   "id": "0183713d",
   "metadata": {
    "ExecuteTime": {
     "end_time": "2023-03-29T10:07:10.725903Z",
     "start_time": "2023-03-29T10:07:10.709203Z"
    }
   },
   "outputs": [
    {
     "name": "stdout",
     "output_type": "stream",
     "text": [
      "0.0\n",
      "0.0\n",
      "0.0\n"
     ]
    }
   ],
   "source": [
    "print(pl.value(prob.constraints[\"_C1\"]))\n",
    "print(pl.value(prob.constraints[\"elso_constraint\"]))\n",
    "print(pl.value(prob.constraints[\"masodik_constraint\"]))"
   ]
  },
  {
   "cell_type": "markdown",
   "id": "ce5a6e73",
   "metadata": {},
   "source": [
    "Korlát törlése:"
   ]
  },
  {
   "cell_type": "code",
   "execution_count": 15,
   "id": "c4ceb42a",
   "metadata": {
    "ExecuteTime": {
     "end_time": "2023-03-29T10:07:10.805333Z",
     "start_time": "2023-03-29T10:07:10.801343Z"
    }
   },
   "outputs": [
    {
     "name": "stdout",
     "output_type": "stream",
     "text": [
      "ProblemName:\n",
      "MAXIMIZE\n",
      "3*y_A1 + 4*y_A2 + 5*y_I1 + 2*y_I2 + 0\n",
      "SUBJECT TO\n",
      "elso_constraint: x + y_I1 <= 2\n",
      "\n",
      "masodik_constraint: y_A1 + y_A2 + y_I1 + y_I2 = 3\n",
      "\n",
      "VARIABLES\n",
      "1 <= x <= 10 Integer\n",
      "0 <= y_A1 <= 1 Integer\n",
      "0 <= y_A2 <= 1 Integer\n",
      "0 <= y_I1 <= 1 Integer\n",
      "0 <= y_I2 <= 1 Integer\n",
      "\n"
     ]
    }
   ],
   "source": [
    "del prob.constraints[\"_C1\"]\n",
    "print(prob)"
   ]
  },
  {
   "cell_type": "markdown",
   "id": "6cc8e421",
   "metadata": {},
   "source": [
    "Változó korlátok módosítása:"
   ]
  },
  {
   "cell_type": "code",
   "execution_count": 16,
   "id": "0285d3e7",
   "metadata": {
    "ExecuteTime": {
     "end_time": "2023-03-29T10:07:10.899468Z",
     "start_time": "2023-03-29T10:07:10.893484Z"
    }
   },
   "outputs": [
    {
     "name": "stdout",
     "output_type": "stream",
     "text": [
      "ProblemName:\n",
      "MAXIMIZE\n",
      "3*y_A1 + 4*y_A2 + 5*y_I1 + 2*y_I2 + 0\n",
      "SUBJECT TO\n",
      "elso_constraint: x + y_I1 <= 2\n",
      "\n",
      "masodik_constraint: y_A1 + y_A2 + y_I1 + y_I2 = 3\n",
      "\n",
      "VARIABLES\n",
      "2 <= x <= 4 Integer\n",
      "0 <= y_A1 <= 1 Integer\n",
      "0 <= y_A2 <= 1 Integer\n",
      "0 <= y_I1 <= 1 Integer\n",
      "0 <= y_I2 <= 1 Integer\n",
      "\n"
     ]
    }
   ],
   "source": [
    "x.lowBound=2\n",
    "x.upBound=4\n",
    "print(prob)"
   ]
  },
  {
   "cell_type": "markdown",
   "id": "c96dce0f",
   "metadata": {},
   "source": [
    "Változó típusának módosítása:"
   ]
  },
  {
   "cell_type": "code",
   "execution_count": 17,
   "id": "c58ea652",
   "metadata": {
    "ExecuteTime": {
     "end_time": "2023-03-29T10:07:10.995363Z",
     "start_time": "2023-03-29T10:07:10.975385Z"
    }
   },
   "outputs": [
    {
     "name": "stdout",
     "output_type": "stream",
     "text": [
      "ProblemName:\n",
      "MAXIMIZE\n",
      "3*y_A1 + 4*y_A2 + 5*y_I1 + 2*y_I2 + 0\n",
      "SUBJECT TO\n",
      "elso_constraint: x + y_I1 <= 2\n",
      "\n",
      "masodik_constraint: y_A1 + y_A2 + y_I1 + y_I2 = 3\n",
      "\n",
      "VARIABLES\n",
      "2 <= x <= 4 Integer\n",
      "0 <= y_A1 <= 3 Integer\n",
      "0 <= y_A2 <= 1 Integer\n",
      "0 <= y_I1 <= 1 Integer\n",
      "0 <= y_I2 <= 1 Integer\n",
      "\n"
     ]
    }
   ],
   "source": [
    "y[\"A1\"].cat = pl.LpInteger\n",
    "y[\"A1\"].lowBound = 0\n",
    "y[\"A1\"].upBound = 3\n",
    "print(prob)"
   ]
  },
  {
   "cell_type": "markdown",
   "id": "b445fcdf",
   "metadata": {},
   "source": [
    "Ha a `%%python` cellamágiát használjátok, akkor az optimalizálási folyamat logját is bizotsan visszakapjátok."
   ]
  },
  {
   "cell_type": "code",
   "execution_count": 18,
   "id": "bdab771e",
   "metadata": {
    "ExecuteTime": {
     "end_time": "2023-03-29T10:07:11.403043Z",
     "start_time": "2023-03-29T10:07:11.064276Z"
    }
   },
   "outputs": [
    {
     "name": "stdout",
     "output_type": "stream",
     "text": [
      "Welcome to the CBC MILP Solver \r\n",
      "Version: 2.10.3 \r\n",
      "Build Date: Dec 15 2019 \r\n",
      "\r\n",
      "command line - C:\\Users\\Peter Dobrovoczki\\anaconda3\\envs\\notebook\\lib\\site-packages\\pulp\\apis\\..\\solverdir\\cbc\\win\\64\\cbc.exe C:\\Users\\PETERD~1\\AppData\\Local\\Temp\\38b20570856a4ad2963a4c7ea3dbe2b8-pulp.mps max timeMode elapsed branch printingOptions all solution C:\\Users\\PETERD~1\\AppData\\Local\\Temp\\38b20570856a4ad2963a4c7ea3dbe2b8-pulp.sol (default strategy 1)\r\n",
      "At line 2 NAME          MODEL\r\n",
      "At line 3 ROWS\r\n",
      "At line 8 COLUMNS\r\n",
      "At line 31 RHS\r\n",
      "At line 35 BOUNDS\r\n",
      "At line 42 ENDATA\r\n",
      "Problem MODEL has 3 rows, 5 columns and 8 elements\r\n",
      "Coin0008I MODEL read with 0 errors\r\n",
      "Option for timeMode changed from cpu to elapsed\r\n",
      "Continuous objective value is 9 - 0.00 seconds\r\n",
      "Cgl0004I processed model has 0 rows, 0 columns (0 integer (0 of which binary)) and 0 elements\r\n",
      "Cbc3007W No integer variables - nothing to do\r\n",
      "Cuts at root node changed objective from -9 to -1.79769e+308\r\n",
      "Probing was tried 0 times and created 0 cuts of which 0 were active after adding rounds of cuts (0.000 seconds)\r\n",
      "Gomory was tried 0 times and created 0 cuts of which 0 were active after adding rounds of cuts (0.000 seconds)\r\n",
      "Knapsack was tried 0 times and created 0 cuts of which 0 were active after adding rounds of cuts (0.000 seconds)\r\n",
      "Clique was tried 0 times and created 0 cuts of which 0 were active after adding rounds of cuts (0.000 seconds)\r\n",
      "MixedIntegerRounding2 was tried 0 times and created 0 cuts of which 0 were active after adding rounds of cuts (0.000 seconds)\r\n",
      "FlowCover was tried 0 times and created 0 cuts of which 0 were active after adding rounds of cuts (0.000 seconds)\r\n",
      "TwoMirCuts was tried 0 times and created 0 cuts of which 0 were active after adding rounds of cuts (0.000 seconds)\r\n",
      "ZeroHalf was tried 0 times and created 0 cuts of which 0 were active after adding rounds of cuts (0.000 seconds)\r\n",
      "\r\n",
      "Result - Optimal solution found\r\n",
      "\r\n",
      "Objective value:                9.00000000\r\n",
      "Enumerated nodes:               0\r\n",
      "Total iterations:               0\r\n",
      "Time (CPU seconds):             0.00\r\n",
      "Time (Wallclock seconds):       0.00\r\n",
      "\r\n",
      "Option for printingOptions changed from normal to all\r\n",
      "Total time (CPU seconds):       0.01   (Wallclock seconds):       0.01\r\n",
      "\r\n"
     ]
    }
   ],
   "source": [
    "%%python\n",
    "import pulp as pl\n",
    "prob = pl.LpProblem(name=\"ProblemName\",\n",
    "                    sense=pl.LpMaximize) # vagy pl.LpMinimize (ez a default)\n",
    "\n",
    "x = pl.LpVariable(name=\"x\",\n",
    "                  lowBound=1,\n",
    "                  upBound=10,\n",
    "                  cat=pl.LpInteger) # vagy pl.LpContinuous vagy pl.LpBinary\n",
    "\n",
    "idx = [\"I1\", \"I2\", \"A1\", \"A2\"]\n",
    "y = pl.LpVariable.dicts(name=\"y\",\n",
    "                        indexs=idx,\n",
    "                        cat=pl.LpBinary)\n",
    "\n",
    "prob += x + y[\"I1\"] <= 2, \"elso constraint\"\n",
    "prob += pl.lpSum(y) == 3, \"masodik constraint\"\n",
    "prob += x + y[\"A1\"] >= 3\n",
    "\n",
    "cost = {\n",
    "    \"I1\" : 5,\n",
    "    \"I2\" : 2,\n",
    "    \"A1\" : 3,\n",
    "    \"A2\" : 4\n",
    "}\n",
    "prob += pl.lpSum(y[i] * cost[i] for i in idx)\n",
    "\n",
    "prob.solve()"
   ]
  },
  {
   "cell_type": "markdown",
   "id": "76225545",
   "metadata": {},
   "source": [
    "Elérhető solverek:"
   ]
  },
  {
   "cell_type": "code",
   "execution_count": 19,
   "id": "346998db",
   "metadata": {
    "ExecuteTime": {
     "end_time": "2023-03-29T10:07:11.685084Z",
     "start_time": "2023-03-29T10:07:11.406036Z"
    }
   },
   "outputs": [
    {
     "name": "stdout",
     "output_type": "stream",
     "text": [
      "Set parameter Username\n"
     ]
    },
    {
     "name": "stderr",
     "output_type": "stream",
     "text": [
      "C:\\Users\\Peter Dobrovoczki\\anaconda3\\envs\\notebook\\lib\\site-packages\\pulp\\apis\\gurobi_api.py:170: UserWarning: GUROBI error: License expired 2022-06-18.\n",
      "  warnings.warn(\"GUROBI error: {}.\".format(e))\n",
      "C:\\Users\\Peter Dobrovoczki\\anaconda3\\envs\\notebook\\lib\\site-packages\\pulp\\apis\\gurobi_api.py:357: UserWarning: GUROBI error: \n",
      "Failed to set up a license\n",
      "\n",
      "Error 10009: License expired 2022-06-18\n",
      "\n",
      "\n",
      ".\n",
      "  warnings.warn(\"GUROBI error: {}.\".format(out))\n"
     ]
    },
    {
     "data": {
      "text/plain": [
       "['GLPK_CMD', 'XPRESS', 'PULP_CBC_CMD']"
      ]
     },
     "execution_count": 19,
     "metadata": {},
     "output_type": "execute_result"
    }
   ],
   "source": [
    "pl.listSolvers(onlyAvailable=True)"
   ]
  },
  {
   "cell_type": "markdown",
   "id": "427865f7",
   "metadata": {},
   "source": [
    "# Feladatok"
   ]
  },
  {
   "cell_type": "markdown",
   "id": "8c58a2e7",
   "metadata": {},
   "source": [
    "## Keverési feladat\n",
    "\n",
    "Szeretnénk kikeverni $25$ tonna speciális összetételű acélt különböző acéltömbökből. A kapott keveréknek az $5\\%$-a legyen szén és $5\\%$-a molibdén. Négy féle acél áll rendelkezésünkre, mindegyiket tömb formájában lehet megvenni, és mindegyikből legfeljebb $1$-et. A tömbök összetétele:\n",
    "\n",
    "| Tömb | Súly (tonna) | Szén (%) | Molibdén (%) | Ár (\\$/tonna) |\n",
    "| ---- | ------------ | -------- | ------------ | ------------- |\n",
    "| 1    | 5            | 5        | 3            | 350           |\n",
    "| 2    | 3            | 4        | 3            | 330           |\n",
    "| 3    | 4            | 5        | 4            | 310           |\n",
    "| 4    | 6            | 3        | 4            | 280           |\n",
    "\n",
    "Ezen kívül megvásárolható $3$ féle ötvözet is, illetve hulladékfémet is tudunk venni. Ezekből törtmennyiségeket is lehet vásárolni. Az összetételük:\n",
    "\n",
    "| Ötvözet  | Szén (%) | Molibdén (%) | Ár (\\$/tonna) |\n",
    "| -------- | -------- | ------------ | ------------- |\n",
    "| 1        | 8        | 6            | 500           |\n",
    "| 2        | 7        | 7            | 450           |\n",
    "| 3        | 6        | 8            | 400           |\n",
    "| Hulladék | 3        | 9            | 100           |\n",
    "\n",
    "A cél a lehető legolcsóbban előállítani a kívánt ötvözetet."
   ]
  },
  {
   "cell_type": "code",
   "execution_count": 20,
   "id": "1380c146",
   "metadata": {
    "ExecuteTime": {
     "end_time": "2023-03-29T10:07:11.700136Z",
     "start_time": "2023-03-29T10:07:11.688076Z"
    }
   },
   "outputs": [],
   "source": [
    "# Problem data\n",
    "carbon = {\n",
    "    \"I1\" : 0.05,\n",
    "    \"I2\" : 0.04,\n",
    "    \"I3\" : 0.05,\n",
    "    \"I4\" : 0.03,\n",
    "    \"A1\" : 0.08,\n",
    "    \"A2\" : 0.07,\n",
    "    \"A3\" : 0.06,\n",
    "    \"S\"  : 0.03\n",
    "}\n",
    "\n",
    "molybdenium = {\n",
    "    \"I1\" : 0.03,\n",
    "    \"I2\" : 0.03,\n",
    "    \"I3\" : 0.04,\n",
    "    \"I4\" : 0.04,\n",
    "    \"A1\" : 0.06,\n",
    "    \"A2\" : 0.07,\n",
    "    \"A3\" : 0.08,\n",
    "    \"S\"  : 0.09\n",
    "}\n",
    "\n",
    "weight = {\n",
    "    \"I1\" : 5,\n",
    "    \"I2\" : 3,\n",
    "    \"I3\" : 4,\n",
    "    \"I4\" : 6\n",
    "}\n",
    "\n",
    "\n",
    "cost = {\n",
    "    \"I1\" : 350,\n",
    "    \"I2\" : 330,\n",
    "    \"I3\" : 310,\n",
    "    \"I4\" : 280,\n",
    "    \"A1\" : 500,\n",
    "    \"A2\" : 450,\n",
    "    \"A3\" : 400,\n",
    "    \"S\"  : 100\n",
    "}"
   ]
  },
  {
   "cell_type": "markdown",
   "id": "8c502819",
   "metadata": {},
   "source": [
    "## Max-cut\n",
    "Készíts egy random gráfot a `networkx` csomaggal (`networkx.erdos_renyi_graph(...)`), és keresd meg benne a maximális vágást egy egészértékű programmal. Az IP amit meg kellene oldani:\n",
    "\n",
    "\\begin{equation}\n",
    "    \\begin{array}{rrclll}\n",
    "        \\max & \\sum_{uv\\in E} z_{uv} \\\\\n",
    "        \\mathrm{s.t.} & z_{uv} & \\leq & x_u + x_v &\\forall uv\\in E\\\\\n",
    "                      & z_{uv} & \\leq & 2 - (x_u + x_v) &\\forall uv\\in E\\\\\n",
    "                      & z_{uv} & \\in  & \\left\\{0,1\\right\\} & \\forall uv\\in E\\\\\n",
    "                      & x_v    & \\in  & \\left\\{0,1\\right\\} & \\forall v\\in V.\n",
    "    \\end{array}\n",
    "\\end{equation}\n",
    "\n",
    "_(Tipp: kicsi gráfokon kezdjetek kísérletezni, a PuLP által alapértelmezetten használt solver $|V|=40$ és $p=0.3$ mellett már egy percig is eltarthat.)_\n",
    "\n",
    "__Bónusz:__ rajzold is ki a gráfot a vágáséleket kiemelve!"
   ]
  },
  {
   "cell_type": "code",
   "execution_count": null,
   "id": "1f99e70a",
   "metadata": {},
   "outputs": [],
   "source": []
  },
  {
   "cell_type": "markdown",
   "id": "2a0d28b1",
   "metadata": {},
   "source": [
    "## Sudoku\n",
    "Készítsd el a Sudoku feladat IP modelljét és oldd meg! A megoldást vizualizáld! \n",
    "\n",
    "__Bónusz:__ oldd meg a világ legnehezebb sudokuját: https://abcnews.go.com/blogs/headlines/2012/06/can-you-solve-the-hardest-ever-sudoku"
   ]
  },
  {
   "cell_type": "code",
   "execution_count": null,
   "id": "eacebdb5",
   "metadata": {},
   "outputs": [],
   "source": []
  },
  {
   "cell_type": "markdown",
   "id": "55c93d5b",
   "metadata": {},
   "source": [
    "## Legkisebb abszolút eltérés\n",
    "\n",
    "Adottak $(x_1,y_1),(x_2,y_2),\\dots,(x_n,y_n)$ pontok, és szeretnék rájuk illeszteni egy egyenest, amelynek a lehető legkisebb az abszolút eltérése a pontoktól. Vagyis keressük azt az $a$ együtthatót, ami minimalizálja a\n",
    "\n",
    "$$\n",
    "    \\sum_{i=1}^n \\left|a x_i-y_i-b\\right|\n",
    "$$\n",
    "\n",
    "összeget. Modellezd LP-ként. Generálj random pontokat és oldd meg a feladatot. Ábrázold a kapott regressziós egyenest és a pontokat.\n",
    "\n",
    "_Hint: nyilván valami trükköt kell alkalmazni, mivel az abszolutérték függvény nem lineáris._"
   ]
  },
  {
   "cell_type": "code",
   "execution_count": null,
   "id": "ad31d0ea",
   "metadata": {},
   "outputs": [],
   "source": []
  },
  {
   "cell_type": "markdown",
   "id": "f340b4b4",
   "metadata": {},
   "source": [
    "## Bútorlap-szabászat\n",
    "\n",
    "Tegyük fel, hogy van egy $W\\times H$ méretű téglalap alapú bútorlapom, és $n$ darab kisebb darabot szeretnék kivágni belőle. Az $i$. darab $w_i\\times h_i$ méretű téglalap. Készíts el egy modellt, amellyel el lehet dönteni, hogy ki tudom-e vágni a bútorlapokat.\n",
    "\n",
    "Legyen most $W=3\\mathrm{m}$, $H=4\\mathrm{m}$ és legyen 4 darab, amit ki akarunk vágni:\n",
    "\n",
    "| Munkadarab | Szélesség (m) | Magasság (m) |\n",
    "| ---------- | ------------- | ------------ |\n",
    "| i1         | 1             | 3            |\n",
    "| i2         | 2             | 1            |\n",
    "| i3         | 2             | 2            |\n",
    "| i4         | 3             | 1            |\n",
    "\n",
    "Ki tudjuk-e vágni őket a bútorlapból, és ha igen, hogyan?\n",
    "__Bónusz:__ rajzold is ki az elrendezést!"
   ]
  },
  {
   "cell_type": "code",
   "execution_count": null,
   "id": "7026a90b",
   "metadata": {},
   "outputs": [],
   "source": []
  }
 ],
 "metadata": {
  "kernelspec": {
   "display_name": "Python 3",
   "language": "python",
   "name": "python3"
  },
  "language_info": {
   "codemirror_mode": {
    "name": "ipython",
    "version": 3
   },
   "file_extension": ".py",
   "mimetype": "text/x-python",
   "name": "python",
   "nbconvert_exporter": "python",
   "pygments_lexer": "ipython3",
   "version": "3.7.10"
  },
  "latex_envs": {
   "LaTeX_envs_menu_present": true,
   "autoclose": true,
   "autocomplete": true,
   "bibliofile": "biblio.bib",
   "cite_by": "apalike",
   "current_citInitial": 1,
   "eqLabelWithNumbers": true,
   "eqNumInitial": 1,
   "hotkeys": {
    "equation": "Ctrl-E",
    "itemize": "Ctrl-I"
   },
   "labels_anchors": false,
   "latex_user_defs": false,
   "report_style_numbering": true,
   "user_envs_cfg": false
  },
  "toc": {
   "base_numbering": 1,
   "nav_menu": {},
   "number_sections": true,
   "sideBar": true,
   "skip_h1_title": false,
   "title_cell": "Table of Contents",
   "title_sidebar": "Contents",
   "toc_cell": false,
   "toc_position": {},
   "toc_section_display": true,
   "toc_window_display": false
  },
  "varInspector": {
   "cols": {
    "lenName": 16,
    "lenType": 16,
    "lenVar": 40
   },
   "kernels_config": {
    "python": {
     "delete_cmd_postfix": "",
     "delete_cmd_prefix": "del ",
     "library": "var_list.py",
     "varRefreshCmd": "print(var_dic_list())"
    },
    "r": {
     "delete_cmd_postfix": ") ",
     "delete_cmd_prefix": "rm(",
     "library": "var_list.r",
     "varRefreshCmd": "cat(var_dic_list()) "
    }
   },
   "types_to_exclude": [
    "module",
    "function",
    "builtin_function_or_method",
    "instance",
    "_Feature"
   ],
   "window_display": false
  }
 },
 "nbformat": 4,
 "nbformat_minor": 5
}
