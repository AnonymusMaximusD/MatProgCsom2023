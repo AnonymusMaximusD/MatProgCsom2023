{
 "cells": [
  {
   "cell_type": "markdown",
   "id": "64ef2d6a",
   "metadata": {},
   "source": [
    "# Matematikai algoritmusok és felfedezések II. - Első gyakorlat (Ismétlés)"
   ]
  },
  {
   "cell_type": "markdown",
   "id": "6f738974",
   "metadata": {},
   "source": [
    "## Adminisztratív információ\n",
    "* Gyakorlatvezető: Dobrovoczki Péter\n",
    "* Elérhetőség: pdobrovoczki@student.elte.hu\n",
    "* Óra időtartama: Szerda 12:?? - ??:??\n",
    "* Óra helyszíne: LD 3-107\n",
    "* A jelenlét kötelező, a szokásos három hiányzás engedélyezett\n",
    "* Számonkérés módja: nagy beadandó\n",
    "* _Legjobb lenne, ha mindenki hozna saját gépet, de a géptermi gépek is teljesen használhatók_"
   ]
  },
  {
   "cell_type": "markdown",
   "id": "1a36a631",
   "metadata": {},
   "source": [
    "## A félév menete\n",
    "\n",
    "* A python különböző alkalmazásait fogjuk megnézni\n",
    "* Kilépünk a Jupyter notebookok világából (python REPL, scriptek)\n",
    "* Néhány szoftverfejlesztési eszköz (IDE, verziókezelés)\n",
    "* Algoritmikus témák:\n",
    "  - Statisztika,\n",
    "  - AI/ML/Adatbányászat,\n",
    "  - Operációkutatás (solverek használata),\n",
    "  - Numerikus Analízis\n",
    "  - stb.\n",
    "* Intro és ismétlés (Első gyakorlat)\n",
    "* Szimbolikus programozás (Második gyakorlat)"
   ]
  },
  {
   "cell_type": "markdown",
   "id": "993168e0",
   "metadata": {},
   "source": [
    "# Ismétlés"
   ]
  },
  {
   "cell_type": "markdown",
   "id": "0e0192c1",
   "metadata": {},
   "source": [
    "## Jupyter notebook\n",
    "\n",
    "* Cella mágiák: https://ipython.readthedocs.io/en/stable/interactive/magics.html"
   ]
  },
  {
   "cell_type": "code",
   "execution_count": 21,
   "id": "b249d109",
   "metadata": {
    "ExecuteTime": {
     "end_time": "2023-03-01T09:54:33.982961Z",
     "start_time": "2023-03-01T09:54:33.969996Z"
    }
   },
   "outputs": [
    {
     "name": "stdout",
     "output_type": "stream",
     "text": [
      "Wall time: 5.99 ms\n"
     ]
    }
   ],
   "source": [
    "%%time \n",
    "for _ in range(10**5):\n",
    "    pass"
   ]
  },
  {
   "cell_type": "markdown",
   "id": "c412cf59",
   "metadata": {},
   "source": [
    "## Változók, egyszerű aritmetika, `print()`, `range()`, ciklusok, elágazások"
   ]
  },
  {
   "cell_type": "code",
   "execution_count": 1,
   "id": "acab9f04",
   "metadata": {
    "ExecuteTime": {
     "end_time": "2023-03-01T06:43:13.984729Z",
     "start_time": "2023-03-01T06:43:13.969765Z"
    }
   },
   "outputs": [
    {
     "name": "stdout",
     "output_type": "stream",
     "text": [
      "3 2 1 -2 0.3333333333333333 16\n"
     ]
    }
   ],
   "source": [
    "a = 1\n",
    "b = 2\n",
    "c, d = 3, 4\n",
    "print(a+b, b%c, d//c, a-c, a/c, b**d)"
   ]
  },
  {
   "cell_type": "code",
   "execution_count": 2,
   "id": "d4c92061",
   "metadata": {
    "ExecuteTime": {
     "end_time": "2023-03-01T06:43:14.016639Z",
     "start_time": "2023-03-01T06:43:13.987718Z"
    }
   },
   "outputs": [
    {
     "name": "stdout",
     "output_type": "stream",
     "text": [
      "2^1 == 2\n",
      "2^3 == 8\n",
      "2^5 == 32\n",
      "2^7 == 128\n",
      "2^9 == 512\n"
     ]
    }
   ],
   "source": [
    "for i in range(10):\n",
    "    if i%2 == 1:\n",
    "        print(f\"2^{i} == {2**i}\")"
   ]
  },
  {
   "cell_type": "code",
   "execution_count": 3,
   "id": "ab61b0df",
   "metadata": {
    "ExecuteTime": {
     "end_time": "2023-03-01T06:43:14.032596Z",
     "start_time": "2023-03-01T06:43:14.019632Z"
    }
   },
   "outputs": [
    {
     "name": "stdout",
     "output_type": "stream",
     "text": [
      "1\n",
      "2\n",
      "3\n",
      "4\n",
      "5\n",
      "6\n",
      "7\n",
      "8\n",
      "9\n",
      "10\n"
     ]
    }
   ],
   "source": [
    "cnt = 0\n",
    "while True:\n",
    "    cnt += 1\n",
    "    print(cnt)\n",
    "    if cnt >= 10:\n",
    "        break"
   ]
  },
  {
   "cell_type": "markdown",
   "id": "c3cd21cf",
   "metadata": {},
   "source": [
    "## Egyszerű adatszerkezetek (lista, `dict`, halmaz, tuple, stb.), comprehensions"
   ]
  },
  {
   "cell_type": "code",
   "execution_count": 4,
   "id": "2769f2a7",
   "metadata": {
    "ExecuteTime": {
     "end_time": "2023-03-01T06:43:14.064512Z",
     "start_time": "2023-03-01T06:43:14.059526Z"
    }
   },
   "outputs": [],
   "source": [
    "# list\n",
    "l = [1,2,3,4]\n",
    "\n",
    "# tuple\n",
    "t = (1,2,3)\n",
    "m = (1,)\n",
    "\n",
    "# not tuple\n",
    "not_tuple = (1)\n",
    "\n",
    "# dict\n",
    "d = {\"a\": 1,\n",
    "     \"b\": 2}\n",
    "#set\n",
    "s = {1,2,3,3,3}"
   ]
  },
  {
   "cell_type": "code",
   "execution_count": 5,
   "id": "62647308",
   "metadata": {
    "ExecuteTime": {
     "end_time": "2023-03-01T06:43:14.096428Z",
     "start_time": "2023-03-01T06:43:14.069499Z"
    }
   },
   "outputs": [
    {
     "data": {
      "text/plain": [
       "list"
      ]
     },
     "execution_count": 5,
     "metadata": {},
     "output_type": "execute_result"
    }
   ],
   "source": [
    "type(l)"
   ]
  },
  {
   "cell_type": "code",
   "execution_count": 6,
   "id": "747763ce",
   "metadata": {
    "ExecuteTime": {
     "end_time": "2023-03-01T06:43:14.112383Z",
     "start_time": "2023-03-01T06:43:14.099420Z"
    }
   },
   "outputs": [],
   "source": [
    "# list comprehension\n",
    "l = [2**i for i in range(10)]"
   ]
  },
  {
   "cell_type": "code",
   "execution_count": 7,
   "id": "0e8bcbcd",
   "metadata": {
    "ExecuteTime": {
     "end_time": "2023-03-01T06:43:14.128341Z",
     "start_time": "2023-03-01T06:43:14.115377Z"
    }
   },
   "outputs": [
    {
     "data": {
      "text/plain": [
       "{1: 2, 3: 8, 5: 32, 7: 128, 9: 512}"
      ]
     },
     "execution_count": 7,
     "metadata": {},
     "output_type": "execute_result"
    }
   ],
   "source": [
    "# dict comprehension\n",
    "d = {i: 2**i for i in range(1, 11, 2)}\n",
    "d"
   ]
  },
  {
   "cell_type": "markdown",
   "id": "eb922944",
   "metadata": {},
   "source": [
    "## Függvények (docstring, `*args`, `**kwargs`, default argumentumok)"
   ]
  },
  {
   "cell_type": "code",
   "execution_count": 8,
   "id": "5ec0fa1f",
   "metadata": {
    "ExecuteTime": {
     "end_time": "2023-03-01T06:43:14.176218Z",
     "start_time": "2023-03-01T06:43:14.167238Z"
    }
   },
   "outputs": [
    {
     "name": "stdout",
     "output_type": "stream",
     "text": [
      "0 : 1\n",
      "1 : 2\n",
      "2 : 3\n",
      "3 : 4\n",
      "<class 'dict'>\n",
      "('a', 'A')\n",
      "('b', 'B')\n",
      "('c', 'C')\n"
     ]
    }
   ],
   "source": [
    "def foo(*args, **kwargs):\n",
    "    \"\"\"\n",
    "        This is the help of this example function\n",
    "    \"\"\"\n",
    "    for i, arg in enumerate(args):\n",
    "        print(i, \":\", arg)\n",
    "    print(type(kwargs))\n",
    "    for i in kwargs.items():\n",
    "        print(i)\n",
    "    \n",
    "foo(1,2,3,4, a=\"A\", b=\"B\", c=\"C\")"
   ]
  },
  {
   "cell_type": "code",
   "execution_count": 9,
   "id": "b9453132",
   "metadata": {
    "ExecuteTime": {
     "end_time": "2023-03-01T06:43:14.192171Z",
     "start_time": "2023-03-01T06:43:14.179206Z"
    }
   },
   "outputs": [
    {
     "name": "stdout",
     "output_type": "stream",
     "text": [
      "Help on function foo in module __main__:\n",
      "\n",
      "foo(*args, **kwargs)\n",
      "    This is the help of this example function\n",
      "\n"
     ]
    }
   ],
   "source": [
    "help(foo)"
   ]
  },
  {
   "cell_type": "code",
   "execution_count": 22,
   "id": "814c7cc5",
   "metadata": {
    "ExecuteTime": {
     "end_time": "2023-03-01T09:55:43.208979Z",
     "start_time": "2023-03-01T09:55:43.151133Z"
    }
   },
   "outputs": [
    {
     "name": "stdout",
     "output_type": "stream",
     "text": [
      "8\n"
     ]
    },
    {
     "data": {
      "text/plain": [
       "8"
      ]
     },
     "execution_count": 22,
     "metadata": {},
     "output_type": "execute_result"
    }
   ],
   "source": [
    "def bar(arg1, arg2=2):\n",
    "    \"\"\"\n",
    "        Help of function bar\n",
    "    \"\"\"\n",
    "    # This is a comment\n",
    "    print(arg1 * arg2)\n",
    "    return arg1 * arg2 # This is the return value\n",
    "    \n",
    "bar(2, 4)"
   ]
  },
  {
   "cell_type": "markdown",
   "id": "f834a44a",
   "metadata": {},
   "source": [
    "## Osztályok"
   ]
  },
  {
   "cell_type": "code",
   "execution_count": 11,
   "id": "bfa46d39",
   "metadata": {
    "ExecuteTime": {
     "end_time": "2023-03-01T06:43:14.286918Z",
     "start_time": "2023-03-01T06:43:14.267968Z"
    }
   },
   "outputs": [],
   "source": [
    "class Vector3D:\n",
    "    \"\"\"\n",
    "        Docstring for MyClass\n",
    "    \"\"\"\n",
    "    def __init__(self, x, y, z = 0):\n",
    "        \"\"\"\n",
    "            Initialize vector with z=0 as default\n",
    "        \"\"\"\n",
    "        self.x = x\n",
    "        self.y = y\n",
    "        self.z = z\n",
    "    \n",
    "    def __str__(self):\n",
    "        return f\"({self.x}, {self.y}, {self.z})\"\n",
    "    \n",
    "    def set_coords(self, x=None, y=None, z=None):\n",
    "        \"\"\"\n",
    "            Set coordinates of vector\n",
    "        \"\"\"\n",
    "        if type(x) is int:\n",
    "            self.x = x\n",
    "        if type(y) is int:\n",
    "            self.y = y\n",
    "        if type(z) is int:\n",
    "            self.z = z\n",
    "\n",
    "    def __add__(self, other):\n",
    "        \"\"\"\n",
    "            Addition operation override\n",
    "        \"\"\"\n",
    "        x = self.x + other.x\n",
    "        y = self.y + other.y\n",
    "        z = self.z + other.z\n",
    "        \n",
    "        return Vector3D(x,y,z)"
   ]
  },
  {
   "cell_type": "code",
   "execution_count": 12,
   "id": "a7d176a0",
   "metadata": {
    "ExecuteTime": {
     "end_time": "2023-03-01T06:43:14.302873Z",
     "start_time": "2023-03-01T06:43:14.289915Z"
    }
   },
   "outputs": [
    {
     "name": "stdout",
     "output_type": "stream",
     "text": [
      "(1, 2, 0)\n",
      "(5, 1, 0)\n",
      "(8, -1, 1)\n"
     ]
    }
   ],
   "source": [
    "p = Vector3D(1,2)\n",
    "q = Vector3D(3,-2,1)\n",
    "print(p)\n",
    "p.set_coords(x=5, y=1)\n",
    "print(p)\n",
    "print(p+q)"
   ]
  },
  {
   "cell_type": "code",
   "execution_count": 13,
   "id": "2be6790e",
   "metadata": {
    "ExecuteTime": {
     "end_time": "2023-03-01T06:43:14.317834Z",
     "start_time": "2023-03-01T06:43:14.305867Z"
    }
   },
   "outputs": [
    {
     "name": "stdout",
     "output_type": "stream",
     "text": [
      "Help on class Vector3D in module __main__:\n",
      "\n",
      "class Vector3D(builtins.object)\n",
      " |  Vector3D(x, y, z=0)\n",
      " |  \n",
      " |  Docstring for MyClass\n",
      " |  \n",
      " |  Methods defined here:\n",
      " |  \n",
      " |  __add__(self, other)\n",
      " |      Addition operation override\n",
      " |  \n",
      " |  __init__(self, x, y, z=0)\n",
      " |      Initialize vector with z=0 as default\n",
      " |  \n",
      " |  __str__(self)\n",
      " |      Return str(self).\n",
      " |  \n",
      " |  set_coords(self, x=None, y=None, z=None)\n",
      " |      Set coordinates of vector\n",
      " |  \n",
      " |  ----------------------------------------------------------------------\n",
      " |  Data descriptors defined here:\n",
      " |  \n",
      " |  __dict__\n",
      " |      dictionary for instance variables (if defined)\n",
      " |  \n",
      " |  __weakref__\n",
      " |      list of weak references to the object (if defined)\n",
      "\n"
     ]
    }
   ],
   "source": [
    "help(Vector3D)"
   ]
  },
  {
   "cell_type": "markdown",
   "id": "e07e5506",
   "metadata": {},
   "source": [
    "## Fájlkezelés"
   ]
  },
  {
   "cell_type": "code",
   "execution_count": 25,
   "id": "6935e895",
   "metadata": {
    "ExecuteTime": {
     "end_time": "2023-03-01T06:43:14.397620Z",
     "start_time": "2023-03-01T06:43:14.371691Z"
    }
   },
   "outputs": [
    {
     "data": {
      "text/plain": [
       "['Ez', 'itt', 'a', 'file', 'tartalma']"
      ]
     },
     "execution_count": 25,
     "metadata": {},
     "output_type": "execute_result"
    }
   ],
   "source": [
    "with open(\"text.txt\", \"w\") as f:\n",
    "    f.write(\"Ez itt a file tartalma\")\n",
    "\n",
    "with open(\"text.txt\", \"r\") as f:\n",
    "    content = f.read()\n",
    "content.split()"
   ]
  },
  {
   "cell_type": "markdown",
   "id": "bc49e369",
   "metadata": {},
   "source": [
    "## Modulok (`numpy`, `matplotlib`, `pandas`, stb.)"
   ]
  },
  {
   "cell_type": "code",
   "execution_count": 27,
   "id": "4a98541e",
   "metadata": {
    "ExecuteTime": {
     "end_time": "2023-03-01T06:43:15.679197Z",
     "start_time": "2023-03-01T06:43:14.455468Z"
    }
   },
   "outputs": [],
   "source": [
    "import numpy as np\n",
    "import matplotlib.pyplot as plt\n",
    "import pandas as pd"
   ]
  },
  {
   "cell_type": "code",
   "execution_count": 36,
   "id": "9f6f284d",
   "metadata": {
    "ExecuteTime": {
     "end_time": "2023-03-01T06:43:15.695153Z",
     "start_time": "2023-03-01T06:43:15.682189Z"
    }
   },
   "outputs": [
    {
     "data": {
      "text/plain": [
       "((2, 2), (5,))"
      ]
     },
     "execution_count": 36,
     "metadata": {},
     "output_type": "execute_result"
    }
   ],
   "source": [
    "v = np.array([1,2,3,4,5])\n",
    "M = np.array([[1, 2],\n",
    "              [3, 4]])\n",
    "M.shape, v.shape"
   ]
  },
  {
   "cell_type": "code",
   "execution_count": 38,
   "id": "9bc52483",
   "metadata": {},
   "outputs": [
    {
     "data": {
      "text/plain": [
       "array([1, 2])"
      ]
     },
     "execution_count": 38,
     "metadata": {},
     "output_type": "execute_result"
    }
   ],
   "source": [
    "M[0,:]"
   ]
  },
  {
   "cell_type": "code",
   "execution_count": 18,
   "id": "395d8a44",
   "metadata": {
    "ExecuteTime": {
     "end_time": "2023-03-01T06:43:15.758984Z",
     "start_time": "2023-03-01T06:43:15.746019Z"
    }
   },
   "outputs": [],
   "source": [
    "# Standard normális eloszlás\n",
    "x = np.random.randn(100000)"
   ]
  },
  {
   "cell_type": "code",
   "execution_count": 19,
   "id": "8f9e3d57",
   "metadata": {
    "ExecuteTime": {
     "end_time": "2023-03-01T06:43:15.773944Z",
     "start_time": "2023-03-01T06:43:15.761976Z"
    }
   },
   "outputs": [],
   "source": [
    "# Normális eloszlás\n",
    "σ = .5\n",
    "μ = 2\n",
    "y = σ * np.random.randn(100000) + μ"
   ]
  },
  {
   "cell_type": "code",
   "execution_count": 20,
   "id": "68b50d28",
   "metadata": {
    "ExecuteTime": {
     "end_time": "2023-03-01T06:43:16.280590Z",
     "start_time": "2023-03-01T06:43:15.776935Z"
    }
   },
   "outputs": [
    {
     "data": {
      "image/png": "[encoded data removed]",
      "text/plain": [
       "<Figure size 432x288 with 1 Axes>"
      ]
     },
     "metadata": {
      "needs_background": "light"
     },
     "output_type": "display_data"
    }
   ],
   "source": [
    "plt.hist(y, bins=100)\n",
    "plt.show()"
   ]
  },
  {
   "cell_type": "code",
   "execution_count": 40,
   "id": "705cf9ef",
   "metadata": {
    "ExecuteTime": {
     "end_time": "2023-03-01T06:43:16.296546Z",
     "start_time": "2023-03-01T06:43:16.284577Z"
    }
   },
   "outputs": [],
   "source": [
    "checkerboard = np.array([[(-1)**(i+j) for i in range(8)] for j in range(8)])"
   ]
  },
  {
   "cell_type": "code",
   "execution_count": 41,
   "id": "d9e2841b",
   "metadata": {
    "ExecuteTime": {
     "end_time": "2023-03-01T06:43:16.577794Z",
     "start_time": "2023-03-01T06:43:16.302531Z"
    }
   },
   "outputs": [
    {
     "data": {
      "image/png": "[encoded data removed]",
      "text/plain": [
       "<Figure size 640x480 with 1 Axes>"
      ]
     },
     "metadata": {},
     "output_type": "display_data"
    }
   ],
   "source": [
    "plt.imshow(checkerboard, cmap=\"binary\")\n",
    "plt.show()"
   ]
  }
 ],
 "metadata": {
  "kernelspec": {
   "display_name": "Python 3 (ipykernel)",
   "language": "python",
   "name": "python3"
  },
  "language_info": {
   "codemirror_mode": {
    "name": "ipython",
    "version": 3
   },
   "file_extension": ".py",
   "mimetype": "text/x-python",
   "name": "python",
   "nbconvert_exporter": "python",
   "pygments_lexer": "ipython3",
   "version": "3.10.6"
  },
  "latex_envs": {
   "LaTeX_envs_menu_present": true,
   "autoclose": true,
   "autocomplete": true,
   "bibliofile": "biblio.bib",
   "cite_by": "apalike",
   "current_citInitial": 1,
   "eqLabelWithNumbers": true,
   "eqNumInitial": 1,
   "hotkeys": {
    "equation": "Ctrl-E",
    "itemize": "Ctrl-I"
   },
   "labels_anchors": false,
   "latex_user_defs": false,
   "report_style_numbering": true,
   "user_envs_cfg": false
  },
  "toc": {
   "base_numbering": 1,
   "nav_menu": {},
   "number_sections": true,
   "sideBar": true,
   "skip_h1_title": false,
   "title_cell": "Table of Contents",
   "title_sidebar": "Contents",
   "toc_cell": false,
   "toc_position": {},
   "toc_section_display": true,
   "toc_window_display": false
  },
  "varInspector": {
   "cols": {
    "lenName": 16,
    "lenType": 16,
    "lenVar": 40
   },
   "kernels_config": {
    "python": {
     "delete_cmd_postfix": "",
     "delete_cmd_prefix": "del ",
     "library": "var_list.py",
     "varRefreshCmd": "print(var_dic_list())"
    },
    "r": {
     "delete_cmd_postfix": ") ",
     "delete_cmd_prefix": "rm(",
     "library": "var_list.r",
     "varRefreshCmd": "cat(var_dic_list()) "
    }
   },
   "types_to_exclude": [
    "module",
    "function",
    "builtin_function_or_method",
    "instance",
    "_Feature"
   ],
   "window_display": false
  }
 },
 "nbformat": 4,
 "nbformat_minor": 5
}
